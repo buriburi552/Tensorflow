{
 "cells": [
  {
   "cell_type": "code",
   "execution_count": 1,
   "id": "b24220f7",
   "metadata": {},
   "outputs": [],
   "source": [
    "import tensorflow as tf\n",
    "import numpy as np\n",
    "import matplotlib.pyplot as plt"
   ]
  },
  {
   "cell_type": "code",
   "execution_count": 2,
   "id": "d7f70560",
   "metadata": {},
   "outputs": [],
   "source": [
    "X = np.array([-7.0, -4.0, -1.0, 2.0, 5.0, 8.0, 11.0, 14.0])\n",
    "y = np.array([3.0, 6.0, 9.0, 12.0, 15.0, 18.0, 21.0, 24.0])"
   ]
  },
  {
   "cell_type": "code",
   "execution_count": 3,
   "id": "e5588123",
   "metadata": {},
   "outputs": [
    {
     "data": {
      "text/plain": [
       "<matplotlib.collections.PathCollection at 0x16e25719fd0>"
      ]
     },
     "execution_count": 3,
     "metadata": {},
     "output_type": "execute_result"
    },
    {
     "data": {
      "image/png": "[encoded data removed]",
      "text/plain": [
       "<Figure size 432x288 with 1 Axes>"
      ]
     },
     "metadata": {
      "needs_background": "light"
     },
     "output_type": "display_data"
    }
   ],
   "source": [
    "plt.scatter(X,y)"
   ]
  },
  {
   "cell_type": "code",
   "execution_count": 4,
   "id": "1305b091",
   "metadata": {},
   "outputs": [
    {
     "data": {
      "text/plain": [
       "(<tf.Tensor: shape=(3,), dtype=string, numpy=array([b'bedroom', b'bathroom', b'garage'], dtype=object)>,\n",
       " <tf.Tensor: shape=(1,), dtype=int32, numpy=array([939700])>)"
      ]
     },
     "execution_count": 4,
     "metadata": {},
     "output_type": "execute_result"
    }
   ],
   "source": [
    "house_info = tf.constant(['bedroom', 'bathroom', 'garage'])\n",
    "house_price = tf.constant([939700])\n",
    "house_info, house_price"
   ]
  },
  {
   "cell_type": "code",
   "execution_count": 5,
   "id": "eb57572c",
   "metadata": {},
   "outputs": [],
   "source": [
    "input_shape = X.shape\n",
    "output_shape = y.shape"
   ]
  },
  {
   "cell_type": "code",
   "execution_count": 6,
   "id": "8eac2389",
   "metadata": {},
   "outputs": [
    {
     "data": {
      "text/plain": [
       "((8,), (8,))"
      ]
     },
     "execution_count": 6,
     "metadata": {},
     "output_type": "execute_result"
    }
   ],
   "source": [
    "input_shape, output_shape"
   ]
  },
  {
   "cell_type": "code",
   "execution_count": 7,
   "id": "dd158207",
   "metadata": {},
   "outputs": [
    {
     "data": {
      "text/plain": [
       "(<tf.Tensor: shape=(8,), dtype=float64, numpy=array([-7., -4., -1.,  2.,  5.,  8., 11., 14.])>,\n",
       " <tf.Tensor: shape=(8,), dtype=float64, numpy=array([ 3.,  6.,  9., 12., 15., 18., 21., 24.])>)"
      ]
     },
     "execution_count": 7,
     "metadata": {},
     "output_type": "execute_result"
    }
   ],
   "source": [
    "X = tf.constant(X)\n",
    "y = tf.constant(y)\n",
    "X, y"
   ]
  },
  {
   "cell_type": "code",
   "execution_count": 8,
   "id": "01902a35",
   "metadata": {},
   "outputs": [
    {
     "name": "stdout",
     "output_type": "stream",
     "text": [
      "Epoch 1/5\n",
      "1/1 [==============================] - 1s 1s/step - loss: 22.0288 - mae: 22.0288\n",
      "Epoch 2/5\n",
      "1/1 [==============================] - 0s 2ms/step - loss: 21.6357 - mae: 21.6357\n",
      "Epoch 3/5\n",
      "1/1 [==============================] - 0s 4ms/step - loss: 21.2426 - mae: 21.2426\n",
      "Epoch 4/5\n",
      "1/1 [==============================] - 0s 2ms/step - loss: 20.8494 - mae: 20.8494\n",
      "Epoch 5/5\n",
      "1/1 [==============================] - 0s 4ms/step - loss: 20.4767 - mae: 20.4767\n"
     ]
    },
    {
     "data": {
      "text/plain": [
       "<tensorflow.python.keras.callbacks.History at 0x16ec9034340>"
      ]
     },
     "execution_count": 8,
     "metadata": {},
     "output_type": "execute_result"
    }
   ],
   "source": [
    "tf.random.set_seed = 42\n",
    "\n",
    "model = tf.keras.Sequential()\n",
    "\n",
    "model.add(tf.keras.layers.Dense(units=1))\n",
    "\n",
    "model.compile(loss=tf.keras.losses.mae,\n",
    "             optimizer = tf.keras.optimizers.SGD(),\n",
    "             metrics=['mae'])\n",
    "\n",
    "model.fit(X, y, epochs=5)"
   ]
  },
  {
   "cell_type": "code",
   "execution_count": 9,
   "id": "fa9eaaa5",
   "metadata": {},
   "outputs": [
    {
     "data": {
      "text/plain": [
       "array([[-24.148401]], dtype=float32)"
      ]
     },
     "execution_count": 9,
     "metadata": {},
     "output_type": "execute_result"
    }
   ],
   "source": [
    "model.predict([17.0])"
   ]
  },
  {
   "cell_type": "code",
   "execution_count": 10,
   "id": "265af9df",
   "metadata": {
    "scrolled": true
   },
   "outputs": [
    {
     "name": "stdout",
     "output_type": "stream",
     "text": [
      "Epoch 1/100\n",
      "1/1 [==============================] - 0s 281ms/step - loss: 8.7621 - mae: 8.7621\n",
      "Epoch 2/100\n",
      "1/1 [==============================] - 0s 3ms/step - loss: 8.6296 - mae: 8.6296\n",
      "Epoch 3/100\n",
      "1/1 [==============================] - 0s 2ms/step - loss: 8.4971 - mae: 8.4971\n",
      "Epoch 4/100\n",
      "1/1 [==============================] - 0s 4ms/step - loss: 8.3646 - mae: 8.3646\n",
      "Epoch 5/100\n",
      "1/1 [==============================] - 0s 3ms/step - loss: 8.2321 - mae: 8.2321\n",
      "Epoch 6/100\n",
      "1/1 [==============================] - 0s 3ms/step - loss: 8.0996 - mae: 8.0996\n",
      "Epoch 7/100\n",
      "1/1 [==============================] - 0s 6ms/step - loss: 7.9671 - mae: 7.9671\n",
      "Epoch 8/100\n",
      "1/1 [==============================] - 0s 2ms/step - loss: 7.8346 - mae: 7.8346\n",
      "Epoch 9/100\n",
      "1/1 [==============================] - 0s 3ms/step - loss: 7.7021 - mae: 7.7021\n",
      "Epoch 10/100\n",
      "1/1 [==============================] - 0s 3ms/step - loss: 7.5696 - mae: 7.5696\n",
      "Epoch 11/100\n",
      "1/1 [==============================] - 0s 2ms/step - loss: 7.4371 - mae: 7.4371\n",
      "Epoch 12/100\n",
      "1/1 [==============================] - 0s 6ms/step - loss: 7.4175 - mae: 7.4175\n",
      "Epoch 13/100\n",
      "1/1 [==============================] - 0s 3ms/step - loss: 7.4119 - mae: 7.4119\n",
      "Epoch 14/100\n",
      "1/1 [==============================] - 0s 6ms/step - loss: 7.4062 - mae: 7.4062\n",
      "Epoch 15/100\n",
      "1/1 [==============================] - 0s 3ms/step - loss: 7.4006 - mae: 7.4006\n",
      "Epoch 16/100\n",
      "1/1 [==============================] - 0s 6ms/step - loss: 7.3950 - mae: 7.3950\n",
      "Epoch 17/100\n",
      "1/1 [==============================] - 0s 4ms/step - loss: 7.3894 - mae: 7.3894\n",
      "Epoch 18/100\n",
      "1/1 [==============================] - 0s 5ms/step - loss: 7.3838 - mae: 7.3838\n",
      "Epoch 19/100\n",
      "1/1 [==============================] - 0s 3ms/step - loss: 7.3781 - mae: 7.3781\n",
      "Epoch 20/100\n",
      "1/1 [==============================] - 0s 2ms/step - loss: 7.3725 - mae: 7.3725\n",
      "Epoch 21/100\n",
      "1/1 [==============================] - 0s 2ms/step - loss: 7.3669 - mae: 7.3669\n",
      "Epoch 22/100\n",
      "1/1 [==============================] - 0s 4ms/step - loss: 7.3612 - mae: 7.3612\n",
      "Epoch 23/100\n",
      "1/1 [==============================] - 0s 2ms/step - loss: 7.3556 - mae: 7.3556\n",
      "Epoch 24/100\n",
      "1/1 [==============================] - 0s 2ms/step - loss: 7.3500 - mae: 7.3500\n",
      "Epoch 25/100\n",
      "1/1 [==============================] - 0s 5ms/step - loss: 7.3444 - mae: 7.3444\n",
      "Epoch 26/100\n",
      "1/1 [==============================] - 0s 2ms/step - loss: 7.3387 - mae: 7.3387\n",
      "Epoch 27/100\n",
      "1/1 [==============================] - 0s 2ms/step - loss: 7.3331 - mae: 7.3331\n",
      "Epoch 28/100\n",
      "1/1 [==============================] - 0s 5ms/step - loss: 7.3275 - mae: 7.3275\n",
      "Epoch 29/100\n",
      "1/1 [==============================] - 0s 2ms/step - loss: 7.3219 - mae: 7.3219\n",
      "Epoch 30/100\n",
      "1/1 [==============================] - 0s 2ms/step - loss: 7.3163 - mae: 7.3163\n",
      "Epoch 31/100\n",
      "1/1 [==============================] - 0s 4ms/step - loss: 7.3106 - mae: 7.3106\n",
      "Epoch 32/100\n",
      "1/1 [==============================] - 0s 2ms/step - loss: 7.3050 - mae: 7.3050\n",
      "Epoch 33/100\n",
      "1/1 [==============================] - 0s 2ms/step - loss: 7.2994 - mae: 7.2994\n",
      "Epoch 34/100\n",
      "1/1 [==============================] - 0s 2ms/step - loss: 7.2937 - mae: 7.2937\n",
      "Epoch 35/100\n",
      "1/1 [==============================] - 0s 5ms/step - loss: 7.2881 - mae: 7.2881\n",
      "Epoch 36/100\n",
      "1/1 [==============================] - 0s 2ms/step - loss: 7.2825 - mae: 7.2825\n",
      "Epoch 37/100\n",
      "1/1 [==============================] - 0s 2ms/step - loss: 7.2769 - mae: 7.2769\n",
      "Epoch 38/100\n",
      "1/1 [==============================] - 0s 3ms/step - loss: 7.2713 - mae: 7.2713\n",
      "Epoch 39/100\n",
      "1/1 [==============================] - 0s 2ms/step - loss: 7.2656 - mae: 7.2656\n",
      "Epoch 40/100\n",
      "1/1 [==============================] - 0s 3ms/step - loss: 7.2600 - mae: 7.2600\n",
      "Epoch 41/100\n",
      "1/1 [==============================] - 0s 2ms/step - loss: 7.2544 - mae: 7.2544\n",
      "Epoch 42/100\n",
      "1/1 [==============================] - 0s 5ms/step - loss: 7.2488 - mae: 7.2488\n",
      "Epoch 43/100\n",
      "1/1 [==============================] - 0s 3ms/step - loss: 7.2431 - mae: 7.2431\n",
      "Epoch 44/100\n",
      "1/1 [==============================] - 0s 2ms/step - loss: 7.2375 - mae: 7.2375\n",
      "Epoch 45/100\n",
      "1/1 [==============================] - 0s 5ms/step - loss: 7.2319 - mae: 7.2319\n",
      "Epoch 46/100\n",
      "1/1 [==============================] - 0s 3ms/step - loss: 7.2262 - mae: 7.2262\n",
      "Epoch 47/100\n",
      "1/1 [==============================] - 0s 2ms/step - loss: 7.2206 - mae: 7.2206\n",
      "Epoch 48/100\n",
      "1/1 [==============================] - 0s 2ms/step - loss: 7.2150 - mae: 7.2150\n",
      "Epoch 49/100\n",
      "1/1 [==============================] - 0s 4ms/step - loss: 7.2094 - mae: 7.2094\n",
      "Epoch 50/100\n",
      "1/1 [==============================] - 0s 2ms/step - loss: 7.2038 - mae: 7.2038\n",
      "Epoch 51/100\n",
      "1/1 [==============================] - 0s 2ms/step - loss: 7.1981 - mae: 7.1981\n",
      "Epoch 52/100\n",
      "1/1 [==============================] - 0s 2ms/step - loss: 7.1925 - mae: 7.1925\n",
      "Epoch 53/100\n",
      "1/1 [==============================] - 0s 5ms/step - loss: 7.1869 - mae: 7.1869\n",
      "Epoch 54/100\n",
      "1/1 [==============================] - 0s 2ms/step - loss: 7.1813 - mae: 7.1813\n",
      "Epoch 55/100\n",
      "1/1 [==============================] - 0s 3ms/step - loss: 7.1756 - mae: 7.1756\n",
      "Epoch 56/100\n",
      "1/1 [==============================] - 0s 7ms/step - loss: 7.1700 - mae: 7.1700\n",
      "Epoch 57/100\n",
      "1/1 [==============================] - 0s 2ms/step - loss: 7.1644 - mae: 7.1644\n",
      "Epoch 58/100\n",
      "1/1 [==============================] - 0s 5ms/step - loss: 7.1587 - mae: 7.1587\n",
      "Epoch 59/100\n",
      "1/1 [==============================] - 0s 3ms/step - loss: 7.1531 - mae: 7.1531\n",
      "Epoch 60/100\n",
      "1/1 [==============================] - 0s 2ms/step - loss: 7.1475 - mae: 7.1475\n",
      "Epoch 61/100\n",
      "1/1 [==============================] - 0s 4ms/step - loss: 7.1419 - mae: 7.1419\n",
      "Epoch 62/100\n",
      "1/1 [==============================] - 0s 3ms/step - loss: 7.1363 - mae: 7.1363\n",
      "Epoch 63/100\n",
      "1/1 [==============================] - 0s 2ms/step - loss: 7.1306 - mae: 7.1306\n",
      "Epoch 64/100\n",
      "1/1 [==============================] - 0s 2ms/step - loss: 7.1250 - mae: 7.1250\n",
      "Epoch 65/100\n",
      "1/1 [==============================] - 0s 5ms/step - loss: 7.1194 - mae: 7.1194\n",
      "Epoch 66/100\n",
      "1/1 [==============================] - 0s 3ms/step - loss: 7.1137 - mae: 7.1137\n",
      "Epoch 67/100\n",
      "1/1 [==============================] - 0s 4ms/step - loss: 7.1081 - mae: 7.1081\n",
      "Epoch 68/100\n",
      "1/1 [==============================] - 0s 3ms/step - loss: 7.1025 - mae: 7.1025\n",
      "Epoch 69/100\n",
      "1/1 [==============================] - 0s 3ms/step - loss: 7.0969 - mae: 7.0969\n",
      "Epoch 70/100\n",
      "1/1 [==============================] - 0s 3ms/step - loss: 7.0913 - mae: 7.0913\n",
      "Epoch 71/100\n",
      "1/1 [==============================] - 0s 3ms/step - loss: 7.0856 - mae: 7.0856\n",
      "Epoch 72/100\n",
      "1/1 [==============================] - 0s 2ms/step - loss: 7.0800 - mae: 7.0800\n",
      "Epoch 73/100\n",
      "1/1 [==============================] - 0s 2ms/step - loss: 7.0744 - mae: 7.0744\n",
      "Epoch 74/100\n",
      "1/1 [==============================] - 0s 5ms/step - loss: 7.0688 - mae: 7.0688\n",
      "Epoch 75/100\n",
      "1/1 [==============================] - 0s 3ms/step - loss: 7.0631 - mae: 7.0631\n",
      "Epoch 76/100\n",
      "1/1 [==============================] - 0s 2ms/step - loss: 7.0575 - mae: 7.0575\n",
      "Epoch 77/100\n",
      "1/1 [==============================] - 0s 5ms/step - loss: 7.0519 - mae: 7.0519\n",
      "Epoch 78/100\n",
      "1/1 [==============================] - 0s 2ms/step - loss: 7.0463 - mae: 7.0463\n",
      "Epoch 79/100\n",
      "1/1 [==============================] - 0s 2ms/step - loss: 7.0406 - mae: 7.0406\n",
      "Epoch 80/100\n",
      "1/1 [==============================] - 0s 2ms/step - loss: 7.0350 - mae: 7.0350\n",
      "Epoch 81/100\n",
      "1/1 [==============================] - 0s 6ms/step - loss: 7.0294 - mae: 7.0294\n",
      "Epoch 82/100\n",
      "1/1 [==============================] - 0s 2ms/step - loss: 7.0238 - mae: 7.0238\n",
      "Epoch 83/100\n",
      "1/1 [==============================] - 0s 2ms/step - loss: 7.0181 - mae: 7.0181\n",
      "Epoch 84/100\n",
      "1/1 [==============================] - 0s 2ms/step - loss: 7.0125 - mae: 7.0125\n",
      "Epoch 85/100\n",
      "1/1 [==============================] - 0s 4ms/step - loss: 7.0069 - mae: 7.0069\n",
      "Epoch 86/100\n",
      "1/1 [==============================] - 0s 2ms/step - loss: 7.0013 - mae: 7.0013\n",
      "Epoch 87/100\n",
      "1/1 [==============================] - 0s 2ms/step - loss: 6.9956 - mae: 6.9956\n",
      "Epoch 88/100\n",
      "1/1 [==============================] - 0s 3ms/step - loss: 6.9900 - mae: 6.9900\n",
      "Epoch 89/100\n"
     ]
    },
    {
     "name": "stdout",
     "output_type": "stream",
     "text": [
      "1/1 [==============================] - 0s 3ms/step - loss: 6.9844 - mae: 6.9844\n",
      "Epoch 90/100\n",
      "1/1 [==============================] - 0s 2ms/step - loss: 6.9788 - mae: 6.9788\n",
      "Epoch 91/100\n",
      "1/1 [==============================] - 0s 2ms/step - loss: 6.9731 - mae: 6.9731\n",
      "Epoch 92/100\n",
      "1/1 [==============================] - 0s 6ms/step - loss: 6.9675 - mae: 6.9675\n",
      "Epoch 93/100\n",
      "1/1 [==============================] - 0s 2ms/step - loss: 6.9619 - mae: 6.9619\n",
      "Epoch 94/100\n",
      "1/1 [==============================] - 0s 2ms/step - loss: 6.9563 - mae: 6.9563\n",
      "Epoch 95/100\n",
      "1/1 [==============================] - 0s 7ms/step - loss: 6.9506 - mae: 6.9506\n",
      "Epoch 96/100\n",
      "1/1 [==============================] - 0s 2ms/step - loss: 6.9450 - mae: 6.9450\n",
      "Epoch 97/100\n",
      "1/1 [==============================] - 0s 4ms/step - loss: 6.9394 - mae: 6.9394\n",
      "Epoch 98/100\n",
      "1/1 [==============================] - 0s 4ms/step - loss: 6.9338 - mae: 6.9338\n",
      "Epoch 99/100\n",
      "1/1 [==============================] - 0s 2ms/step - loss: 6.9281 - mae: 6.9281\n",
      "Epoch 100/100\n",
      "1/1 [==============================] - 0s 2ms/step - loss: 6.9225 - mae: 6.9225\n"
     ]
    },
    {
     "data": {
      "text/plain": [
       "<tensorflow.python.keras.callbacks.History at 0x16ec9379f70>"
      ]
     },
     "execution_count": 10,
     "metadata": {},
     "output_type": "execute_result"
    }
   ],
   "source": [
    "tf.random.set_seed = 42\n",
    "\n",
    "model = tf.keras.Sequential()\n",
    "\n",
    "model.add(tf.keras.layers.Dense(units=1))\n",
    "\n",
    "model.compile(loss=tf.keras.losses.mae,\n",
    "             optimizer = tf.keras.optimizers.SGD(),\n",
    "             metrics=['mae'])\n",
    "\n",
    "model.fit(X, y, epochs=100)"
   ]
  },
  {
   "cell_type": "code",
   "execution_count": 11,
   "id": "0f6d6810",
   "metadata": {},
   "outputs": [
    {
     "data": {
      "text/plain": [
       "array([[30.33494]], dtype=float32)"
      ]
     },
     "execution_count": 11,
     "metadata": {},
     "output_type": "execute_result"
    }
   ],
   "source": [
    "model.predict([17.0])"
   ]
  },
  {
   "cell_type": "code",
   "execution_count": 12,
   "id": "69d02ce1",
   "metadata": {},
   "outputs": [
    {
     "name": "stdout",
     "output_type": "stream",
     "text": [
      "Epoch 1/100\n",
      "1/1 [==============================] - 0s 425ms/step - loss: 14.3607 - mae: 14.3607\n",
      "Epoch 2/100\n",
      "1/1 [==============================] - 0s 2ms/step - loss: 14.2231 - mae: 14.2231\n",
      "Epoch 3/100\n",
      "1/1 [==============================] - 0s 5ms/step - loss: 14.0898 - mae: 14.0898\n",
      "Epoch 4/100\n",
      "1/1 [==============================] - 0s 3ms/step - loss: 13.9600 - mae: 13.9600\n",
      "Epoch 5/100\n",
      "1/1 [==============================] - 0s 8ms/step - loss: 13.8331 - mae: 13.8331\n",
      "Epoch 6/100\n",
      "1/1 [==============================] - 0s 4ms/step - loss: 13.7085 - mae: 13.7085\n",
      "Epoch 7/100\n",
      "1/1 [==============================] - 0s 5ms/step - loss: 13.5855 - mae: 13.5855\n",
      "Epoch 8/100\n",
      "1/1 [==============================] - 0s 3ms/step - loss: 13.4637 - mae: 13.4637\n",
      "Epoch 9/100\n",
      "1/1 [==============================] - 0s 4ms/step - loss: 13.3423 - mae: 13.3423\n",
      "Epoch 10/100\n",
      "1/1 [==============================] - 0s 4ms/step - loss: 13.2208 - mae: 13.2208\n",
      "Epoch 11/100\n",
      "1/1 [==============================] - 0s 8ms/step - loss: 13.0986 - mae: 13.0986\n",
      "Epoch 12/100\n",
      "1/1 [==============================] - 0s 4ms/step - loss: 12.9751 - mae: 12.9751\n",
      "Epoch 13/100\n",
      "1/1 [==============================] - 0s 9ms/step - loss: 12.8496 - mae: 12.8496\n",
      "Epoch 14/100\n",
      "1/1 [==============================] - 0s 7ms/step - loss: 12.7217 - mae: 12.7217\n",
      "Epoch 15/100\n",
      "1/1 [==============================] - 0s 4ms/step - loss: 12.5907 - mae: 12.5907\n",
      "Epoch 16/100\n",
      "1/1 [==============================] - 0s 6ms/step - loss: 12.4559 - mae: 12.4559\n",
      "Epoch 17/100\n",
      "1/1 [==============================] - 0s 3ms/step - loss: 12.3167 - mae: 12.3167\n",
      "Epoch 18/100\n",
      "1/1 [==============================] - 0s 6ms/step - loss: 12.1724 - mae: 12.1724\n",
      "Epoch 19/100\n",
      "1/1 [==============================] - 0s 3ms/step - loss: 12.0224 - mae: 12.0224\n",
      "Epoch 20/100\n",
      "1/1 [==============================] - 0s 8ms/step - loss: 11.8658 - mae: 11.8658\n",
      "Epoch 21/100\n",
      "1/1 [==============================] - 0s 3ms/step - loss: 11.7020 - mae: 11.7020\n",
      "Epoch 22/100\n",
      "1/1 [==============================] - 0s 6ms/step - loss: 11.5301 - mae: 11.5301\n",
      "Epoch 23/100\n",
      "1/1 [==============================] - 0s 5ms/step - loss: 11.3493 - mae: 11.3493\n",
      "Epoch 24/100\n",
      "1/1 [==============================] - 0s 4ms/step - loss: 11.1588 - mae: 11.1588\n",
      "Epoch 25/100\n",
      "1/1 [==============================] - 0s 3ms/step - loss: 10.9575 - mae: 10.9575\n",
      "Epoch 26/100\n",
      "1/1 [==============================] - 0s 10ms/step - loss: 10.7446 - mae: 10.7446\n",
      "Epoch 27/100\n",
      "1/1 [==============================] - 0s 5ms/step - loss: 10.5189 - mae: 10.5189\n",
      "Epoch 28/100\n",
      "1/1 [==============================] - 0s 5ms/step - loss: 10.2793 - mae: 10.2793\n",
      "Epoch 29/100\n",
      "1/1 [==============================] - 0s 6ms/step - loss: 10.0248 - mae: 10.0248\n",
      "Epoch 30/100\n",
      "1/1 [==============================] - 0s 3ms/step - loss: 9.7539 - mae: 9.7539\n",
      "Epoch 31/100\n",
      "1/1 [==============================] - 0s 10ms/step - loss: 9.4655 - mae: 9.4655\n",
      "Epoch 32/100\n",
      "1/1 [==============================] - 0s 3ms/step - loss: 9.1580 - mae: 9.1580\n",
      "Epoch 33/100\n",
      "1/1 [==============================] - 0s 5ms/step - loss: 8.8299 - mae: 8.8299\n",
      "Epoch 34/100\n",
      "1/1 [==============================] - 0s 4ms/step - loss: 8.4796 - mae: 8.4796\n",
      "Epoch 35/100\n",
      "1/1 [==============================] - 0s 3ms/step - loss: 8.1053 - mae: 8.1053\n",
      "Epoch 36/100\n",
      "1/1 [==============================] - 0s 5ms/step - loss: 7.7053 - mae: 7.7053\n",
      "Epoch 37/100\n",
      "1/1 [==============================] - 0s 3ms/step - loss: 7.2774 - mae: 7.2774\n",
      "Epoch 38/100\n",
      "1/1 [==============================] - 0s 6ms/step - loss: 7.0959 - mae: 7.0959\n",
      "Epoch 39/100\n",
      "1/1 [==============================] - 0s 5ms/step - loss: 7.0824 - mae: 7.0824\n",
      "Epoch 40/100\n",
      "1/1 [==============================] - 0s 3ms/step - loss: 7.0689 - mae: 7.0689\n",
      "Epoch 41/100\n",
      "1/1 [==============================] - 0s 6ms/step - loss: 7.0553 - mae: 7.0553\n",
      "Epoch 42/100\n",
      "1/1 [==============================] - 0s 4ms/step - loss: 7.0417 - mae: 7.0417\n",
      "Epoch 43/100\n",
      "1/1 [==============================] - 0s 6ms/step - loss: 7.0281 - mae: 7.0281\n",
      "Epoch 44/100\n",
      "1/1 [==============================] - 0s 3ms/step - loss: 7.0145 - mae: 7.0145\n",
      "Epoch 45/100\n",
      "1/1 [==============================] - 0s 7ms/step - loss: 7.0008 - mae: 7.0008\n",
      "Epoch 46/100\n",
      "1/1 [==============================] - 0s 3ms/step - loss: 6.9870 - mae: 6.9870\n",
      "Epoch 47/100\n",
      "1/1 [==============================] - 0s 9ms/step - loss: 6.9733 - mae: 6.9733\n",
      "Epoch 48/100\n",
      "1/1 [==============================] - 0s 4ms/step - loss: 6.9595 - mae: 6.9595\n",
      "Epoch 49/100\n",
      "1/1 [==============================] - 0s 7ms/step - loss: 6.9456 - mae: 6.9456\n",
      "Epoch 50/100\n",
      "1/1 [==============================] - 0s 5ms/step - loss: 6.9317 - mae: 6.9317\n",
      "Epoch 51/100\n",
      "1/1 [==============================] - 0s 4ms/step - loss: 6.9177 - mae: 6.9177\n",
      "Epoch 52/100\n",
      "1/1 [==============================] - 0s 6ms/step - loss: 6.9037 - mae: 6.9037\n",
      "Epoch 53/100\n",
      "1/1 [==============================] - 0s 4ms/step - loss: 6.8896 - mae: 6.8896\n",
      "Epoch 54/100\n",
      "1/1 [==============================] - 0s 10ms/step - loss: 6.8755 - mae: 6.8755\n",
      "Epoch 55/100\n",
      "1/1 [==============================] - 0s 3ms/step - loss: 6.8613 - mae: 6.8613\n",
      "Epoch 56/100\n",
      "1/1 [==============================] - 0s 10ms/step - loss: 6.8471 - mae: 6.8471\n",
      "Epoch 57/100\n",
      "1/1 [==============================] - 0s 2ms/step - loss: 6.8328 - mae: 6.8328\n",
      "Epoch 58/100\n",
      "1/1 [==============================] - 0s 7ms/step - loss: 6.8185 - mae: 6.8185\n",
      "Epoch 59/100\n",
      "1/1 [==============================] - 0s 3ms/step - loss: 6.8040 - mae: 6.8040\n",
      "Epoch 60/100\n",
      "1/1 [==============================] - 0s 8ms/step - loss: 6.7895 - mae: 6.7895\n",
      "Epoch 61/100\n",
      "1/1 [==============================] - 0s 3ms/step - loss: 6.7750 - mae: 6.7750\n",
      "Epoch 62/100\n",
      "1/1 [==============================] - 0s 5ms/step - loss: 6.7646 - mae: 6.7646\n",
      "Epoch 63/100\n",
      "1/1 [==============================] - 0s 3ms/step - loss: 6.7618 - mae: 6.7618\n",
      "Epoch 64/100\n",
      "1/1 [==============================] - 0s 6ms/step - loss: 6.7476 - mae: 6.7476\n",
      "Epoch 65/100\n",
      "1/1 [==============================] - 0s 3ms/step - loss: 6.7333 - mae: 6.7333\n",
      "Epoch 66/100\n",
      "1/1 [==============================] - 0s 6ms/step - loss: 6.7190 - mae: 6.7190\n",
      "Epoch 67/100\n",
      "1/1 [==============================] - 0s 3ms/step - loss: 6.7046 - mae: 6.7046\n",
      "Epoch 68/100\n",
      "1/1 [==============================] - 0s 2ms/step - loss: 6.6901 - mae: 6.6901\n",
      "Epoch 69/100\n",
      "1/1 [==============================] - 0s 5ms/step - loss: 6.6755 - mae: 6.6755\n",
      "Epoch 70/100\n",
      "1/1 [==============================] - 0s 3ms/step - loss: 6.6608 - mae: 6.6608\n",
      "Epoch 71/100\n",
      "1/1 [==============================] - 0s 2ms/step - loss: 6.6461 - mae: 6.6461\n",
      "Epoch 72/100\n",
      "1/1 [==============================] - 0s 5ms/step - loss: 6.6312 - mae: 6.6312\n",
      "Epoch 73/100\n",
      "1/1 [==============================] - 0s 3ms/step - loss: 6.6163 - mae: 6.6163\n",
      "Epoch 74/100\n",
      "1/1 [==============================] - 0s 2ms/step - loss: 6.6013 - mae: 6.6013\n",
      "Epoch 75/100\n",
      "1/1 [==============================] - 0s 4ms/step - loss: 6.5862 - mae: 6.5862\n",
      "Epoch 76/100\n",
      "1/1 [==============================] - 0s 4ms/step - loss: 6.5710 - mae: 6.5710\n",
      "Epoch 77/100\n",
      "1/1 [==============================] - 0s 2ms/step - loss: 6.5557 - mae: 6.5557\n",
      "Epoch 78/100\n",
      "1/1 [==============================] - 0s 2ms/step - loss: 6.5407 - mae: 6.5407\n",
      "Epoch 79/100\n",
      "1/1 [==============================] - 0s 3ms/step - loss: 6.5452 - mae: 6.5452\n",
      "Epoch 80/100\n",
      "1/1 [==============================] - 0s 2ms/step - loss: 6.5301 - mae: 6.5301\n",
      "Epoch 81/100\n",
      "1/1 [==============================] - 0s 2ms/step - loss: 6.5150 - mae: 6.5150\n",
      "Epoch 82/100\n",
      "1/1 [==============================] - 0s 4ms/step - loss: 6.4998 - mae: 6.4998\n",
      "Epoch 83/100\n",
      "1/1 [==============================] - 0s 2ms/step - loss: 6.4844 - mae: 6.4844\n",
      "Epoch 84/100\n",
      "1/1 [==============================] - 0s 3ms/step - loss: 6.4690 - mae: 6.4690\n",
      "Epoch 85/100\n",
      "1/1 [==============================] - 0s 3ms/step - loss: 6.4534 - mae: 6.4534\n",
      "Epoch 86/100\n",
      "1/1 [==============================] - 0s 4ms/step - loss: 6.4377 - mae: 6.4377\n",
      "Epoch 87/100\n",
      "1/1 [==============================] - 0s 2ms/step - loss: 6.4219 - mae: 6.4219\n",
      "Epoch 88/100\n"
     ]
    },
    {
     "name": "stdout",
     "output_type": "stream",
     "text": [
      "1/1 [==============================] - 0s 2ms/step - loss: 6.4060 - mae: 6.4060\n",
      "Epoch 89/100\n",
      "1/1 [==============================] - 0s 5ms/step - loss: 6.3900 - mae: 6.3900\n",
      "Epoch 90/100\n",
      "1/1 [==============================] - 0s 3ms/step - loss: 6.3738 - mae: 6.3738\n",
      "Epoch 91/100\n",
      "1/1 [==============================] - 0s 3ms/step - loss: 6.3576 - mae: 6.3576\n",
      "Epoch 92/100\n",
      "1/1 [==============================] - 0s 4ms/step - loss: 6.3605 - mae: 6.3605\n",
      "Epoch 93/100\n",
      "1/1 [==============================] - 0s 2ms/step - loss: 6.3487 - mae: 6.3487\n",
      "Epoch 94/100\n",
      "1/1 [==============================] - 0s 3ms/step - loss: 6.3326 - mae: 6.3326\n",
      "Epoch 95/100\n",
      "1/1 [==============================] - 0s 4ms/step - loss: 6.3164 - mae: 6.3164\n",
      "Epoch 96/100\n",
      "1/1 [==============================] - 0s 3ms/step - loss: 6.3001 - mae: 6.3001\n",
      "Epoch 97/100\n",
      "1/1 [==============================] - 0s 3ms/step - loss: 6.2836 - mae: 6.2836\n",
      "Epoch 98/100\n",
      "1/1 [==============================] - 0s 3ms/step - loss: 6.2670 - mae: 6.2670\n",
      "Epoch 99/100\n",
      "1/1 [==============================] - 0s 4ms/step - loss: 6.2502 - mae: 6.2502\n",
      "Epoch 100/100\n",
      "1/1 [==============================] - 0s 2ms/step - loss: 6.2334 - mae: 6.2334\n"
     ]
    },
    {
     "data": {
      "text/plain": [
       "<tensorflow.python.keras.callbacks.History at 0x16edb7c01f0>"
      ]
     },
     "execution_count": 12,
     "metadata": {},
     "output_type": "execute_result"
    }
   ],
   "source": [
    "tf.random.set_seed = 42\n",
    "\n",
    "model = tf.keras.Sequential()\n",
    "\n",
    "model.add(tf.keras.layers.Dense(units=1))\n",
    "model.add(tf.keras.layers.Dense(units=1))\n",
    "\n",
    "model.compile(loss=tf.keras.losses.mae,\n",
    "             optimizer = tf.keras.optimizers.SGD(),\n",
    "             metrics=['mae'])\n",
    "\n",
    "model.fit(X, y, epochs=100)"
   ]
  },
  {
   "cell_type": "code",
   "execution_count": 13,
   "id": "4d59d037",
   "metadata": {},
   "outputs": [
    {
     "data": {
      "text/plain": [
       "array([[31.259212]], dtype=float32)"
      ]
     },
     "execution_count": 13,
     "metadata": {},
     "output_type": "execute_result"
    }
   ],
   "source": [
    "model.predict([17.0])"
   ]
  },
  {
   "cell_type": "code",
   "execution_count": 14,
   "id": "5e0cfaa5",
   "metadata": {},
   "outputs": [
    {
     "name": "stdout",
     "output_type": "stream",
     "text": [
      "Epoch 1/100\n",
      "1/1 [==============================] - 0s 301ms/step - loss: 14.8311 - mae: 14.8311\n",
      "Epoch 2/100\n",
      "1/1 [==============================] - 0s 4ms/step - loss: 14.2245 - mae: 14.2245\n",
      "Epoch 3/100\n",
      "1/1 [==============================] - 0s 2ms/step - loss: 13.6378 - mae: 13.6378\n",
      "Epoch 4/100\n",
      "1/1 [==============================] - 0s 2ms/step - loss: 13.0646 - mae: 13.0646\n",
      "Epoch 5/100\n",
      "1/1 [==============================] - 0s 4ms/step - loss: 12.5017 - mae: 12.5017\n",
      "Epoch 6/100\n",
      "1/1 [==============================] - 0s 3ms/step - loss: 11.9391 - mae: 11.9391\n",
      "Epoch 7/100\n",
      "1/1 [==============================] - 0s 3ms/step - loss: 11.3768 - mae: 11.3768\n",
      "Epoch 8/100\n",
      "1/1 [==============================] - 0s 7ms/step - loss: 10.8008 - mae: 10.8008\n",
      "Epoch 9/100\n",
      "1/1 [==============================] - 0s 4ms/step - loss: 10.2069 - mae: 10.2069\n",
      "Epoch 10/100\n",
      "1/1 [==============================] - 0s 5ms/step - loss: 9.6450 - mae: 9.6450\n",
      "Epoch 11/100\n",
      "1/1 [==============================] - 0s 9ms/step - loss: 9.0682 - mae: 9.0682\n",
      "Epoch 12/100\n",
      "1/1 [==============================] - 0s 4ms/step - loss: 8.4587 - mae: 8.4587\n",
      "Epoch 13/100\n",
      "1/1 [==============================] - 0s 5ms/step - loss: 7.8084 - mae: 7.8084\n",
      "Epoch 14/100\n",
      "1/1 [==============================] - 0s 3ms/step - loss: 7.1123 - mae: 7.1123\n",
      "Epoch 15/100\n",
      "1/1 [==============================] - 0s 6ms/step - loss: 6.3634 - mae: 6.3634\n",
      "Epoch 16/100\n",
      "1/1 [==============================] - 0s 2ms/step - loss: 5.5632 - mae: 5.5632\n",
      "Epoch 17/100\n",
      "1/1 [==============================] - 0s 9ms/step - loss: 4.6980 - mae: 4.6980\n",
      "Epoch 18/100\n",
      "1/1 [==============================] - 0s 3ms/step - loss: 4.0561 - mae: 4.0561\n",
      "Epoch 19/100\n",
      "1/1 [==============================] - 0s 8ms/step - loss: 3.9589 - mae: 3.9589\n",
      "Epoch 20/100\n",
      "1/1 [==============================] - 0s 3ms/step - loss: 3.9197 - mae: 3.9197\n",
      "Epoch 21/100\n",
      "1/1 [==============================] - 0s 4ms/step - loss: 3.9340 - mae: 3.9340\n",
      "Epoch 22/100\n",
      "1/1 [==============================] - 0s 4ms/step - loss: 3.9248 - mae: 3.9248\n",
      "Epoch 23/100\n",
      "1/1 [==============================] - 0s 10ms/step - loss: 3.9082 - mae: 3.9082\n",
      "Epoch 24/100\n",
      "1/1 [==============================] - 0s 3ms/step - loss: 3.9317 - mae: 3.9317\n",
      "Epoch 25/100\n",
      "1/1 [==============================] - 0s 7ms/step - loss: 3.8918 - mae: 3.8918\n",
      "Epoch 26/100\n",
      "1/1 [==============================] - 0s 3ms/step - loss: 3.9474 - mae: 3.9474\n",
      "Epoch 27/100\n",
      "1/1 [==============================] - 0s 4ms/step - loss: 3.8789 - mae: 3.8789\n",
      "Epoch 28/100\n",
      "1/1 [==============================] - 0s 3ms/step - loss: 3.9395 - mae: 3.9395\n",
      "Epoch 29/100\n",
      "1/1 [==============================] - 0s 4ms/step - loss: 3.8851 - mae: 3.8851\n",
      "Epoch 30/100\n",
      "1/1 [==============================] - 0s 3ms/step - loss: 3.9135 - mae: 3.9135\n",
      "Epoch 31/100\n",
      "1/1 [==============================] - 0s 5ms/step - loss: 3.8915 - mae: 3.8915\n",
      "Epoch 32/100\n",
      "1/1 [==============================] - 0s 4ms/step - loss: 3.8893 - mae: 3.8893\n",
      "Epoch 33/100\n",
      "1/1 [==============================] - 0s 3ms/step - loss: 3.9082 - mae: 3.9082\n",
      "Epoch 34/100\n",
      "1/1 [==============================] - 0s 4ms/step - loss: 3.8706 - mae: 3.8706\n",
      "Epoch 35/100\n",
      "1/1 [==============================] - 0s 4ms/step - loss: 3.9146 - mae: 3.9146\n",
      "Epoch 36/100\n",
      "1/1 [==============================] - 0s 9ms/step - loss: 3.8465 - mae: 3.8465\n",
      "Epoch 37/100\n",
      "1/1 [==============================] - 0s 4ms/step - loss: 3.9177 - mae: 3.9177\n",
      "Epoch 38/100\n",
      "1/1 [==============================] - 0s 6ms/step - loss: 3.8532 - mae: 3.8532\n",
      "Epoch 39/100\n",
      "1/1 [==============================] - 0s 3ms/step - loss: 3.8914 - mae: 3.8914\n",
      "Epoch 40/100\n",
      "1/1 [==============================] - 0s 5ms/step - loss: 3.8621 - mae: 3.8621\n",
      "Epoch 41/100\n",
      "1/1 [==============================] - 0s 5ms/step - loss: 3.8745 - mae: 3.8745\n",
      "Epoch 42/100\n",
      "1/1 [==============================] - 0s 4ms/step - loss: 3.8767 - mae: 3.8767\n",
      "Epoch 43/100\n",
      "1/1 [==============================] - 0s 7ms/step - loss: 3.8478 - mae: 3.8478\n",
      "Epoch 44/100\n",
      "1/1 [==============================] - 0s 5ms/step - loss: 3.8834 - mae: 3.8834\n",
      "Epoch 45/100\n",
      "1/1 [==============================] - 0s 3ms/step - loss: 3.8209 - mae: 3.8209\n",
      "Epoch 46/100\n",
      "1/1 [==============================] - 0s 4ms/step - loss: 3.8904 - mae: 3.8904\n",
      "Epoch 47/100\n",
      "1/1 [==============================] - 0s 3ms/step - loss: 3.8225 - mae: 3.8225\n",
      "Epoch 48/100\n",
      "1/1 [==============================] - 0s 4ms/step - loss: 3.8709 - mae: 3.8709\n",
      "Epoch 49/100\n",
      "1/1 [==============================] - 0s 5ms/step - loss: 3.8396 - mae: 3.8396\n",
      "Epoch 50/100\n",
      "1/1 [==============================] - 0s 4ms/step - loss: 3.8506 - mae: 3.8506\n",
      "Epoch 51/100\n",
      "1/1 [==============================] - 0s 3ms/step - loss: 3.8464 - mae: 3.8464\n",
      "Epoch 52/100\n",
      "1/1 [==============================] - 0s 3ms/step - loss: 3.8236 - mae: 3.8236\n",
      "Epoch 53/100\n",
      "1/1 [==============================] - 0s 3ms/step - loss: 3.8534 - mae: 3.8534\n",
      "Epoch 54/100\n",
      "1/1 [==============================] - 0s 3ms/step - loss: 3.7965 - mae: 3.7965\n",
      "Epoch 55/100\n",
      "1/1 [==============================] - 0s 5ms/step - loss: 3.8606 - mae: 3.8606\n",
      "Epoch 56/100\n",
      "1/1 [==============================] - 0s 3ms/step - loss: 3.7960 - mae: 3.7960\n",
      "Epoch 57/100\n",
      "1/1 [==============================] - 0s 8ms/step - loss: 3.8526 - mae: 3.8526\n",
      "Epoch 58/100\n",
      "1/1 [==============================] - 0s 2ms/step - loss: 3.8102 - mae: 3.8102\n",
      "Epoch 59/100\n",
      "1/1 [==============================] - 0s 3ms/step - loss: 3.8253 - mae: 3.8253\n",
      "Epoch 60/100\n",
      "1/1 [==============================] - 0s 5ms/step - loss: 3.8174 - mae: 3.8174\n",
      "Epoch 61/100\n",
      "1/1 [==============================] - 0s 3ms/step - loss: 3.7980 - mae: 3.7980\n",
      "Epoch 62/100\n",
      "1/1 [==============================] - 0s 7ms/step - loss: 3.8246 - mae: 3.8246\n",
      "Epoch 63/100\n",
      "1/1 [==============================] - 0s 3ms/step - loss: 3.7707 - mae: 3.7707\n",
      "Epoch 64/100\n",
      "1/1 [==============================] - 0s 3ms/step - loss: 3.8347 - mae: 3.8347\n",
      "Epoch 65/100\n",
      "1/1 [==============================] - 0s 4ms/step - loss: 3.7749 - mae: 3.7749\n",
      "Epoch 66/100\n",
      "1/1 [==============================] - 0s 3ms/step - loss: 3.8262 - mae: 3.8262\n",
      "Epoch 67/100\n",
      "1/1 [==============================] - 0s 2ms/step - loss: 3.7820 - mae: 3.7820\n",
      "Epoch 68/100\n",
      "1/1 [==============================] - 0s 5ms/step - loss: 3.7986 - mae: 3.7986\n",
      "Epoch 69/100\n",
      "1/1 [==============================] - 0s 2ms/step - loss: 3.7894 - mae: 3.7894\n",
      "Epoch 70/100\n",
      "1/1 [==============================] - 0s 3ms/step - loss: 3.7712 - mae: 3.7712\n",
      "Epoch 71/100\n",
      "1/1 [==============================] - 0s 4ms/step - loss: 3.7969 - mae: 3.7969\n",
      "Epoch 72/100\n",
      "1/1 [==============================] - 0s 2ms/step - loss: 3.7467 - mae: 3.7467\n",
      "Epoch 73/100\n",
      "1/1 [==============================] - 0s 2ms/step - loss: 3.8145 - mae: 3.8145\n",
      "Epoch 74/100\n",
      "1/1 [==============================] - 0s 7ms/step - loss: 3.7476 - mae: 3.7476\n",
      "Epoch 75/100\n",
      "1/1 [==============================] - 0s 2ms/step - loss: 3.7986 - mae: 3.7986\n",
      "Epoch 76/100\n",
      "1/1 [==============================] - 0s 3ms/step - loss: 3.7549 - mae: 3.7549\n",
      "Epoch 77/100\n",
      "1/1 [==============================] - 0s 4ms/step - loss: 3.7707 - mae: 3.7707\n",
      "Epoch 78/100\n",
      "1/1 [==============================] - 0s 2ms/step - loss: 3.7625 - mae: 3.7625\n",
      "Epoch 79/100\n",
      "1/1 [==============================] - 0s 2ms/step - loss: 3.7430 - mae: 3.7430\n",
      "Epoch 80/100\n",
      "1/1 [==============================] - 0s 11ms/step - loss: 3.7730 - mae: 3.7730\n",
      "Epoch 81/100\n",
      "1/1 [==============================] - 0s 2ms/step - loss: 3.7246 - mae: 3.7246\n",
      "Epoch 82/100\n",
      "1/1 [==============================] - 0s 4ms/step - loss: 3.7880 - mae: 3.7880\n",
      "Epoch 83/100\n",
      "1/1 [==============================] - 0s 5ms/step - loss: 3.7213 - mae: 3.7213\n",
      "Epoch 84/100\n",
      "1/1 [==============================] - 0s 2ms/step - loss: 3.7697 - mae: 3.7697\n",
      "Epoch 85/100\n",
      "1/1 [==============================] - 0s 3ms/step - loss: 3.7289 - mae: 3.7289\n",
      "Epoch 86/100\n",
      "1/1 [==============================] - 0s 5ms/step - loss: 3.7416 - mae: 3.7416\n",
      "Epoch 87/100\n",
      "1/1 [==============================] - 0s 2ms/step - loss: 3.7367 - mae: 3.7367\n",
      "Epoch 88/100\n",
      "1/1 [==============================] - 0s 2ms/step - loss: 3.7162 - mae: 3.7162\n"
     ]
    },
    {
     "name": "stdout",
     "output_type": "stream",
     "text": [
      "Epoch 89/100\n",
      "1/1 [==============================] - 0s 5ms/step - loss: 3.7548 - mae: 3.7548\n",
      "Epoch 90/100\n",
      "1/1 [==============================] - 0s 3ms/step - loss: 3.6945 - mae: 3.6945\n",
      "Epoch 91/100\n",
      "1/1 [==============================] - 0s 3ms/step - loss: 3.7626 - mae: 3.7626\n",
      "Epoch 92/100\n",
      "1/1 [==============================] - 0s 5ms/step - loss: 3.6961 - mae: 3.6961\n",
      "Epoch 93/100\n",
      "1/1 [==============================] - 0s 3ms/step - loss: 3.7393 - mae: 3.7393\n",
      "Epoch 94/100\n",
      "1/1 [==============================] - 0s 2ms/step - loss: 3.7040 - mae: 3.7040\n",
      "Epoch 95/100\n",
      "1/1 [==============================] - 0s 6ms/step - loss: 3.7109 - mae: 3.7109\n",
      "Epoch 96/100\n",
      "1/1 [==============================] - 0s 2ms/step - loss: 3.7144 - mae: 3.7144\n",
      "Epoch 97/100\n",
      "1/1 [==============================] - 0s 2ms/step - loss: 3.6919 - mae: 3.6919\n",
      "Epoch 98/100\n",
      "1/1 [==============================] - 0s 6ms/step - loss: 3.7301 - mae: 3.7301\n",
      "Epoch 99/100\n",
      "1/1 [==============================] - 0s 2ms/step - loss: 3.6641 - mae: 3.6641\n",
      "Epoch 100/100\n",
      "1/1 [==============================] - 0s 2ms/step - loss: 3.7361 - mae: 3.7361\n"
     ]
    },
    {
     "data": {
      "text/plain": [
       "<tensorflow.python.keras.callbacks.History at 0x16ee78bc580>"
      ]
     },
     "execution_count": 14,
     "metadata": {},
     "output_type": "execute_result"
    }
   ],
   "source": [
    "tf.random.set_seed = 42\n",
    "\n",
    "model = tf.keras.Sequential()\n",
    "\n",
    "model.add(tf.keras.layers.Dense(units=100, activation='relu'))\n",
    "model.add(tf.keras.layers.Dense(units=1))\n",
    "model.compile(loss=tf.keras.losses.mae,\n",
    "             optimizer = tf.keras.optimizers.SGD(),\n",
    "             metrics=['mae'])\n",
    "\n",
    "model.fit(X, y, epochs=100)"
   ]
  },
  {
   "cell_type": "code",
   "execution_count": 15,
   "id": "f08c4b9c",
   "metadata": {},
   "outputs": [
    {
     "data": {
      "text/plain": [
       "array([[32.15599]], dtype=float32)"
      ]
     },
     "execution_count": 15,
     "metadata": {},
     "output_type": "execute_result"
    }
   ],
   "source": [
    "model.predict([17.0])"
   ]
  },
  {
   "cell_type": "code",
   "execution_count": 16,
   "id": "8b21bc90",
   "metadata": {},
   "outputs": [
    {
     "name": "stdout",
     "output_type": "stream",
     "text": [
      "Epoch 1/100\n",
      "1/1 [==============================] - 0s 299ms/step - loss: 14.5855 - mae: 14.5855\n",
      "Epoch 2/100\n",
      "1/1 [==============================] - 0s 4ms/step - loss: 14.0443 - mae: 14.0443\n",
      "Epoch 3/100\n",
      "1/1 [==============================] - 0s 3ms/step - loss: 13.5074 - mae: 13.5074\n",
      "Epoch 4/100\n",
      "1/1 [==============================] - 0s 4ms/step - loss: 12.9720 - mae: 12.9720\n",
      "Epoch 5/100\n",
      "1/1 [==============================] - 0s 7ms/step - loss: 12.4354 - mae: 12.4354\n",
      "Epoch 6/100\n",
      "1/1 [==============================] - 0s 4ms/step - loss: 11.8948 - mae: 11.8948\n",
      "Epoch 7/100\n",
      "1/1 [==============================] - 0s 6ms/step - loss: 11.3474 - mae: 11.3474\n",
      "Epoch 8/100\n",
      "1/1 [==============================] - 0s 4ms/step - loss: 10.7902 - mae: 10.7902\n",
      "Epoch 9/100\n",
      "1/1 [==============================] - 0s 6ms/step - loss: 10.2206 - mae: 10.2206\n",
      "Epoch 10/100\n",
      "1/1 [==============================] - 0s 3ms/step - loss: 9.6354 - mae: 9.6354\n",
      "Epoch 11/100\n",
      "1/1 [==============================] - 0s 3ms/step - loss: 9.0318 - mae: 9.0318\n",
      "Epoch 12/100\n",
      "1/1 [==============================] - 0s 8ms/step - loss: 8.4066 - mae: 8.4066\n",
      "Epoch 13/100\n",
      "1/1 [==============================] - 0s 2ms/step - loss: 7.7567 - mae: 7.7567\n",
      "Epoch 14/100\n",
      "1/1 [==============================] - 0s 6ms/step - loss: 7.1954 - mae: 7.1954\n",
      "Epoch 15/100\n",
      "1/1 [==============================] - 0s 5ms/step - loss: 7.1758 - mae: 7.1758\n",
      "Epoch 16/100\n",
      "1/1 [==============================] - 0s 7ms/step - loss: 7.1561 - mae: 7.1561\n",
      "Epoch 17/100\n",
      "1/1 [==============================] - 0s 3ms/step - loss: 7.1363 - mae: 7.1363\n",
      "Epoch 18/100\n",
      "1/1 [==============================] - 0s 9ms/step - loss: 7.1165 - mae: 7.1165\n",
      "Epoch 19/100\n",
      "1/1 [==============================] - 0s 4ms/step - loss: 7.0966 - mae: 7.0966\n",
      "Epoch 20/100\n",
      "1/1 [==============================] - 0s 6ms/step - loss: 7.0767 - mae: 7.0767\n",
      "Epoch 21/100\n",
      "1/1 [==============================] - 0s 5ms/step - loss: 7.0567 - mae: 7.0567\n",
      "Epoch 22/100\n",
      "1/1 [==============================] - 0s 4ms/step - loss: 7.0366 - mae: 7.0366\n",
      "Epoch 23/100\n",
      "1/1 [==============================] - 0s 8ms/step - loss: 7.0165 - mae: 7.0165\n",
      "Epoch 24/100\n",
      "1/1 [==============================] - 0s 2ms/step - loss: 6.9963 - mae: 6.9963\n",
      "Epoch 25/100\n",
      "1/1 [==============================] - 0s 7ms/step - loss: 6.9760 - mae: 6.9760\n",
      "Epoch 26/100\n",
      "1/1 [==============================] - 0s 3ms/step - loss: 6.9557 - mae: 6.9557\n",
      "Epoch 27/100\n",
      "1/1 [==============================] - 0s 6ms/step - loss: 6.9352 - mae: 6.9352\n",
      "Epoch 28/100\n",
      "1/1 [==============================] - 0s 3ms/step - loss: 6.9147 - mae: 6.9147\n",
      "Epoch 29/100\n",
      "1/1 [==============================] - 0s 10ms/step - loss: 6.8941 - mae: 6.8941\n",
      "Epoch 30/100\n",
      "1/1 [==============================] - 0s 4ms/step - loss: 6.8733 - mae: 6.8733\n",
      "Epoch 31/100\n",
      "1/1 [==============================] - 0s 6ms/step - loss: 6.8525 - mae: 6.8525\n",
      "Epoch 32/100\n",
      "1/1 [==============================] - 0s 10ms/step - loss: 6.8316 - mae: 6.8316\n",
      "Epoch 33/100\n",
      "1/1 [==============================] - 0s 3ms/step - loss: 6.8106 - mae: 6.8106\n",
      "Epoch 34/100\n",
      "1/1 [==============================] - 0s 7ms/step - loss: 6.7895 - mae: 6.7895\n",
      "Epoch 35/100\n",
      "1/1 [==============================] - 0s 5ms/step - loss: 6.7682 - mae: 6.7682\n",
      "Epoch 36/100\n",
      "1/1 [==============================] - 0s 7ms/step - loss: 6.7469 - mae: 6.7469\n",
      "Epoch 37/100\n",
      "1/1 [==============================] - 0s 4ms/step - loss: 6.7254 - mae: 6.7254\n",
      "Epoch 38/100\n",
      "1/1 [==============================] - 0s 3ms/step - loss: 6.7038 - mae: 6.7038\n",
      "Epoch 39/100\n",
      "1/1 [==============================] - 0s 4ms/step - loss: 6.6821 - mae: 6.6821\n",
      "Epoch 40/100\n",
      "1/1 [==============================] - 0s 6ms/step - loss: 6.6602 - mae: 6.6602\n",
      "Epoch 41/100\n",
      "1/1 [==============================] - 0s 3ms/step - loss: 6.6383 - mae: 6.6383\n",
      "Epoch 42/100\n",
      "1/1 [==============================] - 0s 5ms/step - loss: 6.6161 - mae: 6.6161\n",
      "Epoch 43/100\n",
      "1/1 [==============================] - 0s 3ms/step - loss: 6.5939 - mae: 6.5939\n",
      "Epoch 44/100\n",
      "1/1 [==============================] - 0s 9ms/step - loss: 6.5715 - mae: 6.5715\n",
      "Epoch 45/100\n",
      "1/1 [==============================] - 0s 3ms/step - loss: 6.5552 - mae: 6.5552\n",
      "Epoch 46/100\n",
      "1/1 [==============================] - 0s 7ms/step - loss: 6.5452 - mae: 6.5452\n",
      "Epoch 47/100\n",
      "1/1 [==============================] - 0s 3ms/step - loss: 6.5230 - mae: 6.5230\n",
      "Epoch 48/100\n",
      "1/1 [==============================] - 0s 5ms/step - loss: 6.5006 - mae: 6.5006\n",
      "Epoch 49/100\n",
      "1/1 [==============================] - 0s 3ms/step - loss: 6.4780 - mae: 6.4780\n",
      "Epoch 50/100\n",
      "1/1 [==============================] - 0s 4ms/step - loss: 6.4553 - mae: 6.4553\n",
      "Epoch 51/100\n",
      "1/1 [==============================] - 0s 7ms/step - loss: 6.4324 - mae: 6.4324\n",
      "Epoch 52/100\n",
      "1/1 [==============================] - 0s 3ms/step - loss: 6.4093 - mae: 6.4093\n",
      "Epoch 53/100\n",
      "1/1 [==============================] - 0s 5ms/step - loss: 6.3861 - mae: 6.3861\n",
      "Epoch 54/100\n",
      "1/1 [==============================] - 0s 4ms/step - loss: 6.3627 - mae: 6.3627\n",
      "Epoch 55/100\n",
      "1/1 [==============================] - 0s 7ms/step - loss: 6.3391 - mae: 6.3391\n",
      "Epoch 56/100\n",
      "1/1 [==============================] - 0s 4ms/step - loss: 6.3153 - mae: 6.3153\n",
      "Epoch 57/100\n",
      "1/1 [==============================] - 0s 3ms/step - loss: 6.2913 - mae: 6.2913\n",
      "Epoch 58/100\n",
      "1/1 [==============================] - 0s 5ms/step - loss: 6.2671 - mae: 6.2671\n",
      "Epoch 59/100\n",
      "1/1 [==============================] - 0s 3ms/step - loss: 6.2428 - mae: 6.2428\n",
      "Epoch 60/100\n",
      "1/1 [==============================] - 0s 7ms/step - loss: 6.2182 - mae: 6.2182\n",
      "Epoch 61/100\n",
      "1/1 [==============================] - 0s 2ms/step - loss: 6.1934 - mae: 6.1934\n",
      "Epoch 62/100\n",
      "1/1 [==============================] - 0s 8ms/step - loss: 6.1685 - mae: 6.1685\n",
      "Epoch 63/100\n",
      "1/1 [==============================] - 0s 2ms/step - loss: 6.1433 - mae: 6.1433\n",
      "Epoch 64/100\n",
      "1/1 [==============================] - 0s 6ms/step - loss: 6.1178 - mae: 6.1178\n",
      "Epoch 65/100\n",
      "1/1 [==============================] - 0s 3ms/step - loss: 6.0922 - mae: 6.0922\n",
      "Epoch 66/100\n",
      "1/1 [==============================] - 0s 3ms/step - loss: 6.0857 - mae: 6.0857\n",
      "Epoch 67/100\n",
      "1/1 [==============================] - 0s 7ms/step - loss: 6.0652 - mae: 6.0652\n",
      "Epoch 68/100\n",
      "1/1 [==============================] - 0s 2ms/step - loss: 6.0395 - mae: 6.0395\n",
      "Epoch 69/100\n",
      "1/1 [==============================] - 0s 2ms/step - loss: 6.0135 - mae: 6.0135\n",
      "Epoch 70/100\n",
      "1/1 [==============================] - 0s 4ms/step - loss: 5.9873 - mae: 5.9873\n",
      "Epoch 71/100\n",
      "1/1 [==============================] - 0s 2ms/step - loss: 5.9608 - mae: 5.9608\n",
      "Epoch 72/100\n",
      "1/1 [==============================] - 0s 2ms/step - loss: 5.9341 - mae: 5.9341\n",
      "Epoch 73/100\n",
      "1/1 [==============================] - 0s 3ms/step - loss: 5.9072 - mae: 5.9072\n",
      "Epoch 74/100\n",
      "1/1 [==============================] - 0s 4ms/step - loss: 5.8799 - mae: 5.8799\n",
      "Epoch 75/100\n",
      "1/1 [==============================] - 0s 2ms/step - loss: 5.8525 - mae: 5.8525\n",
      "Epoch 76/100\n",
      "1/1 [==============================] - 0s 4ms/step - loss: 5.8247 - mae: 5.8247\n",
      "Epoch 77/100\n",
      "1/1 [==============================] - 0s 3ms/step - loss: 5.7967 - mae: 5.7967\n",
      "Epoch 78/100\n",
      "1/1 [==============================] - 0s 2ms/step - loss: 5.7683 - mae: 5.7683\n",
      "Epoch 79/100\n",
      "1/1 [==============================] - 0s 2ms/step - loss: 5.7397 - mae: 5.7397\n",
      "Epoch 80/100\n",
      "1/1 [==============================] - 0s 6ms/step - loss: 5.7109 - mae: 5.7109\n",
      "Epoch 81/100\n",
      "1/1 [==============================] - 0s 3ms/step - loss: 5.6817 - mae: 5.6817\n",
      "Epoch 82/100\n",
      "1/1 [==============================] - 0s 2ms/step - loss: 5.6522 - mae: 5.6522\n",
      "Epoch 83/100\n",
      "1/1 [==============================] - 0s 4ms/step - loss: 5.6443 - mae: 5.6443\n",
      "Epoch 84/100\n",
      "1/1 [==============================] - 0s 2ms/step - loss: 5.6397 - mae: 5.6397\n",
      "Epoch 85/100\n",
      "1/1 [==============================] - 0s 2ms/step - loss: 5.7570 - mae: 5.7570\n",
      "Epoch 86/100\n",
      "1/1 [==============================] - 0s 3ms/step - loss: 5.5581 - mae: 5.5581\n",
      "Epoch 87/100\n",
      "1/1 [==============================] - 0s 4ms/step - loss: 5.5276 - mae: 5.5276\n",
      "Epoch 88/100\n",
      "1/1 [==============================] - 0s 2ms/step - loss: 5.4967 - mae: 5.4967\n"
     ]
    },
    {
     "name": "stdout",
     "output_type": "stream",
     "text": [
      "Epoch 89/100\n",
      "1/1 [==============================] - 0s 4ms/step - loss: 5.4655 - mae: 5.4655\n",
      "Epoch 90/100\n",
      "1/1 [==============================] - 0s 3ms/step - loss: 5.4340 - mae: 5.4340\n",
      "Epoch 91/100\n",
      "1/1 [==============================] - 0s 2ms/step - loss: 5.4021 - mae: 5.4021\n",
      "Epoch 92/100\n",
      "1/1 [==============================] - 0s 4ms/step - loss: 5.3699 - mae: 5.3699\n",
      "Epoch 93/100\n",
      "1/1 [==============================] - 0s 6ms/step - loss: 5.3373 - mae: 5.3373\n",
      "Epoch 94/100\n",
      "1/1 [==============================] - 0s 2ms/step - loss: 5.3059 - mae: 5.3059\n",
      "Epoch 95/100\n",
      "1/1 [==============================] - 0s 4ms/step - loss: 5.3915 - mae: 5.3915\n",
      "Epoch 96/100\n",
      "1/1 [==============================] - 0s 2ms/step - loss: 5.4219 - mae: 5.4219\n",
      "Epoch 97/100\n",
      "1/1 [==============================] - 0s 2ms/step - loss: 5.2330 - mae: 5.2330\n",
      "Epoch 98/100\n",
      "1/1 [==============================] - 0s 6ms/step - loss: 5.1991 - mae: 5.1991\n",
      "Epoch 99/100\n",
      "1/1 [==============================] - 0s 4ms/step - loss: 5.1648 - mae: 5.1648\n",
      "Epoch 100/100\n",
      "1/1 [==============================] - 0s 3ms/step - loss: 5.1301 - mae: 5.1301\n"
     ]
    },
    {
     "data": {
      "text/plain": [
       "<tensorflow.python.keras.callbacks.History at 0x16ef1e99ca0>"
      ]
     },
     "execution_count": 16,
     "metadata": {},
     "output_type": "execute_result"
    }
   ],
   "source": [
    "tf.random.set_seed = 42\n",
    "\n",
    "model = tf.keras.Sequential()\n",
    "\n",
    "model.add(tf.keras.layers.Dense(units=50, activation=None))\n",
    "model.add(tf.keras.layers.Dense(units=1))\n",
    "model.compile(loss=tf.keras.losses.mae,\n",
    "             optimizer = tf.keras.optimizers.SGD(learning_rate=0.01),\n",
    "             metrics=['mae'])\n",
    "\n",
    "model.fit(X, y, epochs=100)"
   ]
  },
  {
   "cell_type": "code",
   "execution_count": 17,
   "id": "b328c3df",
   "metadata": {},
   "outputs": [
    {
     "name": "stdout",
     "output_type": "stream",
     "text": [
      "WARNING:tensorflow:5 out of the last 5 calls to <function Model.make_predict_function.<locals>.predict_function at 0x0000016EF1EBBDC0> triggered tf.function retracing. Tracing is expensive and the excessive number of tracings could be due to (1) creating @tf.function repeatedly in a loop, (2) passing tensors with different shapes, (3) passing Python objects instead of tensors. For (1), please define your @tf.function outside of the loop. For (2), @tf.function has experimental_relax_shapes=True option that relaxes argument shapes that can avoid unnecessary retracing. For (3), please refer to https://www.tensorflow.org/guide/function#controlling_retracing and https://www.tensorflow.org/api_docs/python/tf/function for  more details.\n"
     ]
    },
    {
     "data": {
      "text/plain": [
       "array([[29.862371]], dtype=float32)"
      ]
     },
     "execution_count": 17,
     "metadata": {},
     "output_type": "execute_result"
    }
   ],
   "source": [
    "model.predict([17.0])"
   ]
  },
  {
   "cell_type": "code",
   "execution_count": 18,
   "id": "cdd956f6",
   "metadata": {},
   "outputs": [
    {
     "name": "stdout",
     "output_type": "stream",
     "text": [
      "Epoch 1/100\n",
      "1/1 [==============================] - 1s 640ms/step - loss: 14.2451 - mae: 14.2451\n",
      "Epoch 2/100\n",
      "1/1 [==============================] - 0s 5ms/step - loss: 14.2001 - mae: 14.2001\n",
      "Epoch 3/100\n",
      "1/1 [==============================] - 0s 5ms/step - loss: 14.1551 - mae: 14.1551\n",
      "Epoch 4/100\n",
      "1/1 [==============================] - 0s 8ms/step - loss: 14.1101 - mae: 14.1101\n",
      "Epoch 5/100\n",
      "1/1 [==============================] - 0s 5ms/step - loss: 14.0651 - mae: 14.0651\n",
      "Epoch 6/100\n",
      "1/1 [==============================] - 0s 6ms/step - loss: 14.0201 - mae: 14.0201\n",
      "Epoch 7/100\n",
      "1/1 [==============================] - 0s 5ms/step - loss: 13.9751 - mae: 13.9751\n",
      "Epoch 8/100\n",
      "1/1 [==============================] - 0s 9ms/step - loss: 13.9301 - mae: 13.9301\n",
      "Epoch 9/100\n",
      "1/1 [==============================] - 0s 2ms/step - loss: 13.8851 - mae: 13.8851\n",
      "Epoch 10/100\n",
      "1/1 [==============================] - 0s 13ms/step - loss: 13.8401 - mae: 13.8401\n",
      "Epoch 11/100\n",
      "1/1 [==============================] - 0s 2ms/step - loss: 13.7951 - mae: 13.7951\n",
      "Epoch 12/100\n",
      "1/1 [==============================] - 0s 10ms/step - loss: 13.7501 - mae: 13.7501\n",
      "Epoch 13/100\n",
      "1/1 [==============================] - 0s 15ms/step - loss: 13.7051 - mae: 13.7051\n",
      "Epoch 14/100\n",
      "1/1 [==============================] - 0s 9ms/step - loss: 13.6601 - mae: 13.6601\n",
      "Epoch 15/100\n",
      "1/1 [==============================] - 0s 13ms/step - loss: 13.6151 - mae: 13.6151\n",
      "Epoch 16/100\n",
      "1/1 [==============================] - 0s 3ms/step - loss: 13.5701 - mae: 13.5701\n",
      "Epoch 17/100\n",
      "1/1 [==============================] - 0s 18ms/step - loss: 13.5251 - mae: 13.5251\n",
      "Epoch 18/100\n",
      "1/1 [==============================] - 0s 6ms/step - loss: 13.4801 - mae: 13.4801\n",
      "Epoch 19/100\n",
      "1/1 [==============================] - 0s 12ms/step - loss: 13.4351 - mae: 13.4351\n",
      "Epoch 20/100\n",
      "1/1 [==============================] - 0s 14ms/step - loss: 13.3901 - mae: 13.3901\n",
      "Epoch 21/100\n",
      "1/1 [==============================] - 0s 6ms/step - loss: 13.3451 - mae: 13.3451\n",
      "Epoch 22/100\n",
      "1/1 [==============================] - 0s 7ms/step - loss: 13.3001 - mae: 13.3001\n",
      "Epoch 23/100\n",
      "1/1 [==============================] - 0s 6ms/step - loss: 13.2551 - mae: 13.2551\n",
      "Epoch 24/100\n",
      "1/1 [==============================] - 0s 7ms/step - loss: 13.2101 - mae: 13.2101\n",
      "Epoch 25/100\n",
      "1/1 [==============================] - 0s 8ms/step - loss: 13.1651 - mae: 13.1651\n",
      "Epoch 26/100\n",
      "1/1 [==============================] - 0s 12ms/step - loss: 13.1201 - mae: 13.1201\n",
      "Epoch 27/100\n",
      "1/1 [==============================] - 0s 16ms/step - loss: 13.0751 - mae: 13.0751\n",
      "Epoch 28/100\n",
      "1/1 [==============================] - 0s 6ms/step - loss: 13.0301 - mae: 13.0301\n",
      "Epoch 29/100\n",
      "1/1 [==============================] - 0s 10ms/step - loss: 12.9851 - mae: 12.9851\n",
      "Epoch 30/100\n",
      "1/1 [==============================] - 0s 10ms/step - loss: 12.9401 - mae: 12.9401\n",
      "Epoch 31/100\n",
      "1/1 [==============================] - 0s 10ms/step - loss: 12.8951 - mae: 12.8951\n",
      "Epoch 32/100\n",
      "1/1 [==============================] - 0s 12ms/step - loss: 12.8501 - mae: 12.8501\n",
      "Epoch 33/100\n",
      "1/1 [==============================] - 0s 5ms/step - loss: 12.8051 - mae: 12.8051\n",
      "Epoch 34/100\n",
      "1/1 [==============================] - 0s 8ms/step - loss: 12.7601 - mae: 12.7601\n",
      "Epoch 35/100\n",
      "1/1 [==============================] - 0s 6ms/step - loss: 12.7151 - mae: 12.7151\n",
      "Epoch 36/100\n",
      "1/1 [==============================] - 0s 12ms/step - loss: 12.6701 - mae: 12.6701\n",
      "Epoch 37/100\n",
      "1/1 [==============================] - 0s 9ms/step - loss: 12.6251 - mae: 12.6251\n",
      "Epoch 38/100\n",
      "1/1 [==============================] - 0s 8ms/step - loss: 12.5801 - mae: 12.5801\n",
      "Epoch 39/100\n",
      "1/1 [==============================] - 0s 17ms/step - loss: 12.5351 - mae: 12.5351\n",
      "Epoch 40/100\n",
      "1/1 [==============================] - 0s 8ms/step - loss: 12.4901 - mae: 12.4901\n",
      "Epoch 41/100\n",
      "1/1 [==============================] - 0s 4ms/step - loss: 12.4451 - mae: 12.4451\n",
      "Epoch 42/100\n",
      "1/1 [==============================] - 0s 7ms/step - loss: 12.4001 - mae: 12.4001\n",
      "Epoch 43/100\n",
      "1/1 [==============================] - 0s 4ms/step - loss: 12.3551 - mae: 12.3551\n",
      "Epoch 44/100\n",
      "1/1 [==============================] - 0s 6ms/step - loss: 12.3101 - mae: 12.3101\n",
      "Epoch 45/100\n",
      "1/1 [==============================] - 0s 4ms/step - loss: 12.2651 - mae: 12.2651\n",
      "Epoch 46/100\n",
      "1/1 [==============================] - 0s 3ms/step - loss: 12.2201 - mae: 12.2201\n",
      "Epoch 47/100\n",
      "1/1 [==============================] - 0s 8ms/step - loss: 12.1751 - mae: 12.1751\n",
      "Epoch 48/100\n",
      "1/1 [==============================] - 0s 6ms/step - loss: 12.1301 - mae: 12.1301\n",
      "Epoch 49/100\n",
      "1/1 [==============================] - 0s 5ms/step - loss: 12.0851 - mae: 12.0851\n",
      "Epoch 50/100\n",
      "1/1 [==============================] - 0s 5ms/step - loss: 12.0401 - mae: 12.0401\n",
      "Epoch 51/100\n",
      "1/1 [==============================] - 0s 3ms/step - loss: 11.9951 - mae: 11.9951\n",
      "Epoch 52/100\n",
      "1/1 [==============================] - 0s 6ms/step - loss: 11.9501 - mae: 11.9501\n",
      "Epoch 53/100\n",
      "1/1 [==============================] - 0s 6ms/step - loss: 11.9051 - mae: 11.9051\n",
      "Epoch 54/100\n",
      "1/1 [==============================] - 0s 4ms/step - loss: 11.8601 - mae: 11.8601\n",
      "Epoch 55/100\n",
      "1/1 [==============================] - 0s 7ms/step - loss: 11.8151 - mae: 11.8151\n",
      "Epoch 56/100\n",
      "1/1 [==============================] - 0s 5ms/step - loss: 11.7701 - mae: 11.7701\n",
      "Epoch 57/100\n",
      "1/1 [==============================] - 0s 4ms/step - loss: 11.7251 - mae: 11.7251\n",
      "Epoch 58/100\n",
      "1/1 [==============================] - 0s 8ms/step - loss: 11.6801 - mae: 11.6801\n",
      "Epoch 59/100\n",
      "1/1 [==============================] - 0s 7ms/step - loss: 11.6351 - mae: 11.6351\n",
      "Epoch 60/100\n",
      "1/1 [==============================] - 0s 3ms/step - loss: 11.5901 - mae: 11.5901\n",
      "Epoch 61/100\n",
      "1/1 [==============================] - 0s 7ms/step - loss: 11.5451 - mae: 11.5451\n",
      "Epoch 62/100\n",
      "1/1 [==============================] - 0s 3ms/step - loss: 11.5001 - mae: 11.5001\n",
      "Epoch 63/100\n",
      "1/1 [==============================] - 0s 6ms/step - loss: 11.4551 - mae: 11.4551\n",
      "Epoch 64/100\n",
      "1/1 [==============================] - 0s 2ms/step - loss: 11.4101 - mae: 11.4101\n",
      "Epoch 65/100\n",
      "1/1 [==============================] - 0s 6ms/step - loss: 11.3651 - mae: 11.3651\n",
      "Epoch 66/100\n",
      "1/1 [==============================] - 0s 2ms/step - loss: 11.3201 - mae: 11.3201\n",
      "Epoch 67/100\n",
      "1/1 [==============================] - 0s 5ms/step - loss: 11.2751 - mae: 11.2751\n",
      "Epoch 68/100\n",
      "1/1 [==============================] - 0s 3ms/step - loss: 11.2301 - mae: 11.2301\n",
      "Epoch 69/100\n",
      "1/1 [==============================] - 0s 2ms/step - loss: 11.1851 - mae: 11.1851\n",
      "Epoch 70/100\n",
      "1/1 [==============================] - 0s 8ms/step - loss: 11.1401 - mae: 11.1401\n",
      "Epoch 71/100\n",
      "1/1 [==============================] - 0s 3ms/step - loss: 11.0951 - mae: 11.0951\n",
      "Epoch 72/100\n",
      "1/1 [==============================] - 0s 4ms/step - loss: 11.0501 - mae: 11.0501\n",
      "Epoch 73/100\n",
      "1/1 [==============================] - 0s 2ms/step - loss: 11.0051 - mae: 11.0051\n",
      "Epoch 74/100\n",
      "1/1 [==============================] - 0s 4ms/step - loss: 10.9601 - mae: 10.9601\n",
      "Epoch 75/100\n",
      "1/1 [==============================] - 0s 6ms/step - loss: 10.9151 - mae: 10.9151\n",
      "Epoch 76/100\n",
      "1/1 [==============================] - 0s 3ms/step - loss: 10.8701 - mae: 10.8701\n",
      "Epoch 77/100\n",
      "1/1 [==============================] - 0s 3ms/step - loss: 10.8251 - mae: 10.8251\n",
      "Epoch 78/100\n",
      "1/1 [==============================] - 0s 2ms/step - loss: 10.7801 - mae: 10.7801\n",
      "Epoch 79/100\n",
      "1/1 [==============================] - 0s 7ms/step - loss: 10.7351 - mae: 10.7351\n",
      "Epoch 80/100\n",
      "1/1 [==============================] - 0s 3ms/step - loss: 10.6901 - mae: 10.6901\n",
      "Epoch 81/100\n",
      "1/1 [==============================] - 0s 6ms/step - loss: 10.6451 - mae: 10.6451\n",
      "Epoch 82/100\n",
      "1/1 [==============================] - 0s 3ms/step - loss: 10.6001 - mae: 10.6001\n",
      "Epoch 83/100\n",
      "1/1 [==============================] - 0s 6ms/step - loss: 10.5551 - mae: 10.5551\n",
      "Epoch 84/100\n",
      "1/1 [==============================] - 0s 3ms/step - loss: 10.5101 - mae: 10.5101\n",
      "Epoch 85/100\n",
      "1/1 [==============================] - 0s 5ms/step - loss: 10.4651 - mae: 10.4651\n",
      "Epoch 86/100\n",
      "1/1 [==============================] - 0s 3ms/step - loss: 10.4201 - mae: 10.4201\n",
      "Epoch 87/100\n"
     ]
    },
    {
     "name": "stdout",
     "output_type": "stream",
     "text": [
      "1/1 [==============================] - 0s 3ms/step - loss: 10.3751 - mae: 10.3751\n",
      "Epoch 88/100\n",
      "1/1 [==============================] - 0s 3ms/step - loss: 10.3301 - mae: 10.3301\n",
      "Epoch 89/100\n",
      "1/1 [==============================] - 0s 4ms/step - loss: 10.2851 - mae: 10.2851\n",
      "Epoch 90/100\n",
      "1/1 [==============================] - 0s 3ms/step - loss: 10.2401 - mae: 10.2401\n",
      "Epoch 91/100\n",
      "1/1 [==============================] - 0s 8ms/step - loss: 10.1951 - mae: 10.1951\n",
      "Epoch 92/100\n",
      "1/1 [==============================] - 0s 4ms/step - loss: 10.1501 - mae: 10.1501\n",
      "Epoch 93/100\n",
      "1/1 [==============================] - 0s 5ms/step - loss: 10.1051 - mae: 10.1051\n",
      "Epoch 94/100\n",
      "1/1 [==============================] - 0s 9ms/step - loss: 10.0601 - mae: 10.0601\n",
      "Epoch 95/100\n",
      "1/1 [==============================] - 0s 3ms/step - loss: 10.0151 - mae: 10.0151\n",
      "Epoch 96/100\n",
      "1/1 [==============================] - 0s 5ms/step - loss: 9.9701 - mae: 9.9701\n",
      "Epoch 97/100\n",
      "1/1 [==============================] - 0s 2ms/step - loss: 9.9251 - mae: 9.9251\n",
      "Epoch 98/100\n",
      "1/1 [==============================] - 0s 3ms/step - loss: 9.8801 - mae: 9.8801\n",
      "Epoch 99/100\n",
      "1/1 [==============================] - 0s 5ms/step - loss: 9.8351 - mae: 9.8351\n",
      "Epoch 100/100\n",
      "1/1 [==============================] - 0s 5ms/step - loss: 9.7901 - mae: 9.7901\n"
     ]
    },
    {
     "data": {
      "text/plain": [
       "<tensorflow.python.keras.callbacks.History at 0x16ef72a17f0>"
      ]
     },
     "execution_count": 18,
     "metadata": {},
     "output_type": "execute_result"
    }
   ],
   "source": [
    "tf.random.set_seed = 42\n",
    "\n",
    "model = tf.keras.Sequential()\n",
    "\n",
    "model.add(tf.keras.layers.Dense(units=1, activation=None))\n",
    "\n",
    "model.compile(loss=tf.keras.losses.mae,\n",
    "             optimizer = tf.keras.optimizers.Adam(learning_rate=0.01),\n",
    "             metrics=['mae'])\n",
    "\n",
    "model.fit(X, y, epochs=100)"
   ]
  },
  {
   "cell_type": "code",
   "execution_count": 19,
   "id": "70203cc7",
   "metadata": {},
   "outputs": [
    {
     "name": "stdout",
     "output_type": "stream",
     "text": [
      "WARNING:tensorflow:6 out of the last 6 calls to <function Model.make_predict_function.<locals>.predict_function at 0x0000016EE3059790> triggered tf.function retracing. Tracing is expensive and the excessive number of tracings could be due to (1) creating @tf.function repeatedly in a loop, (2) passing tensors with different shapes, (3) passing Python objects instead of tensors. For (1), please define your @tf.function outside of the loop. For (2), @tf.function has experimental_relax_shapes=True option that relaxes argument shapes that can avoid unnecessary retracing. For (3), please refer to https://www.tensorflow.org/guide/function#controlling_retracing and https://www.tensorflow.org/api_docs/python/tf/function for  more details.\n"
     ]
    },
    {
     "data": {
      "text/plain": [
       "array([[14.381011]], dtype=float32)"
      ]
     },
     "execution_count": 19,
     "metadata": {},
     "output_type": "execute_result"
    }
   ],
   "source": [
    "model.predict([17.0])"
   ]
  },
  {
   "cell_type": "code",
   "execution_count": 20,
   "id": "650615da",
   "metadata": {},
   "outputs": [
    {
     "name": "stdout",
     "output_type": "stream",
     "text": [
      "Epoch 1/100\n",
      "1/1 [==============================] - 0s 416ms/step - loss: 14.8489 - mae: 14.8489\n",
      "Epoch 2/100\n",
      "1/1 [==============================] - 0s 3ms/step - loss: 14.1585 - mae: 14.1585\n",
      "Epoch 3/100\n",
      "1/1 [==============================] - 0s 6ms/step - loss: 13.4737 - mae: 13.4737\n",
      "Epoch 4/100\n",
      "1/1 [==============================] - 0s 7ms/step - loss: 12.7918 - mae: 12.7918\n",
      "Epoch 5/100\n",
      "1/1 [==============================] - 0s 7ms/step - loss: 12.1113 - mae: 12.1113\n",
      "Epoch 6/100\n",
      "1/1 [==============================] - 0s 7ms/step - loss: 11.4299 - mae: 11.4299\n",
      "Epoch 7/100\n",
      "1/1 [==============================] - 0s 7ms/step - loss: 10.7454 - mae: 10.7454\n",
      "Epoch 8/100\n",
      "1/1 [==============================] - 0s 10ms/step - loss: 10.0553 - mae: 10.0553\n",
      "Epoch 9/100\n",
      "1/1 [==============================] - 0s 8ms/step - loss: 9.3571 - mae: 9.3571\n",
      "Epoch 10/100\n",
      "1/1 [==============================] - 0s 6ms/step - loss: 8.6486 - mae: 8.6486\n",
      "Epoch 11/100\n",
      "1/1 [==============================] - 0s 6ms/step - loss: 7.9273 - mae: 7.9273\n",
      "Epoch 12/100\n",
      "1/1 [==============================] - 0s 8ms/step - loss: 7.1910 - mae: 7.1910\n",
      "Epoch 13/100\n",
      "1/1 [==============================] - 0s 12ms/step - loss: 6.6641 - mae: 6.6641\n",
      "Epoch 14/100\n",
      "1/1 [==============================] - 0s 7ms/step - loss: 6.7786 - mae: 6.7786\n",
      "Epoch 15/100\n",
      "1/1 [==============================] - 0s 6ms/step - loss: 7.0752 - mae: 7.0752\n",
      "Epoch 16/100\n",
      "1/1 [==============================] - 0s 4ms/step - loss: 7.2976 - mae: 7.2976\n",
      "Epoch 17/100\n",
      "1/1 [==============================] - 0s 6ms/step - loss: 7.4430 - mae: 7.4430\n",
      "Epoch 18/100\n",
      "1/1 [==============================] - 0s 6ms/step - loss: 7.3966 - mae: 7.3966\n",
      "Epoch 19/100\n",
      "1/1 [==============================] - 0s 9ms/step - loss: 7.2028 - mae: 7.2028\n",
      "Epoch 20/100\n",
      "1/1 [==============================] - 0s 6ms/step - loss: 6.9327 - mae: 6.9327\n",
      "Epoch 21/100\n",
      "1/1 [==============================] - 0s 10ms/step - loss: 6.7107 - mae: 6.7107\n",
      "Epoch 22/100\n",
      "1/1 [==============================] - 0s 4ms/step - loss: 6.4701 - mae: 6.4701\n",
      "Epoch 23/100\n",
      "1/1 [==============================] - 0s 3ms/step - loss: 6.2148 - mae: 6.2148\n",
      "Epoch 24/100\n",
      "1/1 [==============================] - 0s 10ms/step - loss: 6.0518 - mae: 6.0518\n",
      "Epoch 25/100\n",
      "1/1 [==============================] - 0s 6ms/step - loss: 6.0108 - mae: 6.0108\n",
      "Epoch 26/100\n",
      "1/1 [==============================] - 0s 3ms/step - loss: 6.0269 - mae: 6.0269\n",
      "Epoch 27/100\n",
      "1/1 [==============================] - 0s 6ms/step - loss: 6.0916 - mae: 6.0916\n",
      "Epoch 28/100\n",
      "1/1 [==============================] - 0s 9ms/step - loss: 6.0596 - mae: 6.0596\n",
      "Epoch 29/100\n",
      "1/1 [==============================] - 0s 3ms/step - loss: 5.9424 - mae: 5.9424\n",
      "Epoch 30/100\n",
      "1/1 [==============================] - 0s 8ms/step - loss: 5.7487 - mae: 5.7487\n",
      "Epoch 31/100\n",
      "1/1 [==============================] - 0s 6ms/step - loss: 5.5841 - mae: 5.5841\n",
      "Epoch 32/100\n",
      "1/1 [==============================] - 0s 7ms/step - loss: 5.4862 - mae: 5.4862\n",
      "Epoch 33/100\n",
      "1/1 [==============================] - 0s 11ms/step - loss: 5.3855 - mae: 5.3855\n",
      "Epoch 34/100\n",
      "1/1 [==============================] - 0s 12ms/step - loss: 5.3569 - mae: 5.3569\n",
      "Epoch 35/100\n",
      "1/1 [==============================] - 0s 3ms/step - loss: 5.3385 - mae: 5.3385\n",
      "Epoch 36/100\n",
      "1/1 [==============================] - 0s 7ms/step - loss: 5.2796 - mae: 5.2796\n",
      "Epoch 37/100\n",
      "1/1 [==============================] - 0s 9ms/step - loss: 5.1833 - mae: 5.1833\n",
      "Epoch 38/100\n",
      "1/1 [==============================] - 0s 3ms/step - loss: 5.0528 - mae: 5.0528\n",
      "Epoch 39/100\n",
      "1/1 [==============================] - 0s 7ms/step - loss: 4.8912 - mae: 4.8912\n",
      "Epoch 40/100\n",
      "1/1 [==============================] - 0s 2ms/step - loss: 4.7463 - mae: 4.7463\n",
      "Epoch 41/100\n",
      "1/1 [==============================] - 0s 13ms/step - loss: 4.6588 - mae: 4.6588\n",
      "Epoch 42/100\n",
      "1/1 [==============================] - 0s 7ms/step - loss: 4.5644 - mae: 4.5644\n",
      "Epoch 43/100\n",
      "1/1 [==============================] - 0s 8ms/step - loss: 4.4631 - mae: 4.4631\n",
      "Epoch 44/100\n",
      "1/1 [==============================] - 0s 6ms/step - loss: 4.3589 - mae: 4.3589\n",
      "Epoch 45/100\n",
      "1/1 [==============================] - 0s 3ms/step - loss: 4.2291 - mae: 4.2291\n",
      "Epoch 46/100\n",
      "1/1 [==============================] - 0s 7ms/step - loss: 4.0970 - mae: 4.0970\n",
      "Epoch 47/100\n",
      "1/1 [==============================] - 0s 4ms/step - loss: 3.9580 - mae: 3.9580\n",
      "Epoch 48/100\n",
      "1/1 [==============================] - 0s 6ms/step - loss: 3.8120 - mae: 3.8120\n",
      "Epoch 49/100\n",
      "1/1 [==============================] - 0s 9ms/step - loss: 3.6587 - mae: 3.6587\n",
      "Epoch 50/100\n",
      "1/1 [==============================] - 0s 7ms/step - loss: 3.4977 - mae: 3.4977\n",
      "Epoch 51/100\n",
      "1/1 [==============================] - 0s 6ms/step - loss: 3.3794 - mae: 3.3794\n",
      "Epoch 52/100\n",
      "1/1 [==============================] - 0s 5ms/step - loss: 3.2272 - mae: 3.2272\n",
      "Epoch 53/100\n",
      "1/1 [==============================] - 0s 12ms/step - loss: 3.0233 - mae: 3.0233\n",
      "Epoch 54/100\n",
      "1/1 [==============================] - 0s 7ms/step - loss: 2.8408 - mae: 2.8408\n",
      "Epoch 55/100\n",
      "1/1 [==============================] - 0s 14ms/step - loss: 2.6692 - mae: 2.6692\n",
      "Epoch 56/100\n",
      "1/1 [==============================] - 0s 3ms/step - loss: 2.5209 - mae: 2.5209\n",
      "Epoch 57/100\n",
      "1/1 [==============================] - 0s 13ms/step - loss: 2.2802 - mae: 2.2802\n",
      "Epoch 58/100\n",
      "1/1 [==============================] - 0s 2ms/step - loss: 2.0636 - mae: 2.0636\n",
      "Epoch 59/100\n",
      "1/1 [==============================] - 0s 5ms/step - loss: 1.8363 - mae: 1.8363\n",
      "Epoch 60/100\n",
      "1/1 [==============================] - 0s 3ms/step - loss: 1.6352 - mae: 1.6352\n",
      "Epoch 61/100\n",
      "1/1 [==============================] - 0s 6ms/step - loss: 1.3958 - mae: 1.3958\n",
      "Epoch 62/100\n",
      "1/1 [==============================] - 0s 2ms/step - loss: 1.1264 - mae: 1.1264\n",
      "Epoch 63/100\n",
      "1/1 [==============================] - 0s 6ms/step - loss: 0.9203 - mae: 0.9203\n",
      "Epoch 64/100\n",
      "1/1 [==============================] - 0s 9ms/step - loss: 0.6020 - mae: 0.6020\n",
      "Epoch 65/100\n",
      "1/1 [==============================] - 0s 5ms/step - loss: 0.3893 - mae: 0.3893\n",
      "Epoch 66/100\n",
      "1/1 [==============================] - 0s 3ms/step - loss: 0.0465 - mae: 0.0465\n",
      "Epoch 67/100\n",
      "1/1 [==============================] - 0s 10ms/step - loss: 0.3145 - mae: 0.3145\n",
      "Epoch 68/100\n",
      "1/1 [==============================] - 0s 2ms/step - loss: 0.4841 - mae: 0.4841\n",
      "Epoch 69/100\n",
      "1/1 [==============================] - 0s 3ms/step - loss: 0.6430 - mae: 0.6430\n",
      "Epoch 70/100\n",
      "1/1 [==============================] - 0s 3ms/step - loss: 0.7555 - mae: 0.7555\n",
      "Epoch 71/100\n",
      "1/1 [==============================] - 0s 5ms/step - loss: 0.8478 - mae: 0.8478\n",
      "Epoch 72/100\n",
      "1/1 [==============================] - 0s 3ms/step - loss: 0.8358 - mae: 0.8358\n",
      "Epoch 73/100\n",
      "1/1 [==============================] - 0s 8ms/step - loss: 0.8693 - mae: 0.8693\n",
      "Epoch 74/100\n",
      "1/1 [==============================] - 0s 2ms/step - loss: 0.8032 - mae: 0.8032\n",
      "Epoch 75/100\n",
      "1/1 [==============================] - 0s 3ms/step - loss: 0.6706 - mae: 0.6706\n",
      "Epoch 76/100\n",
      "1/1 [==============================] - 0s 2ms/step - loss: 0.6225 - mae: 0.6225\n",
      "Epoch 77/100\n",
      "1/1 [==============================] - 0s 10ms/step - loss: 0.4169 - mae: 0.4169\n",
      "Epoch 78/100\n",
      "1/1 [==============================] - 0s 3ms/step - loss: 0.3443 - mae: 0.3443\n",
      "Epoch 79/100\n",
      "1/1 [==============================] - 0s 2ms/step - loss: 0.1036 - mae: 0.1036\n",
      "Epoch 80/100\n",
      "1/1 [==============================] - 0s 7ms/step - loss: 0.3941 - mae: 0.3941\n",
      "Epoch 81/100\n",
      "1/1 [==============================] - 0s 3ms/step - loss: 0.4252 - mae: 0.4252\n",
      "Epoch 82/100\n",
      "1/1 [==============================] - 0s 8ms/step - loss: 0.3714 - mae: 0.3714\n",
      "Epoch 83/100\n",
      "1/1 [==============================] - 0s 2ms/step - loss: 0.5045 - mae: 0.5045\n",
      "Epoch 84/100\n",
      "1/1 [==============================] - 0s 8ms/step - loss: 0.4549 - mae: 0.4549\n",
      "Epoch 85/100\n",
      "1/1 [==============================] - 0s 4ms/step - loss: 0.5598 - mae: 0.5598\n",
      "Epoch 86/100\n",
      "1/1 [==============================] - 0s 2ms/step - loss: 0.5800 - mae: 0.5800\n",
      "Epoch 87/100\n",
      "1/1 [==============================] - 0s 5ms/step - loss: 0.4190 - mae: 0.4190\n",
      "Epoch 88/100\n"
     ]
    },
    {
     "name": "stdout",
     "output_type": "stream",
     "text": [
      "1/1 [==============================] - 0s 2ms/step - loss: 0.4304 - mae: 0.4304\n",
      "Epoch 89/100\n",
      "1/1 [==============================] - 0s 4ms/step - loss: 0.4307 - mae: 0.4307\n",
      "Epoch 90/100\n",
      "1/1 [==============================] - 0s 4ms/step - loss: 0.2795 - mae: 0.2795\n",
      "Epoch 91/100\n",
      "1/1 [==============================] - 0s 6ms/step - loss: 0.1013 - mae: 0.1013\n",
      "Epoch 92/100\n",
      "1/1 [==============================] - 0s 4ms/step - loss: 0.1752 - mae: 0.1752\n",
      "Epoch 93/100\n",
      "1/1 [==============================] - 0s 6ms/step - loss: 0.2201 - mae: 0.2201\n",
      "Epoch 94/100\n",
      "1/1 [==============================] - 0s 10ms/step - loss: 0.2194 - mae: 0.2194\n",
      "Epoch 95/100\n",
      "1/1 [==============================] - 0s 7ms/step - loss: 0.2415 - mae: 0.2415\n",
      "Epoch 96/100\n",
      "1/1 [==============================] - 0s 2ms/step - loss: 0.1629 - mae: 0.1629\n",
      "Epoch 97/100\n",
      "1/1 [==============================] - 0s 2ms/step - loss: 0.1438 - mae: 0.1438\n",
      "Epoch 98/100\n",
      "1/1 [==============================] - 0s 9ms/step - loss: 0.0491 - mae: 0.0491\n",
      "Epoch 99/100\n",
      "1/1 [==============================] - 0s 5ms/step - loss: 0.1362 - mae: 0.1362\n",
      "Epoch 100/100\n",
      "1/1 [==============================] - 0s 2ms/step - loss: 0.1447 - mae: 0.1447\n"
     ]
    },
    {
     "data": {
      "text/plain": [
       "<tensorflow.python.keras.callbacks.History at 0x16ec9034400>"
      ]
     },
     "execution_count": 20,
     "metadata": {},
     "output_type": "execute_result"
    }
   ],
   "source": [
    "tf.random.set_seed = 42\n",
    "\n",
    "model = tf.keras.Sequential()\n",
    "\n",
    "model.add(tf.keras.layers.Dense(units=50, activation=None))\n",
    "model.add(tf.keras.layers.Dense(units=1))\n",
    "model.compile(loss=tf.keras.losses.mae,\n",
    "             optimizer = tf.keras.optimizers.Adam(learning_rate=0.01),\n",
    "             metrics=['mae'])\n",
    "\n",
    "model.fit(X, y, epochs=100)"
   ]
  },
  {
   "cell_type": "code",
   "execution_count": 21,
   "id": "f56c88de",
   "metadata": {},
   "outputs": [
    {
     "data": {
      "text/plain": [
       "array([[27.598335]], dtype=float32)"
      ]
     },
     "execution_count": 21,
     "metadata": {},
     "output_type": "execute_result"
    }
   ],
   "source": [
    "model.predict([17.0])"
   ]
  },
  {
   "cell_type": "code",
   "execution_count": 22,
   "id": "e00b6ed2",
   "metadata": {},
   "outputs": [
    {
     "data": {
      "text/plain": [
       "<tf.Tensor: shape=(50,), dtype=int32, numpy=\n",
       "array([-100,  -96,  -92,  -88,  -84,  -80,  -76,  -72,  -68,  -64,  -60,\n",
       "        -56,  -52,  -48,  -44,  -40,  -36,  -32,  -28,  -24,  -20,  -16,\n",
       "        -12,   -8,   -4,    0,    4,    8,   12,   16,   20,   24,   28,\n",
       "         32,   36,   40,   44,   48,   52,   56,   60,   64,   68,   72,\n",
       "         76,   80,   84,   88,   92,   96])>"
      ]
     },
     "execution_count": 22,
     "metadata": {},
     "output_type": "execute_result"
    }
   ],
   "source": [
    "X = tf.range(-100,100,4)\n",
    "X"
   ]
  },
  {
   "cell_type": "code",
   "execution_count": 23,
   "id": "37e90616",
   "metadata": {},
   "outputs": [
    {
     "data": {
      "text/plain": [
       "<tf.Tensor: shape=(50,), dtype=int32, numpy=\n",
       "array([-90, -86, -82, -78, -74, -70, -66, -62, -58, -54, -50, -46, -42,\n",
       "       -38, -34, -30, -26, -22, -18, -14, -10,  -6,  -2,   2,   6,  10,\n",
       "        14,  18,  22,  26,  30,  34,  38,  42,  46,  50,  54,  58,  62,\n",
       "        66,  70,  74,  78,  82,  86,  90,  94,  98, 102, 106])>"
      ]
     },
     "execution_count": 23,
     "metadata": {},
     "output_type": "execute_result"
    }
   ],
   "source": [
    "y = X + 10\n",
    "y"
   ]
  },
  {
   "cell_type": "code",
   "execution_count": 24,
   "id": "c5a679f1",
   "metadata": {},
   "outputs": [
    {
     "data": {
      "text/plain": [
       "<matplotlib.collections.PathCollection at 0x16ef99a64f0>"
      ]
     },
     "execution_count": 24,
     "metadata": {},
     "output_type": "execute_result"
    },
    {
     "data": {
      "image/png": "[encoded data removed]",
      "text/plain": [
       "<Figure size 432x288 with 1 Axes>"
      ]
     },
     "metadata": {
      "needs_background": "light"
     },
     "output_type": "display_data"
    }
   ],
   "source": [
    "plt.scatter(X,y)"
   ]
  },
  {
   "cell_type": "code",
   "execution_count": 25,
   "id": "779ef3e6",
   "metadata": {},
   "outputs": [
    {
     "data": {
      "text/plain": [
       "(40, 10, 40, 10)"
      ]
     },
     "execution_count": 25,
     "metadata": {},
     "output_type": "execute_result"
    }
   ],
   "source": [
    "X_train = X[:40]\n",
    "X_test = X[40:]\n",
    "\n",
    "y_train = y[:40]\n",
    "y_test = y[40:]\n",
    "\n",
    "len(X_train), len(X_test), len(y_train), len(y_test)"
   ]
  },
  {
   "cell_type": "code",
   "execution_count": 26,
   "id": "95949d96",
   "metadata": {},
   "outputs": [
    {
     "data": {
      "image/png": "[encoded data removed]",
      "text/plain": [
       "<Figure size 720x504 with 1 Axes>"
      ]
     },
     "metadata": {
      "needs_background": "light"
     },
     "output_type": "display_data"
    }
   ],
   "source": [
    "plt.figure(figsize=(10,7))\n",
    "plt.scatter(X_train, y_train, c='b', label='training')\n",
    "plt.scatter(X_test, y_test, c='g', label='test')\n",
    "plt.legend();"
   ]
  },
  {
   "cell_type": "code",
   "execution_count": 72,
   "id": "134ebb59",
   "metadata": {
    "scrolled": true
   },
   "outputs": [],
   "source": [
    "tf.random.set_seed = 42\n",
    "\n",
    "model = tf.keras.Sequential(name='model_1')\n",
    "model.add(tf.keras.layers.Dense(units=10, input_shape=[1], name='input_layer'))\n",
    "model.add(tf.keras.layers.Dense(units=1, name='output_layer'))\n",
    "\n",
    "model.compile(loss=tf.keras.losses.mae,\n",
    "              optimizer=tf.keras.optimizers.SGD(),\n",
    "              metrics=['mae'])\n"
   ]
  },
  {
   "cell_type": "code",
   "execution_count": 73,
   "id": "f258faa0",
   "metadata": {},
   "outputs": [
    {
     "data": {
      "text/plain": [
       "<tensorflow.python.keras.callbacks.History at 0x16eff627430>"
      ]
     },
     "execution_count": 73,
     "metadata": {},
     "output_type": "execute_result"
    }
   ],
   "source": [
    "model.fit(X_train,y_train,epochs=100,verbose=0)"
   ]
  },
  {
   "cell_type": "code",
   "execution_count": 74,
   "id": "3c10cc78",
   "metadata": {},
   "outputs": [
    {
     "name": "stdout",
     "output_type": "stream",
     "text": [
      "Model: \"model_1\"\n",
      "_________________________________________________________________\n",
      "Layer (type)                 Output Shape              Param #   \n",
      "=================================================================\n",
      "input_layer (Dense)          (None, 10)                20        \n",
      "_________________________________________________________________\n",
      "output_layer (Dense)         (None, 1)                 11        \n",
      "=================================================================\n",
      "Total params: 31\n",
      "Trainable params: 31\n",
      "Non-trainable params: 0\n",
      "_________________________________________________________________\n"
     ]
    }
   ],
   "source": [
    "model.summary()"
   ]
  },
  {
   "cell_type": "code",
   "execution_count": 75,
   "id": "0c69a218",
   "metadata": {},
   "outputs": [
    {
     "data": {
      "image/png": "[encoded data removed]",
      "text/plain": [
       "<IPython.core.display.Image object>"
      ]
     },
     "execution_count": 75,
     "metadata": {},
     "output_type": "execute_result"
    }
   ],
   "source": [
    "tf.keras.utils.plot_model(model,show_shapes=True)"
   ]
  },
  {
   "cell_type": "code",
   "execution_count": 76,
   "id": "a37090cf",
   "metadata": {},
   "outputs": [],
   "source": [
    "y_pred = model.predict(X_test)"
   ]
  },
  {
   "cell_type": "code",
   "execution_count": 77,
   "id": "775628ce",
   "metadata": {},
   "outputs": [
    {
     "data": {
      "text/plain": [
       "array([[ 70.88955 ],\n",
       "       [ 75.50137 ],\n",
       "       [ 80.113205],\n",
       "       [ 84.72502 ],\n",
       "       [ 89.33686 ],\n",
       "       [ 93.94868 ],\n",
       "       [ 98.5605  ],\n",
       "       [103.17233 ],\n",
       "       [107.78416 ],\n",
       "       [112.395966]], dtype=float32)"
      ]
     },
     "execution_count": 77,
     "metadata": {},
     "output_type": "execute_result"
    }
   ],
   "source": [
    "y_pred"
   ]
  },
  {
   "cell_type": "code",
   "execution_count": 82,
   "id": "c6c58ace",
   "metadata": {},
   "outputs": [
    {
     "data": {
      "text/plain": [
       "<matplotlib.collections.PathCollection at 0x16effcdb670>"
      ]
     },
     "execution_count": 82,
     "metadata": {},
     "output_type": "execute_result"
    },
    {
     "data": {
      "image/png": "[encoded data removed]",
      "text/plain": [
       "<Figure size 720x504 with 1 Axes>"
      ]
     },
     "metadata": {
      "needs_background": "light"
     },
     "output_type": "display_data"
    }
   ],
   "source": [
    "plt.figure(figsize=(10,7))\n",
    "plt.scatter(X_train,y_train,c='b')\n",
    "plt.scatter(X_test,y_test,c='g')\n",
    "plt.scatter(X_test,y_pred,c='r')"
   ]
  },
  {
   "cell_type": "code",
   "execution_count": 83,
   "id": "009bf3b2",
   "metadata": {},
   "outputs": [
    {
     "name": "stdout",
     "output_type": "stream",
     "text": [
      "1/1 [==============================] - 0s 189ms/step - loss: 3.6428 - mae: 3.6428\n"
     ]
    },
    {
     "data": {
      "text/plain": [
       "[3.6427643299102783, 3.6427643299102783]"
      ]
     },
     "execution_count": 83,
     "metadata": {},
     "output_type": "execute_result"
    }
   ],
   "source": [
    "model.evaluate(X_test,y_test)"
   ]
  },
  {
   "cell_type": "code",
   "execution_count": 91,
   "id": "28801d8c",
   "metadata": {},
   "outputs": [
    {
     "data": {
      "text/plain": [
       "<tf.Tensor: shape=(10,), dtype=float32, numpy=\n",
       "array([17.28836 , 13.899176, 11.554718, 10.254995, 10.      , 10.789736,\n",
       "       12.7363  , 15.737866, 19.784157, 24.395966], dtype=float32)>"
      ]
     },
     "execution_count": 91,
     "metadata": {},
     "output_type": "execute_result"
    }
   ],
   "source": [
    "tf.keras.losses.MAE(y_test, y_pred)"
   ]
  },
  {
   "cell_type": "code",
   "execution_count": 92,
   "id": "a044d725",
   "metadata": {},
   "outputs": [
    {
     "data": {
      "text/plain": [
       "<tf.Tensor: shape=(10,), dtype=int32, numpy=array([ 70,  74,  78,  82,  86,  90,  94,  98, 102, 106])>"
      ]
     },
     "execution_count": 92,
     "metadata": {},
     "output_type": "execute_result"
    }
   ],
   "source": [
    "y_test"
   ]
  },
  {
   "cell_type": "code",
   "execution_count": 95,
   "id": "6b0d7813",
   "metadata": {},
   "outputs": [],
   "source": [
    "y_pred = tf.constant(y_pred)"
   ]
  },
  {
   "cell_type": "code",
   "execution_count": 96,
   "id": "215e8c3c",
   "metadata": {},
   "outputs": [
    {
     "data": {
      "text/plain": [
       "<tf.Tensor: shape=(10, 1), dtype=float32, numpy=\n",
       "array([[ 70.88955 ],\n",
       "       [ 75.50137 ],\n",
       "       [ 80.113205],\n",
       "       [ 84.72502 ],\n",
       "       [ 89.33686 ],\n",
       "       [ 93.94868 ],\n",
       "       [ 98.5605  ],\n",
       "       [103.17233 ],\n",
       "       [107.78416 ],\n",
       "       [112.395966]], dtype=float32)>"
      ]
     },
     "execution_count": 96,
     "metadata": {},
     "output_type": "execute_result"
    }
   ],
   "source": [
    "y_pred"
   ]
  },
  {
   "cell_type": "code",
   "execution_count": 97,
   "id": "e865d92e",
   "metadata": {},
   "outputs": [],
   "source": [
    "y_pred = tf.squeeze(y_pred)"
   ]
  },
  {
   "cell_type": "code",
   "execution_count": 98,
   "id": "2d5e5c83",
   "metadata": {},
   "outputs": [
    {
     "data": {
      "text/plain": [
       "<tf.Tensor: shape=(10,), dtype=float32, numpy=\n",
       "array([ 70.88955 ,  75.50137 ,  80.113205,  84.72502 ,  89.33686 ,\n",
       "        93.94868 ,  98.5605  , 103.17233 , 107.78416 , 112.395966],\n",
       "      dtype=float32)>"
      ]
     },
     "execution_count": 98,
     "metadata": {},
     "output_type": "execute_result"
    }
   ],
   "source": [
    "y_pred"
   ]
  },
  {
   "cell_type": "code",
   "execution_count": 99,
   "id": "cf9ccfe7",
   "metadata": {},
   "outputs": [
    {
     "data": {
      "text/plain": [
       "<tf.Tensor: shape=(), dtype=float32, numpy=3.6427643>"
      ]
     },
     "execution_count": 99,
     "metadata": {},
     "output_type": "execute_result"
    }
   ],
   "source": [
    "tf.keras.metrics.mean_absolute_error(y_test, y_pred)"
   ]
  },
  {
   "cell_type": "code",
   "execution_count": 100,
   "id": "8dc228f8",
   "metadata": {},
   "outputs": [
    {
     "data": {
      "text/plain": [
       "<tf.Tensor: shape=(), dtype=float32, numpy=16.357952>"
      ]
     },
     "execution_count": 100,
     "metadata": {},
     "output_type": "execute_result"
    }
   ],
   "source": [
    "tf.keras.metrics.mean_squared_error(y_test, y_pred)"
   ]
  },
  {
   "cell_type": "code",
   "execution_count": 107,
   "id": "12d98450",
   "metadata": {},
   "outputs": [
    {
     "data": {
      "text/plain": [
       "<tensorflow.python.keras.callbacks.History at 0x16f005a80d0>"
      ]
     },
     "execution_count": 107,
     "metadata": {},
     "output_type": "execute_result"
    }
   ],
   "source": [
    "tf.random.set_seed=42\n",
    "model_2 = tf.keras.Sequential(name='model_2')\n",
    "\n",
    "model_2.add(tf.keras.layers.Dense(units=10))\n",
    "model_2.add(tf.keras.layers.Dense(units=1))\n",
    "\n",
    "model_2.compile(loss=tf.keras.losses.mae,\n",
    "                optimizer=tf.keras.optimizers.SGD(),\n",
    "                metrics = ['mae'])\n",
    "\n",
    "model_2.fit(X_train,y_train,epochs=100,verbose=0)"
   ]
  },
  {
   "cell_type": "code",
   "execution_count": 108,
   "id": "1d128706",
   "metadata": {},
   "outputs": [
    {
     "name": "stdout",
     "output_type": "stream",
     "text": [
      "1/1 [==============================] - 0s 83ms/step - loss: 2.1557 - mae: 2.1557\n"
     ]
    },
    {
     "data": {
      "text/plain": [
       "[2.15570068359375, 2.15570068359375]"
      ]
     },
     "execution_count": 108,
     "metadata": {},
     "output_type": "execute_result"
    }
   ],
   "source": [
    "model_2.evaluate(X_test,y_test)"
   ]
  },
  {
   "cell_type": "code",
   "execution_count": 109,
   "id": "9ff8c7d4",
   "metadata": {},
   "outputs": [],
   "source": [
    "predictions = model_2.predict(X_test)"
   ]
  },
  {
   "cell_type": "code",
   "execution_count": 110,
   "id": "5b5ad411",
   "metadata": {},
   "outputs": [
    {
     "data": {
      "text/plain": [
       "<matplotlib.collections.PathCollection at 0x16f009829a0>"
      ]
     },
     "execution_count": 110,
     "metadata": {},
     "output_type": "execute_result"
    },
    {
     "data": {
      "image/png": "[encoded data removed]",
      "text/plain": [
       "<Figure size 720x504 with 1 Axes>"
      ]
     },
     "metadata": {
      "needs_background": "light"
     },
     "output_type": "display_data"
    }
   ],
   "source": [
    "plt.figure(figsize=(10,7))\n",
    "plt.scatter(X_train,y_train,c='b')\n",
    "plt.scatter(X_test,y_test,c='g')\n",
    "plt.scatter(X_test,predictions,c='r')"
   ]
  },
  {
   "cell_type": "code",
   "execution_count": 111,
   "id": "25d00b86",
   "metadata": {},
   "outputs": [
    {
     "name": "stdout",
     "output_type": "stream",
     "text": [
      "INFO:tensorflow:Assets written to: reg_model_1\\assets\n"
     ]
    }
   ],
   "source": [
    "model_2.save('reg_model_1')"
   ]
  },
  {
   "cell_type": "code",
   "execution_count": 112,
   "id": "f2cbc04d",
   "metadata": {},
   "outputs": [],
   "source": [
    "model_2.save('reg_model_1.h5')"
   ]
  },
  {
   "cell_type": "code",
   "execution_count": 115,
   "id": "bfaf075f",
   "metadata": {},
   "outputs": [],
   "source": [
    "loaded_model = tf.keras.models.load_model('reg_model_1.h5')"
   ]
  },
  {
   "cell_type": "code",
   "execution_count": 120,
   "id": "135e036f",
   "metadata": {},
   "outputs": [
    {
     "name": "stdout",
     "output_type": "stream",
     "text": [
      "[<tf.Variable 'dense_17/kernel:0' shape=(1, 10) dtype=float32, numpy=\n",
      "array([[-2.5795579e-01, -9.1037489e-02, -2.0238255e-01, -6.4874627e-04,\n",
      "         2.9830533e-01,  1.4153075e-01, -2.0226593e-01, -7.0081598e-01,\n",
      "        -3.8091874e-01, -4.1835919e-01]], dtype=float32)>, <tf.Variable 'dense_17/bias:0' shape=(10,) dtype=float32, numpy=\n",
      "array([-2.1414803e-01, -7.2630875e-02, -1.6875893e-01,  4.1236769e-04,\n",
      "        2.4372980e-01,  1.0865460e-01, -1.6025332e-01, -5.6910449e-01,\n",
      "       -3.1295207e-01, -3.3850205e-01], dtype=float32)>, <tf.Variable 'dense_18/kernel:0' shape=(10, 1) dtype=float32, numpy=\n",
      "array([[-2.5849673e-01],\n",
      "       [-9.1220200e-02],\n",
      "       [-2.0280901e-01],\n",
      "       [-6.4746337e-04],\n",
      "       [ 2.9891998e-01],\n",
      "       [ 1.4180295e-01],\n",
      "       [-2.0266876e-01],\n",
      "       [-7.0225030e-01],\n",
      "       [-3.8170841e-01],\n",
      "       [-4.1921198e-01]], dtype=float32)>, <tf.Variable 'dense_18/bias:0' shape=(1,) dtype=float32, numpy=array([0.7893748], dtype=float32)>]\n"
     ]
    }
   ],
   "source": [
    "print(model_2.weights)"
   ]
  },
  {
   "cell_type": "code",
   "execution_count": null,
   "id": "92ca54b6",
   "metadata": {},
   "outputs": [],
   "source": []
  }
 ],
 "metadata": {
  "kernelspec": {
   "display_name": "Python 3 (ipykernel)",
   "language": "python",
   "name": "python3"
  },
  "language_info": {
   "codemirror_mode": {
    "name": "ipython",
    "version": 3
   },
   "file_extension": ".py",
   "mimetype": "text/x-python",
   "name": "python",
   "nbconvert_exporter": "python",
   "pygments_lexer": "ipython3",
   "version": "3.9.12"
  }
 },
 "nbformat": 4,
 "nbformat_minor": 5
}
