{
 "cells": [
  {
   "cell_type": "code",
   "execution_count": 1,
   "id": "5ef64e70",
   "metadata": {},
   "outputs": [],
   "source": [
    "import tensorflow as tf\n",
    "from tensorflow.keras.datasets import fashion_mnist"
   ]
  },
  {
   "cell_type": "code",
   "execution_count": 2,
   "id": "e63109da",
   "metadata": {},
   "outputs": [],
   "source": [
    "#(train_data,train_labels),(test_data,test_labels)\n",
    "(X_train, y_train), (X_test, y_test) = fashion_mnist.load_data()"
   ]
  },
  {
   "cell_type": "code",
   "execution_count": 3,
   "id": "ce2ca2e1",
   "metadata": {},
   "outputs": [
    {
     "data": {
      "text/plain": [
       "(60000, 28, 28)"
      ]
     },
     "execution_count": 3,
     "metadata": {},
     "output_type": "execute_result"
    }
   ],
   "source": [
    "X_train.shape"
   ]
  },
  {
   "cell_type": "code",
   "execution_count": 4,
   "id": "773c6970",
   "metadata": {},
   "outputs": [
    {
     "data": {
      "text/plain": [
       "3"
      ]
     },
     "execution_count": 4,
     "metadata": {},
     "output_type": "execute_result"
    }
   ],
   "source": [
    "X_train.ndim"
   ]
  },
  {
   "cell_type": "code",
   "execution_count": 5,
   "id": "1b5fc5d4",
   "metadata": {},
   "outputs": [
    {
     "data": {
      "text/plain": [
       "(60000,)"
      ]
     },
     "execution_count": 5,
     "metadata": {},
     "output_type": "execute_result"
    }
   ],
   "source": [
    "y_train.shape"
   ]
  },
  {
   "cell_type": "code",
   "execution_count": 6,
   "id": "08a56b96",
   "metadata": {},
   "outputs": [
    {
     "data": {
      "text/plain": [
       "array([[  0,   0,   0,   0,   0,   0,   0,   0,   0,   0,   0,   0,   0,\n",
       "          0,   0,   0,   0,   0,   0,   0,   0,   0,   0,   0,   0,   0,\n",
       "          0,   0],\n",
       "       [  0,   0,   0,   0,   0,   0,   0,   0,   0,   0,   0,   0,   0,\n",
       "          0,   0,   0,   0,   0,   0,   0,   0,   0,   0,   0,   0,   0,\n",
       "          0,   0],\n",
       "       [  0,   0,   0,   0,   0,   0,   0,   0,   0,   0,   0,   0,   0,\n",
       "          0,   0,   0,   0,   0,   0,   0,   0,   0,   0,   0,   0,   0,\n",
       "          0,   0],\n",
       "       [  0,   0,   0,   0,   0,   0,   0,   0,   0,   0,   0,   0,   1,\n",
       "          0,   0,  13,  73,   0,   0,   1,   4,   0,   0,   0,   0,   1,\n",
       "          1,   0],\n",
       "       [  0,   0,   0,   0,   0,   0,   0,   0,   0,   0,   0,   0,   3,\n",
       "          0,  36, 136, 127,  62,  54,   0,   0,   0,   1,   3,   4,   0,\n",
       "          0,   3],\n",
       "       [  0,   0,   0,   0,   0,   0,   0,   0,   0,   0,   0,   0,   6,\n",
       "          0, 102, 204, 176, 134, 144, 123,  23,   0,   0,   0,   0,  12,\n",
       "         10,   0],\n",
       "       [  0,   0,   0,   0,   0,   0,   0,   0,   0,   0,   0,   0,   0,\n",
       "          0, 155, 236, 207, 178, 107, 156, 161, 109,  64,  23,  77, 130,\n",
       "         72,  15],\n",
       "       [  0,   0,   0,   0,   0,   0,   0,   0,   0,   0,   0,   1,   0,\n",
       "         69, 207, 223, 218, 216, 216, 163, 127, 121, 122, 146, 141,  88,\n",
       "        172,  66],\n",
       "       [  0,   0,   0,   0,   0,   0,   0,   0,   0,   1,   1,   1,   0,\n",
       "        200, 232, 232, 233, 229, 223, 223, 215, 213, 164, 127, 123, 196,\n",
       "        229,   0],\n",
       "       [  0,   0,   0,   0,   0,   0,   0,   0,   0,   0,   0,   0,   0,\n",
       "        183, 225, 216, 223, 228, 235, 227, 224, 222, 224, 221, 223, 245,\n",
       "        173,   0],\n",
       "       [  0,   0,   0,   0,   0,   0,   0,   0,   0,   0,   0,   0,   0,\n",
       "        193, 228, 218, 213, 198, 180, 212, 210, 211, 213, 223, 220, 243,\n",
       "        202,   0],\n",
       "       [  0,   0,   0,   0,   0,   0,   0,   0,   0,   1,   3,   0,  12,\n",
       "        219, 220, 212, 218, 192, 169, 227, 208, 218, 224, 212, 226, 197,\n",
       "        209,  52],\n",
       "       [  0,   0,   0,   0,   0,   0,   0,   0,   0,   0,   6,   0,  99,\n",
       "        244, 222, 220, 218, 203, 198, 221, 215, 213, 222, 220, 245, 119,\n",
       "        167,  56],\n",
       "       [  0,   0,   0,   0,   0,   0,   0,   0,   0,   4,   0,   0,  55,\n",
       "        236, 228, 230, 228, 240, 232, 213, 218, 223, 234, 217, 217, 209,\n",
       "         92,   0],\n",
       "       [  0,   0,   1,   4,   6,   7,   2,   0,   0,   0,   0,   0, 237,\n",
       "        226, 217, 223, 222, 219, 222, 221, 216, 223, 229, 215, 218, 255,\n",
       "         77,   0],\n",
       "       [  0,   3,   0,   0,   0,   0,   0,   0,   0,  62, 145, 204, 228,\n",
       "        207, 213, 221, 218, 208, 211, 218, 224, 223, 219, 215, 224, 244,\n",
       "        159,   0],\n",
       "       [  0,   0,   0,   0,  18,  44,  82, 107, 189, 228, 220, 222, 217,\n",
       "        226, 200, 205, 211, 230, 224, 234, 176, 188, 250, 248, 233, 238,\n",
       "        215,   0],\n",
       "       [  0,  57, 187, 208, 224, 221, 224, 208, 204, 214, 208, 209, 200,\n",
       "        159, 245, 193, 206, 223, 255, 255, 221, 234, 221, 211, 220, 232,\n",
       "        246,   0],\n",
       "       [  3, 202, 228, 224, 221, 211, 211, 214, 205, 205, 205, 220, 240,\n",
       "         80, 150, 255, 229, 221, 188, 154, 191, 210, 204, 209, 222, 228,\n",
       "        225,   0],\n",
       "       [ 98, 233, 198, 210, 222, 229, 229, 234, 249, 220, 194, 215, 217,\n",
       "        241,  65,  73, 106, 117, 168, 219, 221, 215, 217, 223, 223, 224,\n",
       "        229,  29],\n",
       "       [ 75, 204, 212, 204, 193, 205, 211, 225, 216, 185, 197, 206, 198,\n",
       "        213, 240, 195, 227, 245, 239, 223, 218, 212, 209, 222, 220, 221,\n",
       "        230,  67],\n",
       "       [ 48, 203, 183, 194, 213, 197, 185, 190, 194, 192, 202, 214, 219,\n",
       "        221, 220, 236, 225, 216, 199, 206, 186, 181, 177, 172, 181, 205,\n",
       "        206, 115],\n",
       "       [  0, 122, 219, 193, 179, 171, 183, 196, 204, 210, 213, 207, 211,\n",
       "        210, 200, 196, 194, 191, 195, 191, 198, 192, 176, 156, 167, 177,\n",
       "        210,  92],\n",
       "       [  0,   0,  74, 189, 212, 191, 175, 172, 175, 181, 185, 188, 189,\n",
       "        188, 193, 198, 204, 209, 210, 210, 211, 188, 188, 194, 192, 216,\n",
       "        170,   0],\n",
       "       [  2,   0,   0,   0,  66, 200, 222, 237, 239, 242, 246, 243, 244,\n",
       "        221, 220, 193, 191, 179, 182, 182, 181, 176, 166, 168,  99,  58,\n",
       "          0,   0],\n",
       "       [  0,   0,   0,   0,   0,   0,   0,  40,  61,  44,  72,  41,  35,\n",
       "          0,   0,   0,   0,   0,   0,   0,   0,   0,   0,   0,   0,   0,\n",
       "          0,   0],\n",
       "       [  0,   0,   0,   0,   0,   0,   0,   0,   0,   0,   0,   0,   0,\n",
       "          0,   0,   0,   0,   0,   0,   0,   0,   0,   0,   0,   0,   0,\n",
       "          0,   0],\n",
       "       [  0,   0,   0,   0,   0,   0,   0,   0,   0,   0,   0,   0,   0,\n",
       "          0,   0,   0,   0,   0,   0,   0,   0,   0,   0,   0,   0,   0,\n",
       "          0,   0]], dtype=uint8)"
      ]
     },
     "execution_count": 6,
     "metadata": {},
     "output_type": "execute_result"
    }
   ],
   "source": [
    "X_train[0]"
   ]
  },
  {
   "cell_type": "code",
   "execution_count": 7,
   "id": "feae27dc",
   "metadata": {},
   "outputs": [
    {
     "data": {
      "text/plain": [
       "9"
      ]
     },
     "execution_count": 7,
     "metadata": {},
     "output_type": "execute_result"
    }
   ],
   "source": [
    "y_train[0]"
   ]
  },
  {
   "cell_type": "code",
   "execution_count": 8,
   "id": "1e29237f",
   "metadata": {},
   "outputs": [
    {
     "data": {
      "text/plain": [
       "<matplotlib.image.AxesImage at 0x1fa0a81db20>"
      ]
     },
     "execution_count": 8,
     "metadata": {},
     "output_type": "execute_result"
    },
    {
     "data": {
      "image/png": "[encoded data removed]",
      "text/plain": [
       "<Figure size 432x288 with 1 Axes>"
      ]
     },
     "metadata": {
      "needs_background": "light"
     },
     "output_type": "display_data"
    }
   ],
   "source": [
    "import matplotlib.pyplot as plt\n",
    "plt.imshow(X_train[0])"
   ]
  },
  {
   "cell_type": "code",
   "execution_count": 9,
   "id": "dd162393",
   "metadata": {},
   "outputs": [
    {
     "data": {
      "image/png": "[encoded data removed]",
      "text/plain": [
       "<Figure size 432x288 with 1 Axes>"
      ]
     },
     "metadata": {
      "needs_background": "light"
     },
     "output_type": "display_data"
    }
   ],
   "source": [
    "import matplotlib.pyplot as plt\n",
    "plt.imshow(X_train[516])\n",
    "plt.axis=False\n"
   ]
  },
  {
   "cell_type": "code",
   "execution_count": 10,
   "id": "a05b2190",
   "metadata": {},
   "outputs": [],
   "source": [
    "class_names = ['T-shirt/top','Trouser','Pullover','Dress','Coat','Sandal','Shirt','Sneaker','Bag','Ankle boot']"
   ]
  },
  {
   "cell_type": "code",
   "execution_count": 11,
   "id": "938eb34e",
   "metadata": {},
   "outputs": [],
   "source": [
    "tf.random.set_seed=42\n",
    "\n",
    "model1 = tf.keras.Sequential()\n",
    "\n",
    "model1.add(tf.keras.layers.Flatten(input_shape=(28,28)))\n",
    "\n",
    "model1.add(tf.keras.layers.Dense(units=20,activation='relu'))\n",
    "model1.add(tf.keras.layers.Dense(units=20,activation='relu'))\n",
    "\n",
    "model1.add(tf.keras.layers.Dense(units=10,activation='softmax'))\n",
    "\n",
    "model1.compile(loss=tf.keras.losses.SparseCategoricalCrossentropy(),\n",
    "               optimizer=tf.keras.optimizers.Adam(),\n",
    "               metrics=['accuracy'])\n"
   ]
  },
  {
   "cell_type": "code",
   "execution_count": 12,
   "id": "a3c2ca01",
   "metadata": {},
   "outputs": [
    {
     "name": "stdout",
     "output_type": "stream",
     "text": [
      "Epoch 1/10\n",
      "1875/1875 [==============================] - 3s 1ms/step - loss: 2.0043 - accuracy: 0.4528\n",
      "Epoch 2/10\n",
      "1875/1875 [==============================] - 3s 1ms/step - loss: 0.9146 - accuracy: 0.6510\n",
      "Epoch 3/10\n",
      "1875/1875 [==============================] - 3s 1ms/step - loss: 0.7900 - accuracy: 0.6954\n",
      "Epoch 4/10\n",
      "1875/1875 [==============================] - 3s 2ms/step - loss: 0.7610 - accuracy: 0.7056\n",
      "Epoch 5/10\n",
      "1875/1875 [==============================] - 3s 1ms/step - loss: 0.7385 - accuracy: 0.7133\n",
      "Epoch 6/10\n",
      "1875/1875 [==============================] - 3s 1ms/step - loss: 0.7233 - accuracy: 0.7163\n",
      "Epoch 7/10\n",
      "1875/1875 [==============================] - 3s 1ms/step - loss: 0.7105 - accuracy: 0.7180\n",
      "Epoch 8/10\n",
      "1875/1875 [==============================] - 3s 1ms/step - loss: 0.7048 - accuracy: 0.7221\n",
      "Epoch 9/10\n",
      "1875/1875 [==============================] - 3s 1ms/step - loss: 0.6965 - accuracy: 0.7204\n",
      "Epoch 10/10\n",
      "1875/1875 [==============================] - 3s 1ms/step - loss: 0.6849 - accuracy: 0.7254\n"
     ]
    }
   ],
   "source": [
    "hist1 = model1.fit(X_train,y_train,epochs=10)"
   ]
  },
  {
   "cell_type": "code",
   "execution_count": 13,
   "id": "350b4603",
   "metadata": {},
   "outputs": [],
   "source": [
    "X_train_scaled = X_train/255.0\n",
    "X_test_scaled = X_test/255.0"
   ]
  },
  {
   "cell_type": "code",
   "execution_count": 14,
   "id": "369d505b",
   "metadata": {},
   "outputs": [],
   "source": [
    "tf.random.set_seed=42\n",
    "\n",
    "model2 = tf.keras.Sequential()\n",
    "\n",
    "model2.add(tf.keras.layers.Flatten(input_shape=(28,28)))\n",
    "\n",
    "model2.add(tf.keras.layers.Dense(units=20,activation='relu'))\n",
    "model2.add(tf.keras.layers.Dense(units=20,activation='relu'))\n",
    "\n",
    "model2.add(tf.keras.layers.Dense(units=10,activation='softmax'))\n",
    "\n",
    "\n",
    "\n",
    "model2.compile(loss=tf.keras.losses.SparseCategoricalCrossentropy(),\n",
    "               optimizer=tf.keras.optimizers.Adam(),\n",
    "               metrics=['accuracy'])\n"
   ]
  },
  {
   "cell_type": "code",
   "execution_count": 15,
   "id": "0ac98b74",
   "metadata": {},
   "outputs": [
    {
     "name": "stdout",
     "output_type": "stream",
     "text": [
      "Epoch 1/10\n",
      "1875/1875 [==============================] - 4s 2ms/step - loss: 0.5920 - accuracy: 0.7953 - val_loss: 0.4721 - val_accuracy: 0.8330\n",
      "Epoch 2/10\n",
      "1875/1875 [==============================] - 3s 2ms/step - loss: 0.4248 - accuracy: 0.8507 - val_loss: 0.4314 - val_accuracy: 0.8479\n",
      "Epoch 3/10\n",
      "1875/1875 [==============================] - 3s 2ms/step - loss: 0.3907 - accuracy: 0.8609 - val_loss: 0.4287 - val_accuracy: 0.8469\n",
      "Epoch 4/10\n",
      "1875/1875 [==============================] - 3s 2ms/step - loss: 0.3691 - accuracy: 0.8670 - val_loss: 0.3984 - val_accuracy: 0.8557\n",
      "Epoch 5/10\n",
      "1875/1875 [==============================] - 3s 2ms/step - loss: 0.3554 - accuracy: 0.8712 - val_loss: 0.3979 - val_accuracy: 0.8610\n",
      "Epoch 6/10\n",
      "1875/1875 [==============================] - 3s 2ms/step - loss: 0.3431 - accuracy: 0.8743 - val_loss: 0.3974 - val_accuracy: 0.8578\n",
      "Epoch 7/10\n",
      "1875/1875 [==============================] - 3s 2ms/step - loss: 0.3343 - accuracy: 0.8780 - val_loss: 0.3919 - val_accuracy: 0.8619\n",
      "Epoch 8/10\n",
      "1875/1875 [==============================] - 3s 2ms/step - loss: 0.3258 - accuracy: 0.8806 - val_loss: 0.3798 - val_accuracy: 0.8648\n",
      "Epoch 9/10\n",
      "1875/1875 [==============================] - 3s 2ms/step - loss: 0.3217 - accuracy: 0.8807 - val_loss: 0.3725 - val_accuracy: 0.8680\n",
      "Epoch 10/10\n",
      "1875/1875 [==============================] - 3s 2ms/step - loss: 0.3135 - accuracy: 0.8838 - val_loss: 0.3692 - val_accuracy: 0.8689\n"
     ]
    }
   ],
   "source": [
    "hist2 = model2.fit(X_train_scaled,\n",
    "                   y_train,\n",
    "                   epochs=10,\n",
    "                   validation_data=(X_test_scaled,y_test))"
   ]
  },
  {
   "cell_type": "code",
   "execution_count": 16,
   "id": "9c9280b9",
   "metadata": {},
   "outputs": [],
   "source": [
    "import pandas as pd\n",
    "loss_df = pd.DataFrame(hist2.history)\n"
   ]
  },
  {
   "cell_type": "code",
   "execution_count": 17,
   "id": "71d0f2cc",
   "metadata": {},
   "outputs": [
    {
     "data": {
      "text/html": [
       "<div>\n",
       "<style scoped>\n",
       "    .dataframe tbody tr th:only-of-type {\n",
       "        vertical-align: middle;\n",
       "    }\n",
       "\n",
       "    .dataframe tbody tr th {\n",
       "        vertical-align: top;\n",
       "    }\n",
       "\n",
       "    .dataframe thead th {\n",
       "        text-align: right;\n",
       "    }\n",
       "</style>\n",
       "<table border=\"1\" class=\"dataframe\">\n",
       "  <thead>\n",
       "    <tr style=\"text-align: right;\">\n",
       "      <th></th>\n",
       "      <th>loss</th>\n",
       "      <th>accuracy</th>\n",
       "      <th>val_loss</th>\n",
       "      <th>val_accuracy</th>\n",
       "    </tr>\n",
       "  </thead>\n",
       "  <tbody>\n",
       "    <tr>\n",
       "      <th>0</th>\n",
       "      <td>0.591985</td>\n",
       "      <td>0.795300</td>\n",
       "      <td>0.472078</td>\n",
       "      <td>0.8330</td>\n",
       "    </tr>\n",
       "    <tr>\n",
       "      <th>1</th>\n",
       "      <td>0.424755</td>\n",
       "      <td>0.850717</td>\n",
       "      <td>0.431385</td>\n",
       "      <td>0.8479</td>\n",
       "    </tr>\n",
       "    <tr>\n",
       "      <th>2</th>\n",
       "      <td>0.390690</td>\n",
       "      <td>0.860933</td>\n",
       "      <td>0.428736</td>\n",
       "      <td>0.8469</td>\n",
       "    </tr>\n",
       "    <tr>\n",
       "      <th>3</th>\n",
       "      <td>0.369127</td>\n",
       "      <td>0.867000</td>\n",
       "      <td>0.398397</td>\n",
       "      <td>0.8557</td>\n",
       "    </tr>\n",
       "    <tr>\n",
       "      <th>4</th>\n",
       "      <td>0.355426</td>\n",
       "      <td>0.871233</td>\n",
       "      <td>0.397896</td>\n",
       "      <td>0.8610</td>\n",
       "    </tr>\n",
       "  </tbody>\n",
       "</table>\n",
       "</div>"
      ],
      "text/plain": [
       "       loss  accuracy  val_loss  val_accuracy\n",
       "0  0.591985  0.795300  0.472078        0.8330\n",
       "1  0.424755  0.850717  0.431385        0.8479\n",
       "2  0.390690  0.860933  0.428736        0.8469\n",
       "3  0.369127  0.867000  0.398397        0.8557\n",
       "4  0.355426  0.871233  0.397896        0.8610"
      ]
     },
     "execution_count": 17,
     "metadata": {},
     "output_type": "execute_result"
    }
   ],
   "source": [
    "loss_df.head()"
   ]
  },
  {
   "cell_type": "code",
   "execution_count": 18,
   "id": "fb4aa5ef",
   "metadata": {},
   "outputs": [
    {
     "data": {
      "text/plain": [
       "<AxesSubplot:>"
      ]
     },
     "execution_count": 18,
     "metadata": {},
     "output_type": "execute_result"
    },
    {
     "data": {
      "image/png": "[encoded data removed]",
      "text/plain": [
       "<Figure size 720x504 with 1 Axes>"
      ]
     },
     "metadata": {
      "needs_background": "light"
     },
     "output_type": "display_data"
    }
   ],
   "source": [
    "loss_df.plot(figsize=(10,7))"
   ]
  },
  {
   "cell_type": "code",
   "execution_count": 19,
   "id": "5893804e",
   "metadata": {},
   "outputs": [],
   "source": [
    "tf.random.set_seed=42\n",
    "\n",
    "model3 = tf.keras.Sequential()\n",
    "\n",
    "model3.add(tf.keras.layers.Flatten(input_shape=(28,28)))\n",
    "\n",
    "model3.add(tf.keras.layers.Dense(units=20,activation='relu'))\n",
    "model3.add(tf.keras.layers.Dense(units=20,activation='relu'))\n",
    "\n",
    "model3.add(tf.keras.layers.Dense(units=10,activation='softmax'))\n",
    "\n",
    "lr_scheduler = tf.keras.callbacks.LearningRateScheduler(lambda epoch: 1e-3 * 10**(epoch/20)) \n",
    "\n",
    "model3.compile(loss=tf.keras.losses.SparseCategoricalCrossentropy(),\n",
    "               optimizer=tf.keras.optimizers.Adam(),\n",
    "               metrics=['accuracy'])\n"
   ]
  },
  {
   "cell_type": "code",
   "execution_count": 20,
   "id": "f507808d",
   "metadata": {
    "scrolled": true
   },
   "outputs": [
    {
     "name": "stdout",
     "output_type": "stream",
     "text": [
      "Epoch 1/40\n",
      "1875/1875 [==============================] - 3s 2ms/step - loss: 0.6049 - accuracy: 0.7932 - val_loss: 0.5285 - val_accuracy: 0.8096\n",
      "Epoch 2/40\n",
      "1875/1875 [==============================] - 3s 2ms/step - loss: 0.4435 - accuracy: 0.8440 - val_loss: 0.4848 - val_accuracy: 0.8310\n",
      "Epoch 3/40\n",
      "1875/1875 [==============================] - 3s 2ms/step - loss: 0.4109 - accuracy: 0.8552 - val_loss: 0.4453 - val_accuracy: 0.8354\n",
      "Epoch 4/40\n",
      "1875/1875 [==============================] - 3s 2ms/step - loss: 0.3922 - accuracy: 0.8612 - val_loss: 0.4238 - val_accuracy: 0.8530\n",
      "Epoch 5/40\n",
      "1875/1875 [==============================] - 3s 2ms/step - loss: 0.3823 - accuracy: 0.8634 - val_loss: 0.4199 - val_accuracy: 0.8513\n",
      "Epoch 6/40\n",
      "1875/1875 [==============================] - 5s 2ms/step - loss: 0.3738 - accuracy: 0.8674 - val_loss: 0.4124 - val_accuracy: 0.8536\n",
      "Epoch 7/40\n",
      "1875/1875 [==============================] - 5s 2ms/step - loss: 0.3637 - accuracy: 0.8685 - val_loss: 0.4497 - val_accuracy: 0.8415\n",
      "Epoch 8/40\n",
      "1875/1875 [==============================] - 5s 3ms/step - loss: 0.3604 - accuracy: 0.8699 - val_loss: 0.4370 - val_accuracy: 0.8454\n",
      "Epoch 9/40\n",
      "1875/1875 [==============================] - 4s 2ms/step - loss: 0.3556 - accuracy: 0.8715 - val_loss: 0.3936 - val_accuracy: 0.8558\n",
      "Epoch 10/40\n",
      "1875/1875 [==============================] - 4s 2ms/step - loss: 0.3566 - accuracy: 0.8713 - val_loss: 0.3983 - val_accuracy: 0.8600\n",
      "Epoch 11/40\n",
      "1875/1875 [==============================] - 4s 2ms/step - loss: 0.3563 - accuracy: 0.8705 - val_loss: 0.3954 - val_accuracy: 0.8588\n",
      "Epoch 12/40\n",
      "1875/1875 [==============================] - 4s 2ms/step - loss: 0.3526 - accuracy: 0.8710 - val_loss: 0.4228 - val_accuracy: 0.8490\n",
      "Epoch 13/40\n",
      "1875/1875 [==============================] - 4s 2ms/step - loss: 0.3541 - accuracy: 0.8701 - val_loss: 0.4188 - val_accuracy: 0.8527\n",
      "Epoch 14/40\n",
      "1875/1875 [==============================] - 4s 2ms/step - loss: 0.3549 - accuracy: 0.8713 - val_loss: 0.4199 - val_accuracy: 0.8527\n",
      "Epoch 15/40\n",
      "1875/1875 [==============================] - 5s 2ms/step - loss: 0.3604 - accuracy: 0.8687 - val_loss: 0.4073 - val_accuracy: 0.8565\n",
      "Epoch 16/40\n",
      "1875/1875 [==============================] - 4s 2ms/step - loss: 0.3584 - accuracy: 0.8702 - val_loss: 0.4433 - val_accuracy: 0.8467\n",
      "Epoch 17/40\n",
      "1875/1875 [==============================] - 5s 2ms/step - loss: 0.3649 - accuracy: 0.8673 - val_loss: 0.4330 - val_accuracy: 0.8446\n",
      "Epoch 18/40\n",
      "1875/1875 [==============================] - 5s 3ms/step - loss: 0.3686 - accuracy: 0.8659 - val_loss: 0.4312 - val_accuracy: 0.8516\n",
      "Epoch 19/40\n",
      "1875/1875 [==============================] - 5s 2ms/step - loss: 0.3736 - accuracy: 0.8658 - val_loss: 0.4415 - val_accuracy: 0.8487\n",
      "Epoch 20/40\n",
      "1875/1875 [==============================] - 4s 2ms/step - loss: 0.3830 - accuracy: 0.8641 - val_loss: 0.4689 - val_accuracy: 0.8349\n",
      "Epoch 21/40\n",
      "1875/1875 [==============================] - 4s 2ms/step - loss: 0.3927 - accuracy: 0.8612 - val_loss: 0.4554 - val_accuracy: 0.8507\n",
      "Epoch 22/40\n",
      "1875/1875 [==============================] - 3s 2ms/step - loss: 0.3970 - accuracy: 0.8611 - val_loss: 0.4941 - val_accuracy: 0.8431\n",
      "Epoch 23/40\n",
      "1875/1875 [==============================] - 3s 2ms/step - loss: 0.4099 - accuracy: 0.8579 - val_loss: 0.4754 - val_accuracy: 0.8330\n",
      "Epoch 24/40\n",
      "1875/1875 [==============================] - 3s 2ms/step - loss: 0.4253 - accuracy: 0.8519 - val_loss: 0.5000 - val_accuracy: 0.8362\n",
      "Epoch 25/40\n",
      "1875/1875 [==============================] - 3s 2ms/step - loss: 0.4478 - accuracy: 0.8467 - val_loss: 0.6125 - val_accuracy: 0.8142\n",
      "Epoch 26/40\n",
      "1875/1875 [==============================] - 3s 2ms/step - loss: 0.4509 - accuracy: 0.8465 - val_loss: 0.5117 - val_accuracy: 0.8284\n",
      "Epoch 27/40\n",
      "1875/1875 [==============================] - 3s 2ms/step - loss: 0.4685 - accuracy: 0.8413 - val_loss: 0.5227 - val_accuracy: 0.8248\n",
      "Epoch 28/40\n",
      "1875/1875 [==============================] - 3s 2ms/step - loss: 0.5249 - accuracy: 0.8250 - val_loss: 0.5541 - val_accuracy: 0.8244\n",
      "Epoch 29/40\n",
      "1875/1875 [==============================] - 3s 2ms/step - loss: 0.5463 - accuracy: 0.8176 - val_loss: 0.6622 - val_accuracy: 0.7552\n",
      "Epoch 30/40\n",
      "1875/1875 [==============================] - 3s 2ms/step - loss: 0.5641 - accuracy: 0.8144 - val_loss: 0.5681 - val_accuracy: 0.8141\n",
      "Epoch 31/40\n",
      "1875/1875 [==============================] - 3s 2ms/step - loss: 0.6706 - accuracy: 0.7771 - val_loss: 0.8204 - val_accuracy: 0.7186\n",
      "Epoch 32/40\n",
      "1875/1875 [==============================] - 3s 2ms/step - loss: 0.9402 - accuracy: 0.6436 - val_loss: 1.0842 - val_accuracy: 0.5302\n",
      "Epoch 33/40\n",
      "1875/1875 [==============================] - 3s 2ms/step - loss: 1.0353 - accuracy: 0.5591 - val_loss: 0.9930 - val_accuracy: 0.5883\n",
      "Epoch 34/40\n",
      "1875/1875 [==============================] - 3s 2ms/step - loss: 1.3731 - accuracy: 0.4242 - val_loss: 1.4025 - val_accuracy: 0.3653\n",
      "Epoch 35/40\n",
      "1875/1875 [==============================] - 3s 2ms/step - loss: 1.5011 - accuracy: 0.3366 - val_loss: 1.6974 - val_accuracy: 0.2131\n",
      "Epoch 36/40\n",
      "1875/1875 [==============================] - 3s 2ms/step - loss: 1.7149 - accuracy: 0.2382 - val_loss: 1.7362 - val_accuracy: 0.2226\n",
      "Epoch 37/40\n",
      "1875/1875 [==============================] - 3s 2ms/step - loss: 1.7359 - accuracy: 0.2367 - val_loss: 1.6993 - val_accuracy: 0.2319\n",
      "Epoch 38/40\n",
      "1875/1875 [==============================] - 3s 2ms/step - loss: 1.7343 - accuracy: 0.2332 - val_loss: 1.7014 - val_accuracy: 0.2290\n",
      "Epoch 39/40\n",
      "1875/1875 [==============================] - 4s 2ms/step - loss: 1.7429 - accuracy: 0.2236 - val_loss: 1.7703 - val_accuracy: 0.1757\n",
      "Epoch 40/40\n",
      "1875/1875 [==============================] - 3s 2ms/step - loss: 1.7447 - accuracy: 0.2221 - val_loss: 1.7615 - val_accuracy: 0.2123\n"
     ]
    }
   ],
   "source": [
    "hist3 = model3.fit(X_train_scaled,\n",
    "                   y_train,\n",
    "                   epochs=40,\n",
    "                   validation_data=(X_test_scaled,y_test),\n",
    "                   callbacks=[lr_scheduler])"
   ]
  },
  {
   "cell_type": "code",
   "execution_count": 21,
   "id": "f5e2ec56",
   "metadata": {},
   "outputs": [],
   "source": [
    "import matplotlib.pyplot as plt\n",
    "import numpy as np"
   ]
  },
  {
   "cell_type": "code",
   "execution_count": 27,
   "id": "d2b1cff9",
   "metadata": {},
   "outputs": [
    {
     "data": {
      "text/plain": [
       "[0.6048614382743835,\n",
       " 0.4434572458267212,\n",
       " 0.41090065240859985,\n",
       " 0.3922250270843506,\n",
       " 0.3823302388191223,\n",
       " 0.37384602427482605,\n",
       " 0.36373522877693176,\n",
       " 0.36037492752075195,\n",
       " 0.3555554151535034,\n",
       " 0.3566151559352875,\n",
       " 0.35626858472824097,\n",
       " 0.35259783267974854,\n",
       " 0.35405078530311584,\n",
       " 0.3548769950866699,\n",
       " 0.36037492752075195,\n",
       " 0.3584355115890503,\n",
       " 0.36489948630332947,\n",
       " 0.3686235249042511,\n",
       " 0.3735824227333069,\n",
       " 0.3829970061779022,\n",
       " 0.39269906282424927,\n",
       " 0.39696455001831055,\n",
       " 0.40992429852485657,\n",
       " 0.4252859950065613,\n",
       " 0.44780048727989197,\n",
       " 0.4508886933326721,\n",
       " 0.4685055613517761,\n",
       " 0.5249268412590027,\n",
       " 0.5463476181030273,\n",
       " 0.564118504524231,\n",
       " 0.6705676913261414,\n",
       " 0.9402284622192383,\n",
       " 1.0352771282196045,\n",
       " 1.373148798942566,\n",
       " 1.5011171102523804,\n",
       " 1.7148730754852295,\n",
       " 1.735936164855957,\n",
       " 1.734320878982544,\n",
       " 1.7429455518722534,\n",
       " 1.744704008102417]"
      ]
     },
     "execution_count": 27,
     "metadata": {},
     "output_type": "execute_result"
    }
   ],
   "source": [
    "hist3.history['loss']"
   ]
  },
  {
   "cell_type": "code",
   "execution_count": 29,
   "id": "0e087a53",
   "metadata": {},
   "outputs": [
    {
     "data": {
      "text/plain": [
       "[<matplotlib.lines.Line2D at 0x1fa533ca190>]"
      ]
     },
     "execution_count": 29,
     "metadata": {},
     "output_type": "execute_result"
    },
    {
     "data": {
      "image/png": "[encoded data removed]",
      "text/plain": [
       "<Figure size 432x288 with 1 Axes>"
      ]
     },
     "metadata": {
      "needs_background": "light"
     },
     "output_type": "display_data"
    }
   ],
   "source": [
    "lrs = 1e-3 * (10**(tf.range(40)/20))\n",
    "plt.semilogx(lrs,hist3.history['loss'])"
   ]
  },
  {
   "cell_type": "code",
   "execution_count": 31,
   "id": "1e73d25b",
   "metadata": {},
   "outputs": [],
   "source": [
    "tf.random.set_seed=42\n",
    "\n",
    "model4 = tf.keras.Sequential()\n",
    "\n",
    "model4.add(tf.keras.layers.Flatten(input_shape=(28,28)))\n",
    "\n",
    "model4.add(tf.keras.layers.Dense(units=20,activation='relu'))\n",
    "model4.add(tf.keras.layers.Dense(units=20,activation='relu'))\n",
    "\n",
    "model4.add(tf.keras.layers.Dense(units=10,activation='softmax'))\n",
    "\n",
    "# lr_scheduler = tf.keras.callbacks.LearningRateScheduler(lambda epoch: 1e-3 * 10**(epoch/20)) \n",
    "\n",
    "model4.compile(loss=tf.keras.losses.SparseCategoricalCrossentropy(),\n",
    "               optimizer=tf.keras.optimizers.Adam(learning_rate=4/1000),\n",
    "               metrics=['accuracy'])\n"
   ]
  },
  {
   "cell_type": "code",
   "execution_count": 32,
   "id": "bd5a7286",
   "metadata": {},
   "outputs": [
    {
     "name": "stdout",
     "output_type": "stream",
     "text": [
      "Epoch 1/20\n",
      "1875/1875 [==============================] - 4s 2ms/step - loss: 0.5521 - accuracy: 0.8010 - val_loss: 0.4636 - val_accuracy: 0.8336\n",
      "Epoch 2/20\n",
      "1875/1875 [==============================] - 3s 2ms/step - loss: 0.4376 - accuracy: 0.8419 - val_loss: 0.4529 - val_accuracy: 0.8354\n",
      "Epoch 3/20\n",
      "1875/1875 [==============================] - 3s 2ms/step - loss: 0.4085 - accuracy: 0.8514 - val_loss: 0.4173 - val_accuracy: 0.8464\n",
      "Epoch 4/20\n",
      "1875/1875 [==============================] - 3s 2ms/step - loss: 0.3943 - accuracy: 0.8558 - val_loss: 0.4188 - val_accuracy: 0.8483\n",
      "Epoch 5/20\n",
      "1875/1875 [==============================] - 3s 2ms/step - loss: 0.3807 - accuracy: 0.8613 - val_loss: 0.4028 - val_accuracy: 0.8519\n",
      "Epoch 6/20\n",
      "1875/1875 [==============================] - 3s 2ms/step - loss: 0.3742 - accuracy: 0.8617 - val_loss: 0.4033 - val_accuracy: 0.8516\n",
      "Epoch 7/20\n",
      "1875/1875 [==============================] - 3s 2ms/step - loss: 0.3697 - accuracy: 0.8643 - val_loss: 0.4144 - val_accuracy: 0.8566\n",
      "Epoch 8/20\n",
      "1875/1875 [==============================] - 3s 2ms/step - loss: 0.3649 - accuracy: 0.8647 - val_loss: 0.4158 - val_accuracy: 0.8492\n",
      "Epoch 9/20\n",
      "1875/1875 [==============================] - 3s 2ms/step - loss: 0.3579 - accuracy: 0.8680 - val_loss: 0.4040 - val_accuracy: 0.8512\n",
      "Epoch 10/20\n",
      "1875/1875 [==============================] - 3s 1ms/step - loss: 0.3533 - accuracy: 0.8714 - val_loss: 0.4006 - val_accuracy: 0.8532\n",
      "Epoch 11/20\n",
      "1875/1875 [==============================] - 3s 2ms/step - loss: 0.3510 - accuracy: 0.8702 - val_loss: 0.4068 - val_accuracy: 0.8537\n",
      "Epoch 12/20\n",
      "1875/1875 [==============================] - 3s 2ms/step - loss: 0.3480 - accuracy: 0.8710 - val_loss: 0.4047 - val_accuracy: 0.8515\n",
      "Epoch 13/20\n",
      "1875/1875 [==============================] - 3s 2ms/step - loss: 0.3467 - accuracy: 0.8726 - val_loss: 0.4125 - val_accuracy: 0.8505\n",
      "Epoch 14/20\n",
      "1875/1875 [==============================] - 3s 2ms/step - loss: 0.3430 - accuracy: 0.8745 - val_loss: 0.4038 - val_accuracy: 0.8602\n",
      "Epoch 15/20\n",
      "1875/1875 [==============================] - 3s 2ms/step - loss: 0.3398 - accuracy: 0.8750 - val_loss: 0.4266 - val_accuracy: 0.8486\n",
      "Epoch 16/20\n",
      "1875/1875 [==============================] - 3s 2ms/step - loss: 0.3338 - accuracy: 0.8765 - val_loss: 0.4177 - val_accuracy: 0.8557\n",
      "Epoch 17/20\n",
      "1875/1875 [==============================] - 3s 2ms/step - loss: 0.3335 - accuracy: 0.8770 - val_loss: 0.4105 - val_accuracy: 0.8578\n",
      "Epoch 18/20\n",
      "1875/1875 [==============================] - 3s 2ms/step - loss: 0.3331 - accuracy: 0.8774 - val_loss: 0.4194 - val_accuracy: 0.8483\n",
      "Epoch 19/20\n",
      "1875/1875 [==============================] - 3s 2ms/step - loss: 0.3316 - accuracy: 0.8784 - val_loss: 0.4177 - val_accuracy: 0.8558\n",
      "Epoch 20/20\n",
      "1875/1875 [==============================] - 4s 2ms/step - loss: 0.3276 - accuracy: 0.8782 - val_loss: 0.4097 - val_accuracy: 0.8563\n"
     ]
    }
   ],
   "source": [
    "hist4 = model4.fit(X_train_scaled,\n",
    "                   y_train,\n",
    "                   epochs=20,\n",
    "                   validation_data=(X_test_scaled,y_test))\n",
    "                   #callbacks=[lr_scheduler]"
   ]
  },
  {
   "cell_type": "code",
   "execution_count": 38,
   "id": "450f8192",
   "metadata": {},
   "outputs": [],
   "source": [
    "prob = model4.predict(X_test_scaled)"
   ]
  },
  {
   "cell_type": "code",
   "execution_count": 39,
   "id": "06d3cf77",
   "metadata": {},
   "outputs": [
    {
     "data": {
      "text/plain": [
       "<tf.Tensor: shape=(), dtype=int64, numpy=9>"
      ]
     },
     "execution_count": 39,
     "metadata": {},
     "output_type": "execute_result"
    }
   ],
   "source": [
    "tf.argmax(prob[0])"
   ]
  },
  {
   "cell_type": "code",
   "execution_count": 41,
   "id": "5e49615b",
   "metadata": {},
   "outputs": [],
   "source": [
    "pred = prob.argmax(axis=1)"
   ]
  },
  {
   "cell_type": "code",
   "execution_count": 42,
   "id": "29953e6c",
   "metadata": {},
   "outputs": [
    {
     "data": {
      "text/plain": [
       "array([9, 2, 1, ..., 8, 1, 5], dtype=int64)"
      ]
     },
     "execution_count": 42,
     "metadata": {},
     "output_type": "execute_result"
    }
   ],
   "source": [
    "pred"
   ]
  },
  {
   "cell_type": "code",
   "execution_count": 43,
   "id": "17f22519",
   "metadata": {},
   "outputs": [
    {
     "data": {
      "text/plain": [
       "10000"
      ]
     },
     "execution_count": 43,
     "metadata": {},
     "output_type": "execute_result"
    }
   ],
   "source": [
    "len(pred)"
   ]
  },
  {
   "cell_type": "code",
   "execution_count": 44,
   "id": "1894a79d",
   "metadata": {},
   "outputs": [
    {
     "data": {
      "text/plain": [
       "array([9, 2, 1, ..., 8, 1, 5], dtype=uint8)"
      ]
     },
     "execution_count": 44,
     "metadata": {},
     "output_type": "execute_result"
    }
   ],
   "source": [
    "y_test"
   ]
  },
  {
   "cell_type": "code",
   "execution_count": 45,
   "id": "2fbcb985",
   "metadata": {},
   "outputs": [],
   "source": [
    "num=0\n",
    "for i in range(len(y_test)):\n",
    "    if y_test[i]!=pred[i]:\n",
    "        num+=1\n",
    "        "
   ]
  },
  {
   "cell_type": "code",
   "execution_count": 47,
   "id": "ad569551",
   "metadata": {},
   "outputs": [],
   "source": [
    "accuracy = (10000-num)/10000"
   ]
  },
  {
   "cell_type": "code",
   "execution_count": 49,
   "id": "eb482b94",
   "metadata": {},
   "outputs": [
    {
     "data": {
      "text/plain": [
       "85.63"
      ]
     },
     "execution_count": 49,
     "metadata": {},
     "output_type": "execute_result"
    }
   ],
   "source": [
    "accuracy*100\n"
   ]
  },
  {
   "cell_type": "code",
   "execution_count": 50,
   "id": "a903088a",
   "metadata": {},
   "outputs": [],
   "source": [
    "from sklearn.metrics import confusion_matrix,classification_report"
   ]
  },
  {
   "cell_type": "code",
   "execution_count": 51,
   "id": "232f6afb",
   "metadata": {},
   "outputs": [
    {
     "name": "stdout",
     "output_type": "stream",
     "text": [
      "[[795   4   7  26   3   3 155   0   7   0]\n",
      " [  3 966   1  22   4   1   1   0   2   0]\n",
      " [ 14   5 648  12 175   0 145   0   1   0]\n",
      " [ 33  14  10 852  48   1  38   0   4   0]\n",
      " [  0   3  44  22 825   0 102   0   4   0]\n",
      " [  2   0   0   2   0 925   1  31   4  35]\n",
      " [115   3  59  29  78   0 710   0   6   0]\n",
      " [  0   0   0   0   0  25   0 917   0  58]\n",
      " [  3   1   1   4   8   2  21   4 955   1]\n",
      " [  0   0   0   0   0   6   1  23   0 970]]\n"
     ]
    }
   ],
   "source": [
    "print(confusion_matrix(y_test,pred))"
   ]
  },
  {
   "cell_type": "code",
   "execution_count": 52,
   "id": "dc8789a7",
   "metadata": {},
   "outputs": [
    {
     "name": "stdout",
     "output_type": "stream",
     "text": [
      "              precision    recall  f1-score   support\n",
      "\n",
      "           0       0.82      0.80      0.81      1000\n",
      "           1       0.97      0.97      0.97      1000\n",
      "           2       0.84      0.65      0.73      1000\n",
      "           3       0.88      0.85      0.87      1000\n",
      "           4       0.72      0.82      0.77      1000\n",
      "           5       0.96      0.93      0.94      1000\n",
      "           6       0.60      0.71      0.65      1000\n",
      "           7       0.94      0.92      0.93      1000\n",
      "           8       0.97      0.95      0.96      1000\n",
      "           9       0.91      0.97      0.94      1000\n",
      "\n",
      "    accuracy                           0.86     10000\n",
      "   macro avg       0.86      0.86      0.86     10000\n",
      "weighted avg       0.86      0.86      0.86     10000\n",
      "\n"
     ]
    }
   ],
   "source": [
    "print(classification_report(y_test,pred))"
   ]
  },
  {
   "cell_type": "code",
   "execution_count": null,
   "id": "f149912e",
   "metadata": {},
   "outputs": [],
   "source": []
  }
 ],
 "metadata": {
  "kernelspec": {
   "display_name": "Python 3 (ipykernel)",
   "language": "python",
   "name": "python3"
  },
  "language_info": {
   "codemirror_mode": {
    "name": "ipython",
    "version": 3
   },
   "file_extension": ".py",
   "mimetype": "text/x-python",
   "name": "python",
   "nbconvert_exporter": "python",
   "pygments_lexer": "ipython3",
   "version": "3.9.12"
  }
 },
 "nbformat": 4,
 "nbformat_minor": 5
}
