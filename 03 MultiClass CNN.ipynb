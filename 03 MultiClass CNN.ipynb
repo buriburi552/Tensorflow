{
 "cells": [
  {
   "cell_type": "code",
   "execution_count": 15,
   "id": "28fc09c4",
   "metadata": {},
   "outputs": [],
   "source": [
    "import tensorflow as tf\n",
    "from tensorflow.keras.preprocessing.image import ImageDataGenerator\n",
    "from tensorflow.keras.layers import Conv2D,Flatten,Dense,MaxPool2D\n",
    "from tensorflow.keras import Sequential\n",
    "import matplotlib.pyplot as plt"
   ]
  },
  {
   "cell_type": "code",
   "execution_count": 6,
   "id": "7c1df37e",
   "metadata": {},
   "outputs": [
    {
     "name": "stdout",
     "output_type": "stream",
     "text": [
      "Found 7500 images belonging to 10 classes.\n",
      "Found 2500 images belonging to 10 classes.\n",
      "Epoch 1/5\n",
      "235/235 [==============================] - 47s 197ms/step - loss: 2.1558 - accuracy: 0.2083 - val_loss: 2.0168 - val_accuracy: 0.2740\n",
      "Epoch 2/5\n",
      "235/235 [==============================] - 26s 109ms/step - loss: 1.9442 - accuracy: 0.3176 - val_loss: 1.9298 - val_accuracy: 0.3316\n",
      "Epoch 3/5\n",
      "235/235 [==============================] - 26s 109ms/step - loss: 1.5790 - accuracy: 0.4645 - val_loss: 2.1208 - val_accuracy: 0.3156\n",
      "Epoch 4/5\n",
      "235/235 [==============================] - 25s 105ms/step - loss: 0.9363 - accuracy: 0.6920 - val_loss: 2.5184 - val_accuracy: 0.2936\n",
      "Epoch 5/5\n",
      "235/235 [==============================] - 25s 107ms/step - loss: 0.3841 - accuracy: 0.8777 - val_loss: 3.6018 - val_accuracy: 0.2768\n"
     ]
    }
   ],
   "source": [
    "tf.random.set_seed(42)\n",
    "\n",
    "train_datagen1 = ImageDataGenerator(rescale=1./255)\n",
    "valid_datagen1 = ImageDataGenerator(rescale=1./255)\n",
    "\n",
    "train_data1 = train_datagen1.flow_from_directory(r'D:\\1jupyter\\Datasets\\10_food_classes_all_data\\train',\n",
    "                                               batch_size=32,\n",
    "                                               target_size=(224,224),\n",
    "                                               class_mode='categorical',\n",
    "                                               seed=42)\n",
    "\n",
    "\n",
    "valid_data1 = valid_datagen1.flow_from_directory(r'D:\\1jupyter\\Datasets\\10_food_classes_all_data\\test',\n",
    "                                               batch_size=32,\n",
    "                                               target_size=(224,224),\n",
    "                                               class_mode='categorical',\n",
    "                                               seed=42)\n",
    "\n",
    "model1 = Sequential()\n",
    "\n",
    "model1.add(Conv2D(filters=10, kernel_size=3, activation='relu', input_shape=(224,224,3)))\n",
    "model1.add(Conv2D(filters=10, kernel_size=3, activation='relu'))\n",
    "model1.add(MaxPool2D(pool_size=2, padding='valid'))\n",
    "model1.add(Conv2D(filters=10, kernel_size=3, activation='relu'))\n",
    "model1.add(Conv2D(filters=10, kernel_size=3, activation='relu'))\n",
    "model1.add(MaxPool2D(pool_size=2))\n",
    "model1.add(Flatten())\n",
    "model1.add(Dense(units=10, activation='softmax'))\n",
    "\n",
    "model1.compile(loss=tf.keras.losses.CategoricalCrossentropy(),\n",
    "               optimizer=tf.keras.optimizers.Adam(),\n",
    "               metrics=['accuracy'])\n",
    "\n",
    "hist1 = model1.fit(train_data1,epochs=5, \n",
    "                   steps_per_epoch=len(train_data1),\n",
    "                   validation_data=valid_data1,\n",
    "                   validation_steps=len(valid_data1))"
   ]
  },
  {
   "cell_type": "code",
   "execution_count": 7,
   "id": "f95107f0",
   "metadata": {},
   "outputs": [
    {
     "name": "stdout",
     "output_type": "stream",
     "text": [
      "79/79 [==============================] - 5s 64ms/step - loss: 3.6018 - accuracy: 0.2768 1s - loss: 3.6468 - accura - ETA: 1s - l - ETA: 0s - loss: 3.6285 - accura\n"
     ]
    },
    {
     "data": {
      "text/plain": [
       "[3.6018495559692383, 0.2768000066280365]"
      ]
     },
     "execution_count": 7,
     "metadata": {},
     "output_type": "execute_result"
    }
   ],
   "source": [
    "model1.evaluate(valid_data1)"
   ]
  },
  {
   "cell_type": "code",
   "execution_count": 8,
   "id": "60055bf8",
   "metadata": {},
   "outputs": [],
   "source": [
    "import pandas as pd\n",
    "loss_df1 = pd.DataFrame(hist1.history)"
   ]
  },
  {
   "cell_type": "code",
   "execution_count": 9,
   "id": "97e0a297",
   "metadata": {},
   "outputs": [
    {
     "data": {
      "text/plain": [
       "<AxesSubplot:>"
      ]
     },
     "execution_count": 9,
     "metadata": {},
     "output_type": "execute_result"
    },
    {
     "data": {
      "image/png": "[encoded data removed]",
      "text/plain": [
       "<Figure size 432x288 with 1 Axes>"
      ]
     },
     "metadata": {
      "needs_background": "light"
     },
     "output_type": "display_data"
    }
   ],
   "source": [
    "loss_df1.plot()"
   ]
  },
  {
   "cell_type": "code",
   "execution_count": 10,
   "id": "667fe09e",
   "metadata": {},
   "outputs": [
    {
     "name": "stdout",
     "output_type": "stream",
     "text": [
      "Found 7500 images belonging to 10 classes.\n",
      "Found 2500 images belonging to 10 classes.\n",
      "Epoch 1/5\n",
      "235/235 [==============================] - 84s 356ms/step - loss: 2.2031 - accuracy: 0.1815 - val_loss: 2.0619 - val_accuracy: 0.2636\n",
      "Epoch 2/5\n",
      "235/235 [==============================] - 81s 343ms/step - loss: 2.0970 - accuracy: 0.2472 - val_loss: 1.9462 - val_accuracy: 0.3208\n",
      "Epoch 3/5\n",
      "235/235 [==============================] - 80s 340ms/step - loss: 2.0224 - accuracy: 0.2925 - val_loss: 1.9293 - val_accuracy: 0.3328\n",
      "Epoch 4/5\n",
      "235/235 [==============================] - 83s 353ms/step - loss: 1.9634 - accuracy: 0.3148 - val_loss: 1.8007 - val_accuracy: 0.3824\n",
      "Epoch 5/5\n",
      "235/235 [==============================] - 84s 359ms/step - loss: 1.9337 - accuracy: 0.3336 - val_loss: 1.8186 - val_accuracy: 0.3908\n"
     ]
    }
   ],
   "source": [
    "tf.random.set_seed(42)\n",
    "\n",
    "train_datagen2 = ImageDataGenerator(rescale=1./255,\n",
    "                                    rotation_range=0.2,\n",
    "                                    shear_range=0.2,\n",
    "                                    zoom_range=0.2,\n",
    "                                    width_shift_range=0.2,\n",
    "                                    height_shift_range=0.2,\n",
    "                                    horizontal_flip=True)\n",
    "valid_datagen2 = ImageDataGenerator(rescale=1./255)\n",
    "\n",
    "train_data2 = train_datagen2.flow_from_directory(r'D:\\1jupyter\\Datasets\\10_food_classes_all_data\\train',\n",
    "                                               batch_size=32,\n",
    "                                               target_size=(224,224),\n",
    "                                               class_mode='categorical',\n",
    "                                               seed=42)\n",
    "\n",
    "\n",
    "valid_data2 = valid_datagen2.flow_from_directory(r'D:\\1jupyter\\Datasets\\10_food_classes_all_data\\test',\n",
    "                                               batch_size=32,\n",
    "                                               target_size=(224,224),\n",
    "                                               class_mode='categorical',\n",
    "                                               seed=42)\n",
    "\n",
    "model2 = Sequential()\n",
    "\n",
    "model2.add(Conv2D(filters=10, kernel_size=3, activation='relu', input_shape=(224,224,3)))\n",
    "model2.add(Conv2D(filters=10, kernel_size=3, activation='relu'))\n",
    "model2.add(MaxPool2D(pool_size=2, padding='valid'))\n",
    "model2.add(Conv2D(filters=10, kernel_size=3, activation='relu'))\n",
    "model2.add(Conv2D(filters=10, kernel_size=3, activation='relu'))\n",
    "model2.add(MaxPool2D(pool_size=2))\n",
    "model2.add(Flatten())\n",
    "model2.add(Dense(units=10, activation='softmax'))\n",
    "\n",
    "model2.compile(loss=tf.keras.losses.CategoricalCrossentropy(),\n",
    "               optimizer=tf.keras.optimizers.Adam(),\n",
    "               metrics=['accuracy'])\n",
    "\n",
    "hist2 = model2.fit(train_data2,epochs=5, \n",
    "                   steps_per_epoch=len(train_data2),\n",
    "                   validation_data=valid_data2,\n",
    "                   validation_steps=len(valid_data2))"
   ]
  },
  {
   "cell_type": "code",
   "execution_count": 11,
   "id": "59793418",
   "metadata": {},
   "outputs": [
    {
     "name": "stdout",
     "output_type": "stream",
     "text": [
      "Model: \"sequential_2\"\n",
      "_________________________________________________________________\n",
      "Layer (type)                 Output Shape              Param #   \n",
      "=================================================================\n",
      "conv2d_8 (Conv2D)            (None, 222, 222, 10)      280       \n",
      "_________________________________________________________________\n",
      "conv2d_9 (Conv2D)            (None, 220, 220, 10)      910       \n",
      "_________________________________________________________________\n",
      "max_pooling2d_4 (MaxPooling2 (None, 110, 110, 10)      0         \n",
      "_________________________________________________________________\n",
      "conv2d_10 (Conv2D)           (None, 108, 108, 10)      910       \n",
      "_________________________________________________________________\n",
      "conv2d_11 (Conv2D)           (None, 106, 106, 10)      910       \n",
      "_________________________________________________________________\n",
      "max_pooling2d_5 (MaxPooling2 (None, 53, 53, 10)        0         \n",
      "_________________________________________________________________\n",
      "flatten_2 (Flatten)          (None, 28090)             0         \n",
      "_________________________________________________________________\n",
      "dense_2 (Dense)              (None, 10)                280910    \n",
      "=================================================================\n",
      "Total params: 283,920\n",
      "Trainable params: 283,920\n",
      "Non-trainable params: 0\n",
      "_________________________________________________________________\n"
     ]
    }
   ],
   "source": [
    "model1.summary()"
   ]
  },
  {
   "cell_type": "code",
   "execution_count": 12,
   "id": "ee649531",
   "metadata": {},
   "outputs": [
    {
     "name": "stdout",
     "output_type": "stream",
     "text": [
      "Model: \"sequential_3\"\n",
      "_________________________________________________________________\n",
      "Layer (type)                 Output Shape              Param #   \n",
      "=================================================================\n",
      "conv2d_12 (Conv2D)           (None, 222, 222, 10)      280       \n",
      "_________________________________________________________________\n",
      "conv2d_13 (Conv2D)           (None, 220, 220, 10)      910       \n",
      "_________________________________________________________________\n",
      "max_pooling2d_6 (MaxPooling2 (None, 110, 110, 10)      0         \n",
      "_________________________________________________________________\n",
      "conv2d_14 (Conv2D)           (None, 108, 108, 10)      910       \n",
      "_________________________________________________________________\n",
      "conv2d_15 (Conv2D)           (None, 106, 106, 10)      910       \n",
      "_________________________________________________________________\n",
      "max_pooling2d_7 (MaxPooling2 (None, 53, 53, 10)        0         \n",
      "_________________________________________________________________\n",
      "flatten_3 (Flatten)          (None, 28090)             0         \n",
      "_________________________________________________________________\n",
      "dense_3 (Dense)              (None, 10)                280910    \n",
      "=================================================================\n",
      "Total params: 283,920\n",
      "Trainable params: 283,920\n",
      "Non-trainable params: 0\n",
      "_________________________________________________________________\n"
     ]
    }
   ],
   "source": [
    "model2.summary()"
   ]
  },
  {
   "cell_type": "code",
   "execution_count": 13,
   "id": "443679ed",
   "metadata": {},
   "outputs": [],
   "source": [
    "loss_df2 = pd.DataFrame(hist2.history)"
   ]
  },
  {
   "cell_type": "code",
   "execution_count": 16,
   "id": "b425ba29",
   "metadata": {},
   "outputs": [
    {
     "data": {
      "text/plain": [
       "[<matplotlib.lines.Line2D at 0x23850a43490>,\n",
       " <matplotlib.lines.Line2D at 0x23850a43f10>,\n",
       " <matplotlib.lines.Line2D at 0x237d81261f0>,\n",
       " <matplotlib.lines.Line2D at 0x237d81263a0>]"
      ]
     },
     "execution_count": 16,
     "metadata": {},
     "output_type": "execute_result"
    },
    {
     "data": {
      "image/png": "[encoded data removed]",
      "text/plain": [
       "<Figure size 432x288 with 1 Axes>"
      ]
     },
     "metadata": {
      "needs_background": "light"
     },
     "output_type": "display_data"
    }
   ],
   "source": [
    "plt.plot(loss_df2)"
   ]
  },
  {
   "cell_type": "code",
   "execution_count": 17,
   "id": "40cd9286",
   "metadata": {},
   "outputs": [
    {
     "name": "stdout",
     "output_type": "stream",
     "text": [
      "Found 7500 images belonging to 10 classes.\n",
      "Found 2500 images belonging to 10 classes.\n",
      "Epoch 1/5\n",
      "235/235 [==============================] - 81s 343ms/step - loss: 2.1019 - accuracy: 0.2391 - val_loss: 1.9648 - val_accuracy: 0.2924\n",
      "Epoch 2/5\n",
      "235/235 [==============================] - 81s 343ms/step - loss: 1.9633 - accuracy: 0.3131 - val_loss: 1.8981 - val_accuracy: 0.3288\n",
      "Epoch 3/5\n",
      "235/235 [==============================] - 80s 340ms/step - loss: 1.8760 - accuracy: 0.3593 - val_loss: 1.8381 - val_accuracy: 0.3648\n",
      "Epoch 4/5\n",
      "235/235 [==============================] - 80s 340ms/step - loss: 1.8218 - accuracy: 0.3729 - val_loss: 1.7782 - val_accuracy: 0.3852\n",
      "Epoch 5/5\n",
      "235/235 [==============================] - 75s 317ms/step - loss: 1.7574 - accuracy: 0.3959 - val_loss: 1.7365 - val_accuracy: 0.4140\n"
     ]
    }
   ],
   "source": [
    "tf.random.set_seed(42)\n",
    "\n",
    "train_datagen3 = ImageDataGenerator(rescale=1./255,\n",
    "                                    shear_range=0.2,\n",
    "                                    zoom_range=0.2,\n",
    "                                    horizontal_flip=True)\n",
    "valid_datagen3 = ImageDataGenerator(rescale=1./255)\n",
    "\n",
    "train_data3 = train_datagen3.flow_from_directory(r'D:\\1jupyter\\Datasets\\10_food_classes_all_data\\train',\n",
    "                                               batch_size=32,\n",
    "                                               target_size=(224,224),\n",
    "                                               class_mode='categorical',\n",
    "                                               seed=42)\n",
    "\n",
    "\n",
    "valid_data3 = valid_datagen3.flow_from_directory(r'D:\\1jupyter\\Datasets\\10_food_classes_all_data\\test',\n",
    "                                               batch_size=32,\n",
    "                                               target_size=(224,224),\n",
    "                                               class_mode='categorical',\n",
    "                                               seed=42)\n",
    "\n",
    "model3 = Sequential()\n",
    "\n",
    "model3.add(Conv2D(filters=10, kernel_size=3, activation='relu', input_shape=(224,224,3)))\n",
    "model3.add(Conv2D(filters=10, kernel_size=3, activation='relu'))\n",
    "model3.add(MaxPool2D(pool_size=2, padding='valid'))\n",
    "model3.add(Conv2D(filters=10, kernel_size=3, activation='relu'))\n",
    "model3.add(Conv2D(filters=10, kernel_size=3, activation='relu'))\n",
    "model3.add(MaxPool2D(pool_size=2))\n",
    "model3.add(Flatten())\n",
    "model3.add(Dense(units=10, activation='softmax'))\n",
    "\n",
    "model3.compile(loss=tf.keras.losses.CategoricalCrossentropy(),\n",
    "               optimizer=tf.keras.optimizers.Adam(),\n",
    "               metrics=['accuracy'])\n",
    "\n",
    "hist3 = model3.fit(train_data3,epochs=5, \n",
    "                   steps_per_epoch=len(train_data3),\n",
    "                   validation_data=valid_data3,\n",
    "                   validation_steps=len(valid_data3))"
   ]
  },
  {
   "cell_type": "code",
   "execution_count": 20,
   "id": "610b3b01",
   "metadata": {},
   "outputs": [
    {
     "name": "stdout",
     "output_type": "stream",
     "text": [
      "79/79 [==============================] - 6s 79ms/step - loss: 1.7365 - accuracy: 0.4140\n"
     ]
    },
    {
     "data": {
      "text/plain": [
       "[1.7365003824234009, 0.414000004529953]"
      ]
     },
     "execution_count": 20,
     "metadata": {},
     "output_type": "execute_result"
    }
   ],
   "source": [
    "model3.evaluate(valid_data3)"
   ]
  },
  {
   "cell_type": "code",
   "execution_count": 21,
   "id": "cafa8a44",
   "metadata": {},
   "outputs": [
    {
     "name": "stdout",
     "output_type": "stream",
     "text": [
      "79/79 [==============================] - 6s 76ms/step - loss: 1.8186 - accuracy: 0.3908\n"
     ]
    },
    {
     "data": {
      "text/plain": [
       "[1.8186302185058594, 0.39079999923706055]"
      ]
     },
     "execution_count": 21,
     "metadata": {},
     "output_type": "execute_result"
    }
   ],
   "source": [
    "model2.evaluate(valid_data2)"
   ]
  },
  {
   "cell_type": "code",
   "execution_count": 22,
   "id": "06df50a9",
   "metadata": {},
   "outputs": [
    {
     "data": {
      "text/plain": [
       "<AxesSubplot:>"
      ]
     },
     "execution_count": 22,
     "metadata": {},
     "output_type": "execute_result"
    },
    {
     "data": {
      "image/png": "[encoded data removed]",
      "text/plain": [
       "<Figure size 432x288 with 1 Axes>"
      ]
     },
     "metadata": {
      "needs_background": "light"
     },
     "output_type": "display_data"
    }
   ],
   "source": [
    "loss_df3 = pd.DataFrame(hist3.history)\n",
    "loss_df3.plot()"
   ]
  },
  {
   "cell_type": "code",
   "execution_count": 23,
   "id": "4eb38b0e",
   "metadata": {},
   "outputs": [
    {
     "name": "stdout",
     "output_type": "stream",
     "text": [
      "Found 7500 images belonging to 10 classes.\n",
      "Found 2500 images belonging to 10 classes.\n",
      "Epoch 1/10\n",
      "235/235 [==============================] - 74s 311ms/step - loss: 2.1486 - accuracy: 0.2055 - val_loss: 2.0336 - val_accuracy: 0.2704\n",
      "Epoch 2/10\n",
      "235/235 [==============================] - 78s 332ms/step - loss: 1.9521 - accuracy: 0.3147 - val_loss: 1.8998 - val_accuracy: 0.3460\n",
      "Epoch 3/10\n",
      "235/235 [==============================] - 79s 335ms/step - loss: 1.8806 - accuracy: 0.3473 - val_loss: 1.7811 - val_accuracy: 0.3796\n",
      "Epoch 4/10\n",
      "235/235 [==============================] - 79s 335ms/step - loss: 1.8061 - accuracy: 0.3784 - val_loss: 1.8329 - val_accuracy: 0.3636\n",
      "Epoch 5/10\n",
      "235/235 [==============================] - 79s 336ms/step - loss: 1.7577 - accuracy: 0.3991 - val_loss: 1.7091 - val_accuracy: 0.4152\n",
      "Epoch 6/10\n",
      "235/235 [==============================] - 79s 336ms/step - loss: 1.7087 - accuracy: 0.4209 - val_loss: 1.7887 - val_accuracy: 0.3924\n",
      "Epoch 7/10\n",
      "235/235 [==============================] - 79s 336ms/step - loss: 1.6714 - accuracy: 0.4355 - val_loss: 1.6683 - val_accuracy: 0.4356\n",
      "Epoch 8/10\n",
      "235/235 [==============================] - 78s 333ms/step - loss: 1.6453 - accuracy: 0.4425 - val_loss: 1.6920 - val_accuracy: 0.4228\n",
      "Epoch 9/10\n",
      "235/235 [==============================] - 79s 335ms/step - loss: 1.5876 - accuracy: 0.4664 - val_loss: 1.6351 - val_accuracy: 0.4456\n",
      "Epoch 10/10\n",
      "235/235 [==============================] - 79s 338ms/step - loss: 1.5693 - accuracy: 0.4723 - val_loss: 1.6423 - val_accuracy: 0.4412\n"
     ]
    }
   ],
   "source": [
    "tf.random.set_seed(42)\n",
    "\n",
    "train_datagen4 = ImageDataGenerator(rescale=1./255,\n",
    "                                    shear_range=0.2,\n",
    "                                    zoom_range=0.2,\n",
    "                                    horizontal_flip=True)\n",
    "valid_datagen4 = ImageDataGenerator(rescale=1./255)\n",
    "\n",
    "train_data4 = train_datagen4.flow_from_directory(r'D:\\1jupyter\\Datasets\\10_food_classes_all_data\\train',\n",
    "                                               batch_size=32,\n",
    "                                               target_size=(224,224),\n",
    "                                               class_mode='categorical',\n",
    "                                               seed=42)\n",
    "\n",
    "\n",
    "valid_data4 = valid_datagen4.flow_from_directory(r'D:\\1jupyter\\Datasets\\10_food_classes_all_data\\test',\n",
    "                                               batch_size=32,\n",
    "                                               target_size=(224,224),\n",
    "                                               class_mode='categorical',\n",
    "                                               seed=42)\n",
    "\n",
    "model4 = Sequential()\n",
    "\n",
    "model4.add(Conv2D(filters=10, kernel_size=3, activation='relu', input_shape=(224,224,3)))\n",
    "model4.add(Conv2D(filters=10, kernel_size=3, activation='relu'))\n",
    "model4.add(MaxPool2D(pool_size=2, padding='valid'))\n",
    "model4.add(Conv2D(filters=10, kernel_size=3, activation='relu'))\n",
    "model4.add(Conv2D(filters=10, kernel_size=3, activation='relu'))\n",
    "model4.add(MaxPool2D(pool_size=2))\n",
    "model4.add(Flatten())\n",
    "model4.add(Dense(units=10, activation='softmax'))\n",
    "\n",
    "model4.compile(loss=tf.keras.losses.CategoricalCrossentropy(),\n",
    "               optimizer=tf.keras.optimizers.Adam(),\n",
    "               metrics=['accuracy'])\n",
    "\n",
    "hist4 = model4.fit(train_data4,epochs=10, \n",
    "                   steps_per_epoch=len(train_data4),\n",
    "                   validation_data=valid_data4,\n",
    "                   validation_steps=len(valid_data4))"
   ]
  },
  {
   "cell_type": "code",
   "execution_count": 24,
   "id": "edef5bc1",
   "metadata": {},
   "outputs": [
    {
     "name": "stdout",
     "output_type": "stream",
     "text": [
      "79/79 [==============================] - 6s 77ms/step - loss: 1.6423 - accuracy: 0.4412\n"
     ]
    },
    {
     "data": {
      "text/plain": [
       "[1.6423486471176147, 0.44119998812675476]"
      ]
     },
     "execution_count": 24,
     "metadata": {},
     "output_type": "execute_result"
    }
   ],
   "source": [
    "model4.evaluate(valid_data4)"
   ]
  },
  {
   "cell_type": "code",
   "execution_count": 25,
   "id": "ed275a05",
   "metadata": {},
   "outputs": [
    {
     "data": {
      "text/plain": [
       "<AxesSubplot:>"
      ]
     },
     "execution_count": 25,
     "metadata": {},
     "output_type": "execute_result"
    },
    {
     "data": {
      "image/png": "[encoded data removed]",
      "text/plain": [
       "<Figure size 432x288 with 1 Axes>"
      ]
     },
     "metadata": {
      "needs_background": "light"
     },
     "output_type": "display_data"
    }
   ],
   "source": [
    "loss_df4 = pd.DataFrame(hist4.history)\n",
    "loss_df4.plot()"
   ]
  },
  {
   "cell_type": "code",
   "execution_count": 26,
   "id": "ddac4081",
   "metadata": {
    "scrolled": true
   },
   "outputs": [
    {
     "name": "stdout",
     "output_type": "stream",
     "text": [
      "Found 7500 images belonging to 10 classes.\n",
      "Found 2500 images belonging to 10 classes.\n",
      "Epoch 1/20\n",
      "235/235 [==============================] - 81s 337ms/step - loss: 2.1731 - accuracy: 0.2007 - val_loss: 2.0065 - val_accuracy: 0.2924\n",
      "Epoch 2/20\n",
      "235/235 [==============================] - 81s 345ms/step - loss: 1.9843 - accuracy: 0.3035 - val_loss: 1.9104 - val_accuracy: 0.3360\n",
      "Epoch 3/20\n",
      "235/235 [==============================] - 80s 341ms/step - loss: 1.9077 - accuracy: 0.3373 - val_loss: 1.8928 - val_accuracy: 0.3544\n",
      "Epoch 4/20\n",
      "235/235 [==============================] - 78s 332ms/step - loss: 1.8353 - accuracy: 0.3661 - val_loss: 1.8783 - val_accuracy: 0.3464\n",
      "Epoch 5/20\n",
      "235/235 [==============================] - 78s 331ms/step - loss: 1.7637 - accuracy: 0.3953 - val_loss: 1.8310 - val_accuracy: 0.3816\n",
      "Epoch 6/20\n",
      "235/235 [==============================] - 77s 328ms/step - loss: 1.7379 - accuracy: 0.4091 - val_loss: 1.7730 - val_accuracy: 0.3912\n",
      "Epoch 7/20\n",
      "235/235 [==============================] - 77s 327ms/step - loss: 1.7109 - accuracy: 0.4208 - val_loss: 1.8009 - val_accuracy: 0.3900\n",
      "Epoch 8/20\n",
      "235/235 [==============================] - 77s 329ms/step - loss: 1.6795 - accuracy: 0.4284 - val_loss: 1.7803 - val_accuracy: 0.4072\n",
      "Epoch 9/20\n",
      "235/235 [==============================] - 79s 335ms/step - loss: 1.6463 - accuracy: 0.4419 - val_loss: 1.7771 - val_accuracy: 0.4164\n",
      "Epoch 10/20\n",
      "235/235 [==============================] - 79s 335ms/step - loss: 1.6228 - accuracy: 0.4483 - val_loss: 1.7567 - val_accuracy: 0.3972\n",
      "Epoch 11/20\n",
      "235/235 [==============================] - 79s 334ms/step - loss: 1.5902 - accuracy: 0.4619 - val_loss: 1.6902 - val_accuracy: 0.4464\n",
      "Epoch 12/20\n",
      "235/235 [==============================] - 108s 460ms/step - loss: 1.5721 - accuracy: 0.4701 - val_loss: 1.7087 - val_accuracy: 0.4284\n",
      "Epoch 13/20\n",
      "235/235 [==============================] - 106s 452ms/step - loss: 1.5571 - accuracy: 0.4796 - val_loss: 1.6935 - val_accuracy: 0.4472\n",
      "Epoch 14/20\n",
      "235/235 [==============================] - 107s 453ms/step - loss: 1.5175 - accuracy: 0.4901 - val_loss: 1.7091 - val_accuracy: 0.4332\n",
      "Epoch 15/20\n",
      "235/235 [==============================] - 105s 446ms/step - loss: 1.5005 - accuracy: 0.4945 - val_loss: 1.7009 - val_accuracy: 0.4504\n",
      "Epoch 16/20\n",
      "235/235 [==============================] - 108s 460ms/step - loss: 1.4897 - accuracy: 0.5031 - val_loss: 1.6844 - val_accuracy: 0.4488\n",
      "Epoch 17/20\n",
      "235/235 [==============================] - 105s 448ms/step - loss: 1.4824 - accuracy: 0.5088 - val_loss: 1.7018 - val_accuracy: 0.4376\n",
      "Epoch 18/20\n",
      "235/235 [==============================] - 105s 444ms/step - loss: 1.4748 - accuracy: 0.5060 - val_loss: 1.7207 - val_accuracy: 0.4352\n",
      "Epoch 19/20\n",
      "235/235 [==============================] - 104s 440ms/step - loss: 1.4443 - accuracy: 0.5143 - val_loss: 1.7380 - val_accuracy: 0.4348\n",
      "Epoch 20/20\n",
      "235/235 [==============================] - 103s 437ms/step - loss: 1.4529 - accuracy: 0.5147 - val_loss: 1.8160 - val_accuracy: 0.4144\n"
     ]
    }
   ],
   "source": [
    "tf.random.set_seed(42)\n",
    "\n",
    "train_datagen5 = ImageDataGenerator(rescale=1./255,\n",
    "                                    shear_range=0.2,\n",
    "                                    zoom_range=0.2,\n",
    "                                    horizontal_flip=True)\n",
    "valid_datagen5 = ImageDataGenerator(rescale=1./255)\n",
    "\n",
    "train_data5 = train_datagen5.flow_from_directory(r'D:\\1jupyter\\Datasets\\10_food_classes_all_data\\train',\n",
    "                                               batch_size=32,\n",
    "                                               target_size=(224,224),\n",
    "                                               class_mode='categorical',\n",
    "                                               seed=42)\n",
    "\n",
    "\n",
    "valid_data5 = valid_datagen5.flow_from_directory(r'D:\\1jupyter\\Datasets\\10_food_classes_all_data\\test',\n",
    "                                               batch_size=32,\n",
    "                                               target_size=(224,224),\n",
    "                                               class_mode='categorical',\n",
    "                                               seed=42)\n",
    "\n",
    "model5 = Sequential()\n",
    "\n",
    "model5.add(Conv2D(filters=9, kernel_size=3, activation='relu', input_shape=(224,224,3)))\n",
    "model5.add(Conv2D(filters=9, kernel_size=3, activation='relu'))\n",
    "model5.add(MaxPool2D(pool_size=2, padding='valid'))\n",
    "model5.add(Conv2D(filters=9, kernel_size=3, activation='relu'))\n",
    "model5.add(Conv2D(filters=9, kernel_size=3, activation='relu'))\n",
    "model5.add(MaxPool2D(pool_size=2))\n",
    "model5.add(Flatten())\n",
    "model5.add(Dense(units=10, activation='softmax'))\n",
    "\n",
    "model5.compile(loss=tf.keras.losses.CategoricalCrossentropy(),\n",
    "               optimizer=tf.keras.optimizers.Adam(),\n",
    "               metrics=['accuracy'])\n",
    "\n",
    "hist5 = model5.fit(train_data5,epochs=20, \n",
    "                   steps_per_epoch=len(train_data5),\n",
    "                   validation_data=valid_data5,\n",
    "                   validation_steps=len(valid_data5))"
   ]
  },
  {
   "cell_type": "code",
   "execution_count": 28,
   "id": "3e716571",
   "metadata": {},
   "outputs": [],
   "source": [
    "loss_df5 = pd.DataFrame(hist5.history)"
   ]
  },
  {
   "cell_type": "code",
   "execution_count": 29,
   "id": "92e3c6e0",
   "metadata": {},
   "outputs": [
    {
     "data": {
      "text/plain": [
       "<AxesSubplot:>"
      ]
     },
     "execution_count": 29,
     "metadata": {},
     "output_type": "execute_result"
    },
    {
     "data": {
      "image/png": "[encoded data removed]",
      "text/plain": [
       "<Figure size 432x288 with 1 Axes>"
      ]
     },
     "metadata": {
      "needs_background": "light"
     },
     "output_type": "display_data"
    }
   ],
   "source": [
    "loss_df5.plot()"
   ]
  },
  {
   "cell_type": "code",
   "execution_count": 30,
   "id": "12d76574",
   "metadata": {},
   "outputs": [
    {
     "name": "stdout",
     "output_type": "stream",
     "text": [
      "79/79 [==============================] - 8s 94ms/step - loss: 1.8160 - accuracy: 0.4144\n"
     ]
    },
    {
     "data": {
      "text/plain": [
       "[1.8159528970718384, 0.41440001130104065]"
      ]
     },
     "execution_count": 30,
     "metadata": {},
     "output_type": "execute_result"
    }
   ],
   "source": [
    "model5.evaluate(valid_data5)"
   ]
  },
  {
   "cell_type": "code",
   "execution_count": null,
   "id": "d0857543",
   "metadata": {},
   "outputs": [],
   "source": []
  }
 ],
 "metadata": {
  "kernelspec": {
   "display_name": "Python 3 (ipykernel)",
   "language": "python",
   "name": "python3"
  },
  "language_info": {
   "codemirror_mode": {
    "name": "ipython",
    "version": 3
   },
   "file_extension": ".py",
   "mimetype": "text/x-python",
   "name": "python",
   "nbconvert_exporter": "python",
   "pygments_lexer": "ipython3",
   "version": "3.9.12"
  }
 },
 "nbformat": 4,
 "nbformat_minor": 5
}
