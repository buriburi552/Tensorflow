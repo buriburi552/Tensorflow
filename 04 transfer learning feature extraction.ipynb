{
 "cells": [
  {
   "cell_type": "code",
   "execution_count": 1,
   "id": "43861e0d",
   "metadata": {},
   "outputs": [],
   "source": [
    "import tensorflow as tf\n",
    "from tensorflow.keras.preprocessing.image import ImageDataGenerator"
   ]
  },
  {
   "cell_type": "code",
   "execution_count": 2,
   "id": "8e8f5c50",
   "metadata": {},
   "outputs": [
    {
     "name": "stdout",
     "output_type": "stream",
     "text": [
      "Found 750 images belonging to 10 classes.\n",
      "Found 2500 images belonging to 10 classes.\n"
     ]
    }
   ],
   "source": [
    "IMAGE_SHAPE = (224,224)\n",
    "BATCH_SIZE = 32\n",
    "\n",
    "train_datagen = ImageDataGenerator(rescale=1./255)\n",
    "test_datagen = ImageDataGenerator(rescale=1./255)\n",
    "\n",
    "train_data_10 = train_datagen.flow_from_directory(r'D:\\1jupyter\\Datasets\\10_food_classes_10_percent\\train',\n",
    "                                               target_size=IMAGE_SHAPE,\n",
    "                                               batch_size=BATCH_SIZE,\n",
    "                                               class_mode='categorical')\n",
    "\n",
    "test_data_10 = test_datagen.flow_from_directory(r'D:\\1jupyter\\Datasets\\10_food_classes_10_percent\\test',\n",
    "                                                target_size=IMAGE_SHAPE,\n",
    "                                                batch_size=BATCH_SIZE,\n",
    "                                                class_mode='categorical')"
   ]
  },
  {
   "cell_type": "code",
   "execution_count": 3,
   "id": "d5662c9e",
   "metadata": {},
   "outputs": [],
   "source": [
    "import datetime\n",
    "\n",
    "def create_tensorboard_callback(dir_name, experiment_name):\n",
    "    log_dir = dir_name + \"/\" + experiment_name + datetime.datetime.now().strftime(\"%Y%m%d-%H%M%S\")\n",
    "    tensorboard_callback = tf.keras.callbacks.TensorBoard(log_dir=log_dir)\n",
    "    print(f'saving Tensorboard log files to {log_dir}')\n",
    "    return tensorboard_callback"
   ]
  },
  {
   "cell_type": "code",
   "execution_count": 4,
   "id": "86cb6915",
   "metadata": {},
   "outputs": [],
   "source": [
    "resnet_url = 'https://tfhub.dev/google/imagenet/resnet_v2_50/feature_vector/5'\n",
    "efficientnet_url = 'https://tfhub.dev/tensorflow/efficientnet/b0/feature-vector/1'"
   ]
  },
  {
   "cell_type": "code",
   "execution_count": 5,
   "id": "9e711f1a",
   "metadata": {},
   "outputs": [],
   "source": [
    "import tensorflow_hub as hub\n",
    "from tensorflow.keras import layers"
   ]
  },
  {
   "cell_type": "code",
   "execution_count": 6,
   "id": "5d09e33d",
   "metadata": {},
   "outputs": [],
   "source": [
    "def create_model(model_url, num_classes=10):\n",
    "    feature_extractor_layer = hub.KerasLayer(model_url,trainable=False,name='feature_ex_layer',\n",
    "                                             input_shape=IMAGE_SHAPE+(3,))\n",
    "    \n",
    "    model = tf.keras.Sequential()\n",
    "    model.add(feature_extractor_layer)\n",
    "    model.add(layers.Dense(units=num_classes,activation='softmax', name='output_layer'))\n",
    "    \n",
    "    return model"
   ]
  },
  {
   "cell_type": "code",
   "execution_count": 7,
   "id": "26c9f6b6",
   "metadata": {},
   "outputs": [],
   "source": [
    "resnet_model = create_model(resnet_url,num_classes=train_data_10.num_classes)"
   ]
  },
  {
   "cell_type": "code",
   "execution_count": 8,
   "id": "41ede114",
   "metadata": {},
   "outputs": [
    {
     "name": "stdout",
     "output_type": "stream",
     "text": [
      "Model: \"sequential\"\n",
      "_________________________________________________________________\n",
      "Layer (type)                 Output Shape              Param #   \n",
      "=================================================================\n",
      "feature_ex_layer (KerasLayer (None, 2048)              23564800  \n",
      "_________________________________________________________________\n",
      "output_layer (Dense)         (None, 10)                20490     \n",
      "=================================================================\n",
      "Total params: 23,585,290\n",
      "Trainable params: 20,490\n",
      "Non-trainable params: 23,564,800\n",
      "_________________________________________________________________\n"
     ]
    }
   ],
   "source": [
    "resnet_model.summary()"
   ]
  },
  {
   "cell_type": "code",
   "execution_count": 9,
   "id": "e6fa115b",
   "metadata": {},
   "outputs": [],
   "source": [
    "resnet_model.compile(loss='categorical_crossentropy',\n",
    "                     optimizer='Adam',\n",
    "                     metrics=['accuracy'])"
   ]
  },
  {
   "cell_type": "code",
   "execution_count": 10,
   "id": "b768aa21",
   "metadata": {},
   "outputs": [
    {
     "name": "stdout",
     "output_type": "stream",
     "text": [
      "saving Tensorboard log files to tf_hub1/resnet_model120220722-174115\n",
      "Epoch 1/5\n",
      "24/24 [==============================] - 36s 1s/step - loss: 1.9457 - accuracy: 0.3747 - val_loss: 1.2547 - val_accuracy: 0.6116\n",
      "Epoch 2/5\n",
      "24/24 [==============================] - 14s 588ms/step - loss: 0.9361 - accuracy: 0.7240 - val_loss: 0.9179 - val_accuracy: 0.6916\n",
      "Epoch 3/5\n",
      "24/24 [==============================] - 14s 609ms/step - loss: 0.6433 - accuracy: 0.8187 - val_loss: 0.7995 - val_accuracy: 0.7364\n",
      "Epoch 4/5\n",
      "24/24 [==============================] - 14s 609ms/step - loss: 0.4896 - accuracy: 0.8667 - val_loss: 0.7416 - val_accuracy: 0.7580\n",
      "Epoch 5/5\n",
      "24/24 [==============================] - 14s 588ms/step - loss: 0.3920 - accuracy: 0.9080 - val_loss: 0.6985 - val_accuracy: 0.7676\n"
     ]
    }
   ],
   "source": [
    "resnet_history = resnet_model.fit(train_data_10, \n",
    "                                  epochs=5,\n",
    "                                  steps_per_epoch=len(train_data_10),\n",
    "                                  validation_data=test_data_10,\n",
    "                                  validation_steps=len(test_data_10),\n",
    "                                  callbacks=[create_tensorboard_callback(dir_name='tf_hub1', \n",
    "                                                                         experiment_name='resnet_model1')])"
   ]
  },
  {
   "cell_type": "code",
   "execution_count": 11,
   "id": "8671baa8",
   "metadata": {},
   "outputs": [],
   "source": [
    "import pandas as pd\n",
    "loss_df_resnet = pd.DataFrame(resnet_history.history)"
   ]
  },
  {
   "cell_type": "code",
   "execution_count": 12,
   "id": "187fac17",
   "metadata": {},
   "outputs": [
    {
     "data": {
      "text/plain": [
       "<AxesSubplot:>"
      ]
     },
     "execution_count": 12,
     "metadata": {},
     "output_type": "execute_result"
    },
    {
     "data": {
      "image/png": "[encoded data removed]",
      "text/plain": [
       "<Figure size 432x288 with 1 Axes>"
      ]
     },
     "metadata": {
      "needs_background": "light"
     },
     "output_type": "display_data"
    }
   ],
   "source": [
    "loss_df_resnet[['loss','val_loss']].plot()"
   ]
  },
  {
   "cell_type": "code",
   "execution_count": 13,
   "id": "d71722c0",
   "metadata": {},
   "outputs": [
    {
     "data": {
      "text/plain": [
       "<AxesSubplot:>"
      ]
     },
     "execution_count": 13,
     "metadata": {},
     "output_type": "execute_result"
    },
    {
     "data": {
      "image/png": "[encoded data removed]",
      "text/plain": [
       "<Figure size 432x288 with 1 Axes>"
      ]
     },
     "metadata": {
      "needs_background": "light"
     },
     "output_type": "display_data"
    }
   ],
   "source": [
    "loss_df_resnet[['val_accuracy','accuracy']].plot()"
   ]
  },
  {
   "cell_type": "code",
   "execution_count": 14,
   "id": "efbadd77",
   "metadata": {},
   "outputs": [],
   "source": [
    "efficient_model = create_model(efficientnet_url,num_classes=train_data_10.num_classes)"
   ]
  },
  {
   "cell_type": "code",
   "execution_count": 15,
   "id": "218c28a3",
   "metadata": {},
   "outputs": [
    {
     "name": "stdout",
     "output_type": "stream",
     "text": [
      "Model: \"sequential_1\"\n",
      "_________________________________________________________________\n",
      "Layer (type)                 Output Shape              Param #   \n",
      "=================================================================\n",
      "feature_ex_layer (KerasLayer (None, 1280)              4049564   \n",
      "_________________________________________________________________\n",
      "output_layer (Dense)         (None, 10)                12810     \n",
      "=================================================================\n",
      "Total params: 4,062,374\n",
      "Trainable params: 12,810\n",
      "Non-trainable params: 4,049,564\n",
      "_________________________________________________________________\n"
     ]
    }
   ],
   "source": [
    "efficient_model.summary()"
   ]
  },
  {
   "cell_type": "code",
   "execution_count": 16,
   "id": "3f07b332",
   "metadata": {},
   "outputs": [],
   "source": [
    "efficient_model.compile(loss='categorical_crossentropy',\n",
    "                        optimizer='Adam',\n",
    "                        metrics=['accuracy'])"
   ]
  },
  {
   "cell_type": "code",
   "execution_count": 17,
   "id": "6aeeb18c",
   "metadata": {},
   "outputs": [
    {
     "name": "stdout",
     "output_type": "stream",
     "text": [
      "saving Tensorboard log files to tf_hub2/efficient_model120220722-174317\n",
      "Epoch 1/5\n",
      "24/24 [==============================] - 40s 1s/step - loss: 1.7853 - accuracy: 0.4800 - val_loss: 1.2540 - val_accuracy: 0.7587\n",
      "Epoch 2/5\n",
      "24/24 [==============================] - 4s 179ms/step - loss: 1.0360 - accuracy: 0.7973 - val_loss: 0.8253 - val_accuracy: 0.8373\n",
      "Epoch 3/5\n",
      "24/24 [==============================] - 4s 175ms/step - loss: 0.7452 - accuracy: 0.8360 - val_loss: 0.6371 - val_accuracy: 0.8720\n",
      "Epoch 4/5\n",
      "24/24 [==============================] - 4s 180ms/step - loss: 0.5970 - accuracy: 0.8733 - val_loss: 0.5273 - val_accuracy: 0.8947\n",
      "Epoch 5/5\n",
      "24/24 [==============================] - 4s 176ms/step - loss: 0.5060 - accuracy: 0.8920 - val_loss: 0.4538 - val_accuracy: 0.9080\n"
     ]
    }
   ],
   "source": [
    "efficient_history = efficient_model.fit(train_data_10,epochs=5,\n",
    "                                        #steps_per_epoch=(len(train_data_10)/2),\n",
    "                                        validation_data=train_data_10,\n",
    "                                        #validation_steps=(len(test_data_10)/2),\n",
    "                                        callbacks=[create_tensorboard_callback(dir_name='tf_hub2', \n",
    "                                                                               experiment_name='efficient_model1')])"
   ]
  },
  {
   "cell_type": "code",
   "execution_count": null,
   "id": "e71b7d6b",
   "metadata": {},
   "outputs": [],
   "source": []
  }
 ],
 "metadata": {
  "kernelspec": {
   "display_name": "Python 3 (ipykernel)",
   "language": "python",
   "name": "python3"
  },
  "language_info": {
   "codemirror_mode": {
    "name": "ipython",
    "version": 3
   },
   "file_extension": ".py",
   "mimetype": "text/x-python",
   "name": "python",
   "nbconvert_exporter": "python",
   "pygments_lexer": "ipython3",
   "version": "3.9.12"
  }
 },
 "nbformat": 4,
 "nbformat_minor": 5
}
